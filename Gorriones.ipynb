{
 "cells": [
  {
   "cell_type": "code",
   "execution_count": 15,
   "metadata": {},
   "outputs": [],
   "source": [
    "import pandas as pd\n",
    "import numpy as np\n",
    "from sklearn.preprocessing import StandardScaler\n",
    "import matplotlib.pyplot as plt \n",
    "%matplotlib inline\n",
    "import seaborn as sns\n",
    "from sklearn.decomposition import PCA\n"
   ]
  },
  {
   "cell_type": "code",
   "execution_count": 2,
   "metadata": {},
   "outputs": [
    {
     "data": {
      "text/html": [
       "<div>\n",
       "<style scoped>\n",
       "    .dataframe tbody tr th:only-of-type {\n",
       "        vertical-align: middle;\n",
       "    }\n",
       "\n",
       "    .dataframe tbody tr th {\n",
       "        vertical-align: top;\n",
       "    }\n",
       "\n",
       "    .dataframe thead th {\n",
       "        text-align: right;\n",
       "    }\n",
       "</style>\n",
       "<table border=\"1\" class=\"dataframe\">\n",
       "  <thead>\n",
       "    <tr style=\"text-align: right;\">\n",
       "      <th></th>\n",
       "      <th>Bird</th>\n",
       "      <th>Longitud Total</th>\n",
       "      <th>Extension de las alas</th>\n",
       "      <th>Longitud pico y cabeza</th>\n",
       "      <th>Longitud del homero</th>\n",
       "      <th>Longitud de la quilla</th>\n",
       "    </tr>\n",
       "  </thead>\n",
       "  <tbody>\n",
       "    <tr>\n",
       "      <td>count</td>\n",
       "      <td>49.00000</td>\n",
       "      <td>49.000000</td>\n",
       "      <td>49.000000</td>\n",
       "      <td>49.000000</td>\n",
       "      <td>49.000000</td>\n",
       "      <td>49.000000</td>\n",
       "    </tr>\n",
       "    <tr>\n",
       "      <td>mean</td>\n",
       "      <td>25.00000</td>\n",
       "      <td>157.979592</td>\n",
       "      <td>241.326531</td>\n",
       "      <td>31.459184</td>\n",
       "      <td>18.469388</td>\n",
       "      <td>20.826531</td>\n",
       "    </tr>\n",
       "    <tr>\n",
       "      <td>std</td>\n",
       "      <td>14.28869</td>\n",
       "      <td>3.654277</td>\n",
       "      <td>5.067822</td>\n",
       "      <td>0.794753</td>\n",
       "      <td>0.564286</td>\n",
       "      <td>0.991374</td>\n",
       "    </tr>\n",
       "    <tr>\n",
       "      <td>min</td>\n",
       "      <td>1.00000</td>\n",
       "      <td>152.000000</td>\n",
       "      <td>230.000000</td>\n",
       "      <td>30.100000</td>\n",
       "      <td>17.200000</td>\n",
       "      <td>18.600000</td>\n",
       "    </tr>\n",
       "    <tr>\n",
       "      <td>25%</td>\n",
       "      <td>13.00000</td>\n",
       "      <td>155.000000</td>\n",
       "      <td>238.000000</td>\n",
       "      <td>30.900000</td>\n",
       "      <td>18.100000</td>\n",
       "      <td>20.200000</td>\n",
       "    </tr>\n",
       "    <tr>\n",
       "      <td>50%</td>\n",
       "      <td>25.00000</td>\n",
       "      <td>158.000000</td>\n",
       "      <td>242.000000</td>\n",
       "      <td>31.500000</td>\n",
       "      <td>18.500000</td>\n",
       "      <td>20.700000</td>\n",
       "    </tr>\n",
       "    <tr>\n",
       "      <td>75%</td>\n",
       "      <td>37.00000</td>\n",
       "      <td>161.000000</td>\n",
       "      <td>245.000000</td>\n",
       "      <td>32.000000</td>\n",
       "      <td>18.800000</td>\n",
       "      <td>21.500000</td>\n",
       "    </tr>\n",
       "    <tr>\n",
       "      <td>max</td>\n",
       "      <td>49.00000</td>\n",
       "      <td>165.000000</td>\n",
       "      <td>252.000000</td>\n",
       "      <td>33.400000</td>\n",
       "      <td>19.800000</td>\n",
       "      <td>23.100000</td>\n",
       "    </tr>\n",
       "  </tbody>\n",
       "</table>\n",
       "</div>"
      ],
      "text/plain": [
       "           Bird  Longitud Total  Extension de las alas  \\\n",
       "count  49.00000       49.000000              49.000000   \n",
       "mean   25.00000      157.979592             241.326531   \n",
       "std    14.28869        3.654277               5.067822   \n",
       "min     1.00000      152.000000             230.000000   \n",
       "25%    13.00000      155.000000             238.000000   \n",
       "50%    25.00000      158.000000             242.000000   \n",
       "75%    37.00000      161.000000             245.000000   \n",
       "max    49.00000      165.000000             252.000000   \n",
       "\n",
       "       Longitud pico y cabeza  Longitud del homero  Longitud de la quilla  \n",
       "count               49.000000            49.000000              49.000000  \n",
       "mean                31.459184            18.469388              20.826531  \n",
       "std                  0.794753             0.564286               0.991374  \n",
       "min                 30.100000            17.200000              18.600000  \n",
       "25%                 30.900000            18.100000              20.200000  \n",
       "50%                 31.500000            18.500000              20.700000  \n",
       "75%                 32.000000            18.800000              21.500000  \n",
       "max                 33.400000            19.800000              23.100000  "
      ]
     },
     "execution_count": 2,
     "metadata": {},
     "output_type": "execute_result"
    }
   ],
   "source": [
    "df = pd.read_csv('birds.csv',sep=',',low_memory=False)\n",
    "df.head()\n",
    "df.describe()"
   ]
  },
  {
   "cell_type": "code",
   "execution_count": 4,
   "metadata": {},
   "outputs": [
    {
     "name": "stdout",
     "output_type": "stream",
     "text": [
      "                              Bird  Longitud Total  Extension de las alas  \\\n",
      "Bird                    204.166667       13.104167               4.770833   \n",
      "Longitud Total           13.104167       13.353741              13.610969   \n",
      "Extension de las alas     4.770833       13.610969              25.682823   \n",
      "Longitud pico y cabeza    0.722917        1.922066               2.713605   \n",
      "Longitud del homero      -0.014583        1.330612               2.197704   \n",
      "Longitud de la quilla    -0.229167        2.192219               2.657823   \n",
      "\n",
      "                        Longitud pico y cabeza  Longitud del homero  \\\n",
      "Bird                                  0.722917            -0.014583   \n",
      "Longitud Total                        1.922066             1.330612   \n",
      "Extension de las alas                 2.713605             2.197704   \n",
      "Longitud pico y cabeza                0.631633             0.342266   \n",
      "Longitud del homero                   0.342266             0.318418   \n",
      "Longitud de la quilla                 0.414647             0.339371   \n",
      "\n",
      "                        Longitud de la quilla  \n",
      "Bird                                -0.229167  \n",
      "Longitud Total                       2.192219  \n",
      "Extension de las alas                2.657823  \n",
      "Longitud pico y cabeza               0.414647  \n",
      "Longitud del homero                  0.339371  \n",
      "Longitud de la quilla                0.982823  \n"
     ]
    }
   ],
   "source": [
    "#Cantidad de observaciones en este caso 49\n",
    "X = df\n",
    "n = X.shape[0]\n",
    "#matriz transpuesta\n",
    "X.T\n",
    "# #La matriz identidad de tamaño n\n",
    "np.eye(n)\n",
    "# #Es una matriz de unos de tamaño nxn, se calcula asi:\n",
    "np.ones((n,n))\n",
    "#Obtener la matriz de covarianzas, asi: Calcula la matriz S\n",
    "S = X.T /(n-1) @ (np.eye(n) - np.ones((n,n)) / n) @ X\n",
    "# #imprimir la matriz S\n",
    "print(S)\n"
   ]
  },
  {
   "cell_type": "code",
   "execution_count": 5,
   "metadata": {},
   "outputs": [
    {
     "name": "stdout",
     "output_type": "stream",
     "text": [
      "\n",
      "\n",
      "[[ 2.04166667e+02  1.31041667e+01  4.77083333e+00  7.22916667e-01\n",
      "  -1.45833333e-02 -2.29166667e-01]\n",
      " [ 1.31041667e+01  1.33537415e+01  1.36109694e+01  1.92206633e+00\n",
      "   1.33061224e+00  2.19221939e+00]\n",
      " [ 4.77083333e+00  1.36109694e+01  2.56828231e+01  2.71360544e+00\n",
      "   2.19770408e+00  2.65782313e+00]\n",
      " [ 7.22916667e-01  1.92206633e+00  2.71360544e+00  6.31632653e-01\n",
      "   3.42266156e-01  4.14647109e-01]\n",
      " [-1.45833333e-02  1.33061224e+00  2.19770408e+00  3.42266156e-01\n",
      "   3.18418367e-01  3.39370748e-01]\n",
      " [-2.29166667e-01  2.19221939e+00  2.65782313e+00  4.14647109e-01\n",
      "   3.39370748e-01  9.82823129e-01]]\n"
     ]
    }
   ],
   "source": [
    "#Matriz de covarianza\n",
    "print('\\n')\n",
    "COV=np.cov(X.T)\n",
    "print(COV)"
   ]
  },
  {
   "cell_type": "code",
   "execution_count": 7,
   "metadata": {},
   "outputs": [
    {
     "name": "stdout",
     "output_type": "stream",
     "text": [
      "[2.05247945e+02 3.46181611e+01 4.27980835e+00 6.00244118e-01\n",
      " 7.72836959e-02 3.12663510e-01] \n",
      " \n",
      "Autovalores Asociados\n",
      "[[ 9.96997674e-01  6.40030394e-02 -4.15941494e-02  1.29269202e-02\n",
      "   1.16297663e-03 -8.47625047e-04]\n",
      " [ 7.03984433e-02 -5.20072885e-01  8.30661246e-01 -1.80347521e-01\n",
      "   1.49059371e-02  4.26934599e-02]\n",
      " [ 3.19048040e-02 -8.36551827e-01 -5.39264121e-01 -4.59252519e-02\n",
      "  -3.91202914e-02  6.86862900e-02]\n",
      " [ 4.60819421e-03 -9.68564009e-02  4.19773023e-02  2.32200125e-01\n",
      "  -3.55241597e-01 -8.99289730e-01]\n",
      " [ 7.36103335e-04 -7.57831457e-02 -5.65354177e-03  1.96594677e-01\n",
      "   9.27798287e-01 -3.07839702e-01]\n",
      " [ 6.27033671e-05 -1.02394328e-01  1.25187746e-01  9.34147832e-01\n",
      "  -1.06017969e-01  2.99952403e-01]]\n",
      "\n",
      "\n"
     ]
    }
   ],
   "source": [
    "#obtencion de los valores propios, con el modulo linalg y la funcion eigh que retorna los autovalores de una matriz simetrica(los autovalores se muestran en una lista ascendente)\n",
    "#calcula y guarda los valores de la descomposicion espectral \n",
    "autovalores, autovectores = np.linalg.eig(S)\n",
    "print(autovalores, '\\n \\nAutovalores Asociados') # Muesta los autovalores de la matriz S\n",
    "print(autovectores) #Muestra los autovectores asociados a la matriz S\n",
    "print('\\n')"
   ]
  },
  {
   "cell_type": "code",
   "execution_count": 10,
   "metadata": {},
   "outputs": [
    {
     "name": "stdout",
     "output_type": "stream",
     "text": [
      "Suma de los autovalores\n",
      "245.13610544218488\n",
      "\n",
      "Suma de la traza de la matriz\n",
      "245.1361054421846\n"
     ]
    }
   ],
   "source": [
    "#Inicialmente verificamos que la traza de la matriz S (funcion trace de numpy) es igual a la suma de los autovalres, que calculamos en el paso anterior\n",
    "print(\"Suma de los autovalores\")\n",
    "print(sum(autovalores))\n",
    "print('\\nSuma de la traza de la matriz')\n",
    "print(np.trace(S))\n",
    "#la suma y la traza dela matriz deben ser iguales. "
   ]
  },
  {
   "cell_type": "code",
   "execution_count": 14,
   "metadata": {},
   "outputs": [
    {
     "name": "stdout",
     "output_type": "stream",
     "text": [
      "Proporcion de la variabilidad por cada componente\n",
      "[8.37281576e-01 1.41220164e-01 1.74589065e-02 2.44861570e-03\n",
      " 3.15268515e-04 1.27546903e-03]\n",
      "\n",
      " Porcentaje de la variabilidad\n",
      "[83.72815759545045, 14.122016428336833, 1.745890651672805, 0.24486157049126894, 0.1275469025526169, 0.03152685149614073]\n"
     ]
    }
   ],
   "source": [
    "# La proporcio de variabilidad explicada por cada componente la podemos calcular con:\n",
    "prop = autovalores / np.trace(S)\n",
    "#porcentaje = (autovalores / np.trace(S))*100\n",
    "print(\"Proporcion de la variabilidad por cada componente\")\n",
    "print(prop)\n",
    "# en porcentaje seria:\n",
    "print(\"\\nPorcentaje de la variabilidad\")\n",
    "#Ordenar los autovectores que obtuvimos de mayor a menor\n",
    "y = sorted((prop*100), reverse = True)\n",
    "print(y)"
   ]
  },
  {
   "cell_type": "code",
   "execution_count": 16,
   "metadata": {},
   "outputs": [
    {
     "data": {
      "image/png": "[encoded data removed]",
      "text/plain": [
       "<Figure size 432x288 with 1 Axes>"
      ]
     },
     "metadata": {
      "needs_background": "light"
     },
     "output_type": "display_data"
    }
   ],
   "source": [
    "#Grafico de sedimentacion, permite representar el porcentaje de variacion explicado por cada componente o factor en las ordenadas\n",
    "#y los componentes en orden decreciente en la abscisas con la finalidad de escoger los factores que retengan mas variacion\n",
    "\n",
    "plt.plot([\"Z1\", \"Z2\", \"Z3\", \"Z4\",\"Z5\",\"Z6\"], y, color =\"green\", marker ='*', linewidth=1, markersize=4)\n",
    "plt.title(\"Grafico de sedimentacion\")\n",
    "plt.xlabel(\"Componentes principales\")\n",
    "plt.ylabel(\"Porcentaje de variación\")\n",
    "plt.show()"
   ]
  },
  {
   "cell_type": "code",
   "execution_count": 22,
   "metadata": {},
   "outputs": [
    {
     "name": "stdout",
     "output_type": "stream",
     "text": [
      "[-4.5315225494904345e-18, -1.291483926604774e-15, 1.0, 1.0]\n"
     ]
    }
   ],
   "source": [
    "#Estandarizacion de las variables\n",
    "scaler = StandardScaler()\n",
    "DFT = scaler.fit_transform(df) # calcula media y desviacion estandar\n",
    "print([DFT[:,0].mean(),DFT[:,1].mean(),DFT[:,0].std(),DFT[:,1].std()])\n"
   ]
  },
  {
   "cell_type": "code",
   "execution_count": 51,
   "metadata": {},
   "outputs": [
    {
     "name": "stdout",
     "output_type": "stream",
     "text": [
      "Ajuste de PCA (49, 6)\n",
      "[0.60440389 0.17565058]\n",
      "suma: 0.7800544755202731\n"
     ]
    }
   ],
   "source": [
    "#Calculo de los componentes principales\n",
    "# pca = PCA(n_components=2)\n",
    "# principalComponents = pca.fit_transform(DFT)\n",
    "\n",
    "#print(principalComponents)\n",
    "# principalDf = pd.DataFrame(data = principalComponents\n",
    "#               , columns = ['principal component 1', 'principal component 2'])\n",
    "# principalDf.describe()\n",
    "\n",
    "# #Creamos un objeto PCA y aplicamos\n",
    "# escala=StandardScaler()# estandarizar las variables\n",
    "# escala.fit(cuanti)# calcula media y desviacion estandar\n",
    "# CuantiScale=escala.transform(cuanti)\n",
    "# print(CuantiScale)\n",
    "#Creamos un objeto PCA y aplicamos\n",
    "pca=PCA(n_components=2) # Otra opcion pca=PCA(.85)\n",
    "pca.fit(DFT)\n",
    "principalComponents=pca.transform(DFT) # convertimos nuestros datos con las nuevas dimensiones de PCA\n",
    "print(\"Ajuste de PCA\", DFT.shape)\n",
    "expl = pca.explained_variance_ratio_\n",
    "print(expl)\n",
    "print('suma:',sum(expl[0:5]))"
   ]
  },
  {
   "cell_type": "code",
   "execution_count": 52,
   "metadata": {},
   "outputs": [
    {
     "data": {
      "image/png": "[encoded data removed]",
      "text/plain": [
       "<Figure size 432x288 with 2 Axes>"
      ]
     },
     "metadata": {
      "needs_background": "light"
     },
     "output_type": "display_data"
    }
   ],
   "source": [
    "import matplotlib.pyplot as plt \n",
    "import seaborn as sns\n",
    "fig, ax = plt.subplots()\n",
    "s=sns.heatmap(df.iloc[:,1:6].corr(),cmap='coolwarm') \n",
    "s.set_yticklabels(s.get_yticklabels(),rotation=30,fontsize=7)\n",
    "s.set_xticklabels(s.get_xticklabels(),rotation=30,fontsize=7)\n",
    "ax.set_xlim(0,4)\n",
    "ax.set_ylim(0,4)\n",
    "plt.show()"
   ]
  },
  {
   "cell_type": "code",
   "execution_count": 53,
   "metadata": {},
   "outputs": [
    {
     "data": {
      "text/html": [
       "<div>\n",
       "<style scoped>\n",
       "    .dataframe tbody tr th:only-of-type {\n",
       "        vertical-align: middle;\n",
       "    }\n",
       "\n",
       "    .dataframe tbody tr th {\n",
       "        vertical-align: top;\n",
       "    }\n",
       "\n",
       "    .dataframe thead th {\n",
       "        text-align: right;\n",
       "    }\n",
       "</style>\n",
       "<table border=\"1\" class=\"dataframe\">\n",
       "  <thead>\n",
       "    <tr style=\"text-align: right;\">\n",
       "      <th></th>\n",
       "      <th>Longitud Total</th>\n",
       "      <th>Extension de las alas</th>\n",
       "      <th>Longitud pico y cabeza</th>\n",
       "      <th>Longitud del homero</th>\n",
       "      <th>Longitud de la quilla</th>\n",
       "    </tr>\n",
       "  </thead>\n",
       "  <tbody>\n",
       "    <tr>\n",
       "      <td>Longitud Total</td>\n",
       "      <td>13.353741</td>\n",
       "      <td>13.610969</td>\n",
       "      <td>1.922066</td>\n",
       "      <td>1.330612</td>\n",
       "      <td>2.192219</td>\n",
       "    </tr>\n",
       "    <tr>\n",
       "      <td>Extension de las alas</td>\n",
       "      <td>13.610969</td>\n",
       "      <td>25.682823</td>\n",
       "      <td>2.713605</td>\n",
       "      <td>2.197704</td>\n",
       "      <td>2.657823</td>\n",
       "    </tr>\n",
       "    <tr>\n",
       "      <td>Longitud pico y cabeza</td>\n",
       "      <td>1.922066</td>\n",
       "      <td>2.713605</td>\n",
       "      <td>0.631633</td>\n",
       "      <td>0.342266</td>\n",
       "      <td>0.414647</td>\n",
       "    </tr>\n",
       "    <tr>\n",
       "      <td>Longitud del homero</td>\n",
       "      <td>1.330612</td>\n",
       "      <td>2.197704</td>\n",
       "      <td>0.342266</td>\n",
       "      <td>0.318418</td>\n",
       "      <td>0.339371</td>\n",
       "    </tr>\n",
       "    <tr>\n",
       "      <td>Longitud de la quilla</td>\n",
       "      <td>2.192219</td>\n",
       "      <td>2.657823</td>\n",
       "      <td>0.414647</td>\n",
       "      <td>0.339371</td>\n",
       "      <td>0.982823</td>\n",
       "    </tr>\n",
       "  </tbody>\n",
       "</table>\n",
       "</div>"
      ],
      "text/plain": [
       "                        Longitud Total  Extension de las alas  \\\n",
       "Longitud Total               13.353741              13.610969   \n",
       "Extension de las alas        13.610969              25.682823   \n",
       "Longitud pico y cabeza        1.922066               2.713605   \n",
       "Longitud del homero           1.330612               2.197704   \n",
       "Longitud de la quilla         2.192219               2.657823   \n",
       "\n",
       "                        Longitud pico y cabeza  Longitud del homero  \\\n",
       "Longitud Total                        1.922066             1.330612   \n",
       "Extension de las alas                 2.713605             2.197704   \n",
       "Longitud pico y cabeza                0.631633             0.342266   \n",
       "Longitud del homero                   0.342266             0.318418   \n",
       "Longitud de la quilla                 0.414647             0.339371   \n",
       "\n",
       "                        Longitud de la quilla  \n",
       "Longitud Total                       2.192219  \n",
       "Extension de las alas                2.657823  \n",
       "Longitud pico y cabeza               0.414647  \n",
       "Longitud del homero                  0.339371  \n",
       "Longitud de la quilla                0.982823  "
      ]
     },
     "execution_count": 53,
     "metadata": {},
     "output_type": "execute_result"
    }
   ],
   "source": [
    "df.iloc[:,1:6].cov()"
   ]
  },
  {
   "cell_type": "code",
   "execution_count": 54,
   "metadata": {},
   "outputs": [
    {
     "data": {
      "image/png": "[encoded data removed]",
      "text/plain": [
       "<Figure size 432x288 with 2 Axes>"
      ]
     },
     "metadata": {
      "needs_background": "light"
     },
     "output_type": "display_data"
    }
   ],
   "source": [
    "import matplotlib.pyplot as plt \n",
    "import seaborn as sns\n",
    "fig, ax = plt.subplots()\n",
    "s=sns.heatmap(df.iloc[:,1:6].cov(),cmap='coolwarm', center=0,\n",
    "             linewidths=.5, cbar_kws={\"shrink\": .5},annot=True) \n",
    "s.set_yticklabels(s.get_yticklabels(),rotation=30,fontsize=7)\n",
    "s.set_xticklabels(s.get_xticklabels(),rotation=30,fontsize=7)\n",
    "ax.set_xlim(0,4)\n",
    "ax.set_ylim(0,4)\n",
    "plt.show()"
   ]
  },
  {
   "cell_type": "code",
   "execution_count": 55,
   "metadata": {},
   "outputs": [
    {
     "data": {
      "text/plain": [
       "array([[-0.06309985, -0.45428581, -0.46062181, -0.44942619, -0.46824359,\n",
       "        -0.39526499],\n",
       "       [ 0.95394136,  0.21073238, -0.02122818, -0.04372013, -0.14183205,\n",
       "        -0.15201752]])"
      ]
     },
     "execution_count": 55,
     "metadata": {},
     "output_type": "execute_result"
    }
   ],
   "source": [
    "pca.components_"
   ]
  },
  {
   "cell_type": "code",
   "execution_count": 56,
   "metadata": {},
   "outputs": [
    {
     "name": "stdout",
     "output_type": "stream",
     "text": [
      "[0.60440389 0.17565058]\n",
      "suma: 0.7800544755202731\n"
     ]
    }
   ],
   "source": [
    "expl = pca.explained_variance_ratio_\n",
    "print(expl)\n",
    "print('suma:',sum(expl[0:5]))"
   ]
  },
  {
   "cell_type": "code",
   "execution_count": 58,
   "metadata": {},
   "outputs": [
    {
     "data": {
      "image/png": "[encoded data removed]",
      "text/plain": [
       "<Figure size 432x288 with 1 Axes>"
      ]
     },
     "metadata": {
      "needs_background": "light"
     },
     "output_type": "display_data"
    }
   ],
   "source": [
    "#graficamos en 2 Dimensiones, tomando los 2 primeros componentes principales\n",
    "Xax=principalComponents[:,0]\n",
    "Yax=principalComponents[:,1]\n",
    "plt.scatter(Xax, Yax) \n",
    "plt.xlabel(\"Primer componente principal\",fontsize=14)\n",
    "plt.ylabel(\"Segundo componente principal\",fontsize=14)\n",
    "plt.show()"
   ]
  }
 ],
 "metadata": {
  "kernelspec": {
   "display_name": "Python 3",
   "language": "python",
   "name": "python3"
  },
  "language_info": {
   "codemirror_mode": {
    "name": "ipython",
    "version": 3
   },
   "file_extension": ".py",
   "mimetype": "text/x-python",
   "name": "python",
   "nbconvert_exporter": "python",
   "pygments_lexer": "ipython3",
   "version": "3.7.4"
  }
 },
 "nbformat": 4,
 "nbformat_minor": 4
}
