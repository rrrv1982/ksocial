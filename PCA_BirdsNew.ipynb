{
 "cells": [
  {
   "cell_type": "code",
   "execution_count": 1,
   "metadata": {},
   "outputs": [],
   "source": [
    "import pandas as pd\n",
    "import numpy as np\n",
    "from sklearn.preprocessing import StandardScaler\n",
    "import matplotlib.pyplot as plt \n",
    "import seaborn as sns\n",
    "from sklearn.decomposition import PCA\n",
    "#from mpl_toolkits.mplot3d import Axes3D"
   ]
  },
  {
   "cell_type": "code",
   "execution_count": 3,
   "metadata": {},
   "outputs": [
    {
     "data": {
      "text/html": [
       "<div>\n",
       "<style scoped>\n",
       "    .dataframe tbody tr th:only-of-type {\n",
       "        vertical-align: middle;\n",
       "    }\n",
       "\n",
       "    .dataframe tbody tr th {\n",
       "        vertical-align: top;\n",
       "    }\n",
       "\n",
       "    .dataframe thead th {\n",
       "        text-align: right;\n",
       "    }\n",
       "</style>\n",
       "<table border=\"1\" class=\"dataframe\">\n",
       "  <thead>\n",
       "    <tr style=\"text-align: right;\">\n",
       "      <th></th>\n",
       "      <th>Bird</th>\n",
       "      <th>Longitud Total</th>\n",
       "      <th>Extension de las alas</th>\n",
       "      <th>Longitud pico y cabeza</th>\n",
       "      <th>Longitud del homero</th>\n",
       "      <th>Longitud de la quilla</th>\n",
       "    </tr>\n",
       "  </thead>\n",
       "  <tbody>\n",
       "    <tr>\n",
       "      <td>44</td>\n",
       "      <td>45</td>\n",
       "      <td>155</td>\n",
       "      <td>235</td>\n",
       "      <td>30.7</td>\n",
       "      <td>17.7</td>\n",
       "      <td>19.6</td>\n",
       "    </tr>\n",
       "    <tr>\n",
       "      <td>45</td>\n",
       "      <td>46</td>\n",
       "      <td>162</td>\n",
       "      <td>247</td>\n",
       "      <td>31.9</td>\n",
       "      <td>19.1</td>\n",
       "      <td>20.4</td>\n",
       "    </tr>\n",
       "    <tr>\n",
       "      <td>46</td>\n",
       "      <td>47</td>\n",
       "      <td>153</td>\n",
       "      <td>237</td>\n",
       "      <td>30.6</td>\n",
       "      <td>18.6</td>\n",
       "      <td>20.4</td>\n",
       "    </tr>\n",
       "    <tr>\n",
       "      <td>47</td>\n",
       "      <td>48</td>\n",
       "      <td>162</td>\n",
       "      <td>245</td>\n",
       "      <td>32.5</td>\n",
       "      <td>18.5</td>\n",
       "      <td>21.1</td>\n",
       "    </tr>\n",
       "    <tr>\n",
       "      <td>48</td>\n",
       "      <td>49</td>\n",
       "      <td>164</td>\n",
       "      <td>248</td>\n",
       "      <td>32.3</td>\n",
       "      <td>18.8</td>\n",
       "      <td>20.9</td>\n",
       "    </tr>\n",
       "  </tbody>\n",
       "</table>\n",
       "</div>"
      ],
      "text/plain": [
       "    Bird  Longitud Total  Extension de las alas  Longitud pico y cabeza  \\\n",
       "44    45             155                    235                    30.7   \n",
       "45    46             162                    247                    31.9   \n",
       "46    47             153                    237                    30.6   \n",
       "47    48             162                    245                    32.5   \n",
       "48    49             164                    248                    32.3   \n",
       "\n",
       "    Longitud del homero  Longitud de la quilla  \n",
       "44                 17.7                   19.6  \n",
       "45                 19.1                   20.4  \n",
       "46                 18.6                   20.4  \n",
       "47                 18.5                   21.1  \n",
       "48                 18.8                   20.9  "
      ]
     },
     "execution_count": 3,
     "metadata": {},
     "output_type": "execute_result"
    }
   ],
   "source": [
    "#pagina web consultada https://www.jacobsoft.com.mx/es_mx/analisis-del-componente-principal/\n",
    "df = pd.read_csv('birds.csv',sep=',',low_memory=False)\n",
    "df.head()\n",
    "df.tail()"
   ]
  },
  {
   "cell_type": "code",
   "execution_count": null,
   "metadata": {},
   "outputs": [],
   "source": [
    "#Varianza: es la medida que nos indica que tan disperso o distribuido se encuentra un conjunto de valores.\n",
    "#Covarianza: Es la medida de que tanto dos variables cambian juntas. Es una medida de fuerza de la correlación \n",
    "            #entre dos conjuntos de variables. Si la covarianza entre dos variables es cero, las variables no están \n",
    "            #correlacionadas. Sin embargo, el que dos variables no estén correlacionadas, no implica que sean independientes, dado que la correlación es sólo una medida de dependencia lineal\n",
    "#Si la covarianza no es 0, el signo indica si las variables están positiva o negativamente correlacionadas.    \n",
    "#Si dos variables están positivamente correlacionadas, significa que una incrementa su valor cuando la otra lo incrementa\n",
    "#Cuando dos variables están negativamente correlacionadas significa que una variable tiene un decremento relativo a su media cuando la otra variable presenta un incremento relativo a su media.\n"
   ]
  },
  {
   "cell_type": "code",
   "execution_count": 13,
   "metadata": {},
   "outputs": [
    {
     "name": "stdout",
     "output_type": "stream",
     "text": [
      "[[ 2.04166667e+02  1.31041667e+01  4.77083333e+00  7.22916667e-01\n",
      "  -1.45833333e-02 -2.29166667e-01]\n",
      " [ 1.31041667e+01  1.33537415e+01  1.36109694e+01  1.92206633e+00\n",
      "   1.33061224e+00  2.19221939e+00]\n",
      " [ 4.77083333e+00  1.36109694e+01  2.56828231e+01  2.71360544e+00\n",
      "   2.19770408e+00  2.65782313e+00]\n",
      " [ 7.22916667e-01  1.92206633e+00  2.71360544e+00  6.31632653e-01\n",
      "   3.42266156e-01  4.14647109e-01]\n",
      " [-1.45833333e-02  1.33061224e+00  2.19770408e+00  3.42266156e-01\n",
      "   3.18418367e-01  3.39370748e-01]\n",
      " [-2.29166667e-01  2.19221939e+00  2.65782313e+00  4.14647109e-01\n",
      "   3.39370748e-01  9.82823129e-01]]\n"
     ]
    }
   ],
   "source": [
    "#matriz de covarianza describe los valores de la covarianza entre cada par de valores del conjunto de datos. \n",
    "covarianza = np.cov(df.T)\n",
    "print(covarianza)\n",
    "#otra manera de sacar la matriz de covarianza.\n",
    "cov = np.cov(np.transpose(df))\n",
    "#print('\\n',cov)"
   ]
  },
  {
   "cell_type": "code",
   "execution_count": null,
   "metadata": {},
   "outputs": [],
   "source": [
    "#Vectores Propios y valores propios: Un vector se describe por su direccion y magnitud o longitud. \n",
    "##Un vector propio de una matriz es un vector no cero que satisface la siguiente ecuacion Av = lanbda v (v es el vector propio A es una matriz cuadrada y lanbda es un escalar llamado valor propio)\n",
    "#por lo que el vector propio de una matriz es un vector que pertenece a, y caracteriza la estructura de los datos.\n",
    "\n",
    "##Tanto los vectores propios como los valores propios sólo pueden ser derivados de matrices cuadradas y no todas las matrices cuadradas tienen vectores propios o valores propios. \n",
    "##Los componentes principales de una matriz  son los vectores propios de su matriz de covarianzas, ordenados por sus correspondientes valores propios.\n",
    "##El vector propio con el valor propio más grande es el primer componente principal, \n",
    "##el segundo componente principal es el vector propio con el segundo valor propio más grande y así sucesivamente. "
   ]
  },
  {
   "cell_type": "code",
   "execution_count": 12,
   "metadata": {},
   "outputs": [
    {
     "data": {
      "text/plain": [
       "array([2.05247945e+02, 3.46181611e+01, 4.27980835e+00, 6.00244118e-01,\n",
       "       7.72836959e-02, 3.12663510e-01])"
      ]
     },
     "execution_count": 12,
     "metadata": {},
     "output_type": "execute_result"
    }
   ],
   "source": [
    "#Calcular los valores propios y vectores propios\n",
    "v, w = np.linalg.eig(covarianza)\n",
    "w; v"
   ]
  },
  {
   "cell_type": "code",
   "execution_count": null,
   "metadata": {},
   "outputs": [],
   "source": [
    "#Reducción de la dimensionalidad: utilizando PCA para reduccir el conjunto de datos a dos dimensiones \n",
    "#los componentes principales son los vectores propios de la matriz de covarianza ordenada por los valores propios.\n",
    "#Los componentes principales se pueden encontrar utilizando dos técnicas diferentes. La primera técnica requiere calcular la matriz de covarianza de los datos. \n",
    "#La segunda técnica utiliza la descomposición del valor singular de la matriz de datos para encontrar los vectores y la raíz cuadrada de los valores propios de la matriz de covarianza."
   ]
  },
  {
   "cell_type": "code",
   "execution_count": 38,
   "metadata": {},
   "outputs": [
    {
     "data": {
      "text/plain": [
       "array([ 1,  2,  3,  4,  5,  6,  7,  8,  9, 10, 11, 12, 13, 14, 15, 16, 17,\n",
       "       18, 19, 20, 21, 22, 23, 24, 25, 26, 27, 28, 29, 30, 31, 32, 33, 34,\n",
       "       35, 36, 37, 38, 39, 40, 41, 42, 43, 44, 45, 46, 47, 48, 49],\n",
       "      dtype=int64)"
      ]
     },
     "execution_count": 38,
     "metadata": {},
     "output_type": "execute_result"
    }
   ],
   "source": [
    "X = df.iloc[:, 1:6].values\n",
    "y = df.iloc[:, 0].values\n",
    "y"
   ]
  },
  {
   "cell_type": "code",
   "execution_count": 39,
   "metadata": {},
   "outputs": [],
   "source": [
    "from sklearn.model_selection import train_test_split\n",
    "\n",
    "X_train, X_test, y_train, y_test = train_test_split(X, y, test_size = 0.2, random_state = 0)\n",
    "\n"
   ]
  },
  {
   "cell_type": "code",
   "execution_count": null,
   "metadata": {},
   "outputs": [],
   "source": []
  },
  {
   "cell_type": "code",
   "execution_count": 40,
   "metadata": {},
   "outputs": [],
   "source": [
    "from sklearn.preprocessing import StandardScaler\n",
    "sc = StandardScaler()\n",
    "X_train = sc.fit_transform(X_train)\n",
    "X_test = sc.transform(X_test)"
   ]
  },
  {
   "cell_type": "code",
   "execution_count": 41,
   "metadata": {},
   "outputs": [],
   "source": [
    "from sklearn.decomposition import PCA\n",
    "pca = PCA(n_components = 2)\n",
    "X_train = pca.fit_transform(X_train)\n",
    "X_test = pca.transform(X_test)"
   ]
  },
  {
   "cell_type": "code",
   "execution_count": 46,
   "metadata": {},
   "outputs": [
    {
     "data": {
      "text/plain": [
       "array([0.77995995, 0.08803669])"
      ]
     },
     "execution_count": 46,
     "metadata": {},
     "output_type": "execute_result"
    }
   ],
   "source": [
    "# Explicación de la varianza\n",
    "# Creamos un vector con el porcentaje de influencia de la varianza \n",
    "# para las dos variables resultantes del conjunto de datos\n",
    "explained_variance = pca.explained_variance_ratio_\n",
    "explained_variance"
   ]
  },
  {
   "cell_type": "code",
   "execution_count": 52,
   "metadata": {},
   "outputs": [
    {
     "name": "stderr",
     "output_type": "stream",
     "text": [
      "C:\\Users\\rrruiz\\AppData\\Local\\Continuum\\anaconda3\\lib\\site-packages\\sklearn\\linear_model\\logistic.py:432: FutureWarning: Default solver will be changed to 'lbfgs' in 0.22. Specify a solver to silence this warning.\n",
      "  FutureWarning)\n",
      "C:\\Users\\rrruiz\\AppData\\Local\\Continuum\\anaconda3\\lib\\site-packages\\sklearn\\linear_model\\logistic.py:469: FutureWarning: Default multi_class will be changed to 'auto' in 0.22. Specify the multi_class option to silence this warning.\n",
      "  \"this warning.\", FutureWarning)\n"
     ]
    }
   ],
   "source": [
    "# Fitting Logistic Regression to the Training set\n",
    "from sklearn.linear_model import LogisticRegression\n",
    "classifier = LogisticRegression(random_state = 0)\n",
    "classifier.fit(X_train, y_train)\n",
    "\n",
    "# Predicting the Test set results\n",
    "y_pred = classifier.predict(X_test)\n",
    "\n",
    "# Making the Confusion Matrix\n",
    "from sklearn.metrics import confusion_matrix\n",
    "cm = confusion_matrix(y_test, y_pred)"
   ]
  },
  {
   "cell_type": "code",
   "execution_count": 53,
   "metadata": {},
   "outputs": [
    {
     "name": "stderr",
     "output_type": "stream",
     "text": [
      "'c' argument looks like a single numeric RGB or RGBA sequence, which should be avoided as value-mapping will have precedence in case its length matches with 'x' & 'y'.  Please use a 2-D array with a single row if you really want to specify the same RGB or RGBA value for all points.\n",
      "'c' argument looks like a single numeric RGB or RGBA sequence, which should be avoided as value-mapping will have precedence in case its length matches with 'x' & 'y'.  Please use a 2-D array with a single row if you really want to specify the same RGB or RGBA value for all points.\n",
      "'c' argument looks like a single numeric RGB or RGBA sequence, which should be avoided as value-mapping will have precedence in case its length matches with 'x' & 'y'.  Please use a 2-D array with a single row if you really want to specify the same RGB or RGBA value for all points.\n",
      "'c' argument looks like a single numeric RGB or RGBA sequence, which should be avoided as value-mapping will have precedence in case its length matches with 'x' & 'y'.  Please use a 2-D array with a single row if you really want to specify the same RGB or RGBA value for all points.\n",
      "'c' argument looks like a single numeric RGB or RGBA sequence, which should be avoided as value-mapping will have precedence in case its length matches with 'x' & 'y'.  Please use a 2-D array with a single row if you really want to specify the same RGB or RGBA value for all points.\n",
      "'c' argument looks like a single numeric RGB or RGBA sequence, which should be avoided as value-mapping will have precedence in case its length matches with 'x' & 'y'.  Please use a 2-D array with a single row if you really want to specify the same RGB or RGBA value for all points.\n",
      "'c' argument looks like a single numeric RGB or RGBA sequence, which should be avoided as value-mapping will have precedence in case its length matches with 'x' & 'y'.  Please use a 2-D array with a single row if you really want to specify the same RGB or RGBA value for all points.\n",
      "'c' argument looks like a single numeric RGB or RGBA sequence, which should be avoided as value-mapping will have precedence in case its length matches with 'x' & 'y'.  Please use a 2-D array with a single row if you really want to specify the same RGB or RGBA value for all points.\n",
      "'c' argument looks like a single numeric RGB or RGBA sequence, which should be avoided as value-mapping will have precedence in case its length matches with 'x' & 'y'.  Please use a 2-D array with a single row if you really want to specify the same RGB or RGBA value for all points.\n",
      "'c' argument looks like a single numeric RGB or RGBA sequence, which should be avoided as value-mapping will have precedence in case its length matches with 'x' & 'y'.  Please use a 2-D array with a single row if you really want to specify the same RGB or RGBA value for all points.\n"
     ]
    },
    {
     "data": {
      "image/png": "[encoded data removed]",
      "text/plain": [
       "<Figure size 432x288 with 1 Axes>"
      ]
     },
     "metadata": {
      "needs_background": "light"
     },
     "output_type": "display_data"
    }
   ],
   "source": [
    "from matplotlib.colors import ListedColormap\n",
    "X_set, y_set = X_test, y_test\n",
    "X1, X2 = np.meshgrid(np.arange(start = X_set[:, 0].min() - 1, stop = X_set[:, 0].max() + 1, step = 0.01),\n",
    "                     np.arange(start = X_set[:, 1].min() - 1, stop = X_set[:, 1].max() + 1, step = 0.01))\n",
    "plt.contourf(X1, X2, classifier.predict(np.array([X1.ravel(), X2.ravel()]).T).reshape(X1.shape),\n",
    "             alpha = 0.75, cmap = ListedColormap(('red', 'green', 'blue')))\n",
    "plt.xlim(X1.min(), X1.max())\n",
    "plt.ylim(X2.min(), X2.max())\n",
    "for i, j in enumerate(np.unique(y_set)):\n",
    "    plt.scatter(X_set[y_set == j, 0], X_set[y_set == j, 1],\n",
    "                c = ListedColormap(('red', 'green', 'blue'))(i), label = j)\n",
    "plt.title('Logistic Regression (Test set)')\n",
    "plt.xlabel('PC1')\n",
    "plt.ylabel('PC2')\n",
    "plt.legend()\n",
    "plt.show()"
   ]
  },
  {
   "cell_type": "code",
   "execution_count": null,
   "metadata": {},
   "outputs": [],
   "source": []
  },
  {
   "cell_type": "code",
   "execution_count": 22,
   "metadata": {},
   "outputs": [
    {
     "data": {
      "text/plain": [
       "Longitud Total              int64\n",
       "Extension de las alas       int64\n",
       "Longitud pico y cabeza    float64\n",
       "Longitud del homero       float64\n",
       "Longitud de la quilla     float64\n",
       "dtype: object"
      ]
     },
     "execution_count": 22,
     "metadata": {},
     "output_type": "execute_result"
    }
   ],
   "source": [
    "df.columns\n",
    "cuanti=df.loc[:,['Longitud Total', 'Extension de las alas',\n",
    "       'Longitud pico y cabeza', 'Longitud del homero',\n",
    "       'Longitud de la quilla']]\n",
    "cuanti.dtypes\n",
    "#cuanti"
   ]
  },
  {
   "cell_type": "code",
   "execution_count": 23,
   "metadata": {},
   "outputs": [
    {
     "data": {
      "image/png": "[encoded data removed]",
      "text/plain": [
       "<Figure size 432x288 with 2 Axes>"
      ]
     },
     "metadata": {
      "needs_background": "light"
     },
     "output_type": "display_data"
    }
   ],
   "source": [
    "import seaborn as sns\n",
    "import matplotlib.pyplot as plt\n",
    "sns.heatmap(cuanti.corr(), annot = True)\n",
    "plt.show()"
   ]
  },
  {
   "cell_type": "code",
   "execution_count": 24,
   "metadata": {},
   "outputs": [
    {
     "name": "stdout",
     "output_type": "stream",
     "text": [
      "[[-0.54733295  0.73237324  0.1790186   0.05481173 -0.33278492]\n",
      " [-1.10030851 -0.26446811 -1.34653117 -1.01949826 -1.25002336]\n",
      " [-1.37679628 -0.26446811 -0.58375629 -0.12423993 -0.23086954]\n",
      " [-1.37679628 -1.06194119 -0.71088544 -1.37760159 -0.63853107]\n",
      " [-0.82382073  0.3336367   0.05188945  0.2338634  -0.53661569]\n",
      " [ 1.3880815   1.13110978  0.68753519  0.95007006  0.07487661]\n",
      " [-0.27084517 -0.66320465 -0.71088544 -0.12423993 -0.63853107]\n",
      " [-0.82382073 -0.46383638  1.70456837  0.2338634   0.38062275]\n",
      " [ 1.66456928  1.33047805  1.57743922  1.12912173  0.27870737]\n",
      " [ 0.00564261 -0.66320465 -0.58375629  0.59196673  1.19594581]\n",
      " [ 0.00564261 -0.26446811 -0.20236885  0.2338634   1.19594581]\n",
      " [ 0.55861816  0.53300497 -0.45662714  0.2338634  -0.33278492]\n",
      " [ 0.83510594  0.93174151  1.06892263  1.48722506  0.99211505]\n",
      " [-0.27084517  0.73237324  0.68753519  1.12912173 -0.84236183]\n",
      " [-0.27084517 -1.26130946  0.05188945 -0.66139493 -1.0461926 ]\n",
      " [-0.54733295 -0.86257292 -0.71088544 -0.84044659 -0.53661569]\n",
      " [ 0.00564261  0.53300497 -0.0752397   0.05481173  0.78828428]\n",
      " [-1.37679628 -0.66320465 -1.21940203 -0.48234326  0.07487661]\n",
      " [-0.82382073 -1.06194119 -1.47366032  0.05481173 -0.74044645]\n",
      " [ 1.3880815   0.93174151  1.32318092  0.2338634   1.09403043]\n",
      " [ 0.28213039 -1.06194119  0.05188945 -0.84044659  0.6863689 ]\n",
      " [-0.82382073 -0.26446811 -0.0752397  -0.84044659 -0.12895416]\n",
      " [-0.54733295 -0.26446811  0.05188945 -0.48234326 -0.23086954]\n",
      " [ 0.55861816  0.13426843  1.45031007  0.59196673  0.89019966]\n",
      " [-1.65328406 -1.85941428 -1.47366032 -2.27285992 -1.0461926 ]\n",
      " [ 0.55861816  1.72921459  0.30614774  0.59196673  1.70552272]\n",
      " [-0.82382073 -0.86257292 -0.58375629  0.05481173 -0.84236183]\n",
      " [-0.27084517  0.73237324  0.94179348  1.84532839  0.58445352]\n",
      " [ 1.94105706  0.73237324  2.08595581  2.38248339  1.90935349]\n",
      " [-1.37679628 -2.05878255 -1.72791862 -2.09380825 -1.0461926 ]\n",
      " [ 1.11159372 -0.46383638 -1.47366032 -0.84044659  2.31701501]\n",
      " [ 1.11159372  0.3336367   0.1790186   0.59196673  0.48253814]\n",
      " [ 0.28213039  0.73237324  0.43327689  0.05481173  0.89019966]\n",
      " [ 0.28213039  1.13110978 -0.71088544 -0.66139493 -1.86151565]\n",
      " [-0.82382073  0.3336367  -0.71088544  0.05481173  0.48253814]\n",
      " [ 1.11159372  2.12795113  0.56040604  1.12912173  1.39977657]\n",
      " [-1.65328406 -2.25815082 -1.34653117 -2.09380825 -2.26917718]\n",
      " [ 0.28213039  0.13426843 -0.83801458 -0.48234326 -0.33278492]\n",
      " [-0.82382073 -0.66320465 -0.32949799 -1.01949826 -1.55576951]\n",
      " [ 1.3880815   1.52984632  2.46734325  1.84532839  2.01126887]\n",
      " [ 1.3880815   0.13426843 -0.58375629 -0.66139493 -0.12895416]\n",
      " [-0.54733295 -0.86257292  0.30614774 -0.48234326 -0.53661569]\n",
      " [ 0.28213039 -0.66320465  0.05188945 -0.12423993 -0.53661569]\n",
      " [ 0.83510594  0.73237324  0.81466433  1.12912173 -0.02703877]\n",
      " [-0.82382073 -1.26130946 -0.96514373 -1.37760159 -1.25002336]\n",
      " [ 1.11159372  1.13110978  0.56040604  1.12912173 -0.4347003 ]\n",
      " [-1.37679628 -0.86257292 -1.09227288  0.2338634  -0.4347003 ]\n",
      " [ 1.11159372  0.73237324  1.32318092  0.05481173  0.27870737]\n",
      " [ 1.66456928  1.33047805  1.06892263  0.59196673  0.07487661]]\n",
      "Ajuste de PCA (49, 5)\n",
      "[0.72319567 0.10630082 0.07728491 0.0603131  0.0329055 ]\n",
      "suma: 1.0\n"
     ]
    }
   ],
   "source": [
    "escala=StandardScaler()# estandarizar las variables\n",
    "escala.fit(cuanti)# calcula media y desviacion estandar\n",
    "CuantiScale=escala.transform(cuanti)\n",
    "print(CuantiScale)\n",
    "#Creamos un objeto PCA y aplicamos\n",
    "pca=PCA(n_components=5) # Otra opcion pca=PCA(.85)\n",
    "pca.fit(CuantiScale)\n",
    "cuanti_pca=pca.transform(CuantiScale) # convertimos nuestros datos con las nuevas dimensiones de PCA\n",
    "print(\"Ajuste de PCA\", CuantiScale.shape)\n",
    "expl = pca.explained_variance_ratio_\n",
    "print(expl)\n",
    "print('suma:',sum(expl[0:5]))"
   ]
  },
  {
   "cell_type": "code",
   "execution_count": 25,
   "metadata": {},
   "outputs": [
    {
     "data": {
      "text/plain": [
       "array([[-0.45179893, -0.46168085, -0.45054161, -0.47073887, -0.39767537],\n",
       "       [ 0.05072137, -0.29956355, -0.32457242, -0.18468403,  0.87648935],\n",
       "       [-0.69047023, -0.34054844,  0.45449265,  0.410935  ,  0.1784558 ],\n",
       "       [-0.42041399,  0.54786307, -0.60629605,  0.38827811,  0.06887199],\n",
       "       [ 0.3739091 , -0.53008046, -0.34279226,  0.65166652, -0.19243414]])"
      ]
     },
     "execution_count": 25,
     "metadata": {},
     "output_type": "execute_result"
    }
   ],
   "source": [
    "pca.components_"
   ]
  },
  {
   "cell_type": "code",
   "execution_count": 74,
   "metadata": {},
   "outputs": [
    {
     "data": {
      "image/png": "[encoded data removed]",
      "text/plain": [
       "<Figure size 432x288 with 1 Axes>"
      ]
     },
     "metadata": {
      "needs_background": "light"
     },
     "output_type": "display_data"
    }
   ],
   "source": [
    "#graficamos el acumulado de varianza explicada en las nuevas dimensiones\n",
    "plt.plot(np.cumsum(pca.explained_variance_ratio_))\n",
    "plt.xlabel('numero de componentes')\n",
    "plt.ylabel('Varianza acumulada')\n",
    "plt.show()\n",
    "#pd.value_counts(df['Variedad'])\n",
    " "
   ]
  },
  {
   "cell_type": "code",
   "execution_count": 73,
   "metadata": {},
   "outputs": [
    {
     "data": {
      "image/png": "[encoded data removed]",
      "text/plain": [
       "<Figure size 432x288 with 1 Axes>"
      ]
     },
     "metadata": {
      "needs_background": "light"
     },
     "output_type": "display_data"
    }
   ],
   "source": [
    "#graficamos en 2 Dimensiones, tomando los 2 primeros componentes principales\n",
    "Xax=cuanti_pca[:,0]\n",
    "Yax=cuanti_pca[:,1]\n",
    "plt.scatter(Xax, Yax) \n",
    "plt.title(\"Distribución\")\n",
    "plt.xlabel(\"1 Componente principal\",fontsize=14)\n",
    "plt.ylabel(\"2 componente principal\",fontsize=14)\n",
    "#plt.legend()\n",
    "plt.show()"
   ]
  },
  {
   "cell_type": "code",
   "execution_count": null,
   "metadata": {},
   "outputs": [],
   "source": []
  },
  {
   "cell_type": "code",
   "execution_count": 60,
   "metadata": {},
   "outputs": [
    {
     "data": {
      "text/plain": [
       "array([[ 2.04166667e+02,  1.31041667e+01,  4.77083333e+00,\n",
       "         7.22916667e-01, -1.45833333e-02, -2.29166667e-01],\n",
       "       [ 1.31041667e+01,  1.33537415e+01,  1.36109694e+01,\n",
       "         1.92206633e+00,  1.33061224e+00,  2.19221939e+00],\n",
       "       [ 4.77083333e+00,  1.36109694e+01,  2.56828231e+01,\n",
       "         2.71360544e+00,  2.19770408e+00,  2.65782313e+00],\n",
       "       [ 7.22916667e-01,  1.92206633e+00,  2.71360544e+00,\n",
       "         6.31632653e-01,  3.42266156e-01,  4.14647109e-01],\n",
       "       [-1.45833333e-02,  1.33061224e+00,  2.19770408e+00,\n",
       "         3.42266156e-01,  3.18418367e-01,  3.39370748e-01],\n",
       "       [-2.29166667e-01,  2.19221939e+00,  2.65782313e+00,\n",
       "         4.14647109e-01,  3.39370748e-01,  9.82823129e-01]])"
      ]
     },
     "execution_count": 60,
     "metadata": {},
     "output_type": "execute_result"
    }
   ],
   "source": [
    "DF=np.cov(df.T)\n",
    "DF"
   ]
  },
  {
   "cell_type": "code",
   "execution_count": 61,
   "metadata": {},
   "outputs": [
    {
     "data": {
      "text/plain": [
       "[-4.625929269271486e-17, -1.8503717077085943e-16, 0.9999999999999998, 1.0]"
      ]
     },
     "execution_count": 61,
     "metadata": {},
     "output_type": "execute_result"
    }
   ],
   "source": [
    "scaler = StandardScaler()\n",
    "DFT = scaler.fit_transform(DF)\n",
    "[DFT[:,0].mean(),DFT[:,1].mean(),DFT[:,0].std(),DFT[:,1].std()]"
   ]
  },
  {
   "cell_type": "code",
   "execution_count": 63,
   "metadata": {},
   "outputs": [
    {
     "data": {
      "text/html": [
       "<div>\n",
       "<style scoped>\n",
       "    .dataframe tbody tr th:only-of-type {\n",
       "        vertical-align: middle;\n",
       "    }\n",
       "\n",
       "    .dataframe tbody tr th {\n",
       "        vertical-align: top;\n",
       "    }\n",
       "\n",
       "    .dataframe thead th {\n",
       "        text-align: right;\n",
       "    }\n",
       "</style>\n",
       "<table border=\"1\" class=\"dataframe\">\n",
       "  <thead>\n",
       "    <tr style=\"text-align: right;\">\n",
       "      <th></th>\n",
       "      <th>PC1</th>\n",
       "      <th>PC2</th>\n",
       "    </tr>\n",
       "  </thead>\n",
       "  <tbody>\n",
       "    <tr>\n",
       "      <td>count</td>\n",
       "      <td>6.000000e+00</td>\n",
       "      <td>6.000000e+00</td>\n",
       "    </tr>\n",
       "    <tr>\n",
       "      <td>mean</td>\n",
       "      <td>-1.110223e-16</td>\n",
       "      <td>-7.401487e-17</td>\n",
       "    </tr>\n",
       "    <tr>\n",
       "      <td>std</td>\n",
       "      <td>2.287858e+00</td>\n",
       "      <td>1.354785e+00</td>\n",
       "    </tr>\n",
       "    <tr>\n",
       "      <td>min</td>\n",
       "      <td>-1.652633e+00</td>\n",
       "      <td>-9.390067e-01</td>\n",
       "    </tr>\n",
       "    <tr>\n",
       "      <td>25%</td>\n",
       "      <td>-1.408272e+00</td>\n",
       "      <td>-8.687833e-01</td>\n",
       "    </tr>\n",
       "    <tr>\n",
       "      <td>50%</td>\n",
       "      <td>-1.316774e+00</td>\n",
       "      <td>-4.349479e-01</td>\n",
       "    </tr>\n",
       "    <tr>\n",
       "      <td>75%</td>\n",
       "      <td>1.133293e+00</td>\n",
       "      <td>4.668766e-02</td>\n",
       "    </tr>\n",
       "    <tr>\n",
       "      <td>max</td>\n",
       "      <td>3.774970e+00</td>\n",
       "      <td>2.615065e+00</td>\n",
       "    </tr>\n",
       "  </tbody>\n",
       "</table>\n",
       "</div>"
      ],
      "text/plain": [
       "                PC1           PC2\n",
       "count  6.000000e+00  6.000000e+00\n",
       "mean  -1.110223e-16 -7.401487e-17\n",
       "std    2.287858e+00  1.354785e+00\n",
       "min   -1.652633e+00 -9.390067e-01\n",
       "25%   -1.408272e+00 -8.687833e-01\n",
       "50%   -1.316774e+00 -4.349479e-01\n",
       "75%    1.133293e+00  4.668766e-02\n",
       "max    3.774970e+00  2.615065e+00"
      ]
     },
     "execution_count": 63,
     "metadata": {},
     "output_type": "execute_result"
    }
   ],
   "source": [
    "pca = PCA(n_components=2)\n",
    "principal_components = pca.fit_transform(DFT)\n",
    "DFPC = pd.DataFrame(data = principal_components, columns = ['PC1', 'PC2'])\n",
    "DFPC.describe()"
   ]
  },
  {
   "cell_type": "code",
   "execution_count": 64,
   "metadata": {},
   "outputs": [
    {
     "data": {
      "text/plain": [
       "array([72.7, 25.5])"
      ]
     },
     "execution_count": 64,
     "metadata": {},
     "output_type": "execute_result"
    }
   ],
   "source": [
    "per_var = np.round(pca.explained_variance_ratio_ * 100, decimals=1)\n",
    "per_var"
   ]
  },
  {
   "cell_type": "code",
   "execution_count": 65,
   "metadata": {},
   "outputs": [
    {
     "data": {
      "text/plain": [
       "array([[ 1.2       ,  0.56789851, -0.1986751 , -0.1940054 , -0.49500055,\n",
       "        -0.62178175],\n",
       "       [ 0.56789851,  1.2       ,  0.87109721,  0.91978025,  0.67949746,\n",
       "         0.58883447],\n",
       "       [-0.1986751 ,  0.87109721,  1.2       ,  1.18133968,  1.15749885,\n",
       "         1.05155585],\n",
       "       [-0.1940054 ,  0.91978025,  1.18133968,  1.2       ,  1.15006573,\n",
       "         1.07022557],\n",
       "       [-0.49500055,  0.67949746,  1.15749885,  1.15006573,  1.2       ,\n",
       "         1.14690516],\n",
       "       [-0.62178175,  0.58883447,  1.05155585,  1.07022557,  1.14690516,\n",
       "         1.2       ]])"
      ]
     },
     "execution_count": 65,
     "metadata": {},
     "output_type": "execute_result"
    }
   ],
   "source": [
    "\n",
    "COV=np.cov(np.transpose(DFT))\n",
    "COV"
   ]
  },
  {
   "cell_type": "code",
   "execution_count": 66,
   "metadata": {},
   "outputs": [
    {
     "data": {
      "text/plain": [
       "(array([ 5.23429619e+00,  1.83544351e+00,  1.04499646e-01,  2.22062825e-02,\n",
       "        -3.54536002e-16,  3.55436983e-03]),\n",
       " array([[ 0.12572046,  0.77775663,  0.16267786,  0.42524146,  0.33269423,\n",
       "         -0.24760684],\n",
       "        [-0.33701077,  0.56131145, -0.48146337, -0.32278673, -0.21214916,\n",
       "          0.43628852],\n",
       "        [-0.47030648,  0.06900666,  0.54470423,  0.33222762, -0.5966658 ,\n",
       "          0.10469924],\n",
       "        [-0.47428248,  0.08428172,  0.1275382 , -0.52771382,  0.0864335 ,\n",
       "         -0.68244714],\n",
       "        [-0.47046559, -0.13293858,  0.28160626, -0.00235859,  0.69062192,\n",
       "          0.45246345],\n",
       "        [-0.45071962, -0.22469107, -0.59114986,  0.57106549,  0.06219181,\n",
       "         -0.25869669]]))"
      ]
     },
     "execution_count": 66,
     "metadata": {},
     "output_type": "execute_result"
    }
   ],
   "source": [
    "np.linalg.eig(COV)"
   ]
  },
  {
   "cell_type": "code",
   "execution_count": 68,
   "metadata": {},
   "outputs": [],
   "source": [
    "def draw_vector(v0, v1, ax=None):\n",
    "    ax = ax or plt.gca()\n",
    "    arrowprops=dict(arrowstyle='->',\n",
    "                    linewidth=2,\n",
    "                    shrinkA=0, shrinkB=0)\n",
    "    ax.annotate('', v1, v0, arrowprops=arrowprops)"
   ]
  },
  {
   "cell_type": "code",
   "execution_count": 69,
   "metadata": {},
   "outputs": [
    {
     "name": "stdout",
     "output_type": "stream",
     "text": [
      "[-0.12572046  0.33701077  0.47030648  0.47428248  0.47046559  0.45071962]\n",
      "5.234296188904404\n"
     ]
    },
    {
     "ename": "ValueError",
     "evalue": "too many values to unpack (expected 2)",
     "output_type": "error",
     "traceback": [
      "\u001b[1;31m---------------------------------------------------------------------------\u001b[0m",
      "\u001b[1;31mValueError\u001b[0m                                Traceback (most recent call last)",
      "\u001b[1;32m<ipython-input-69-97d3d1620b64>\u001b[0m in \u001b[0;36m<module>\u001b[1;34m\u001b[0m\n\u001b[0;32m      7\u001b[0m   \u001b[0mv\u001b[0m \u001b[1;33m=\u001b[0m \u001b[0mvector\u001b[0m\u001b[1;33m*\u001b[0m\u001b[0mL2\u001b[0m\u001b[1;33m[\u001b[0m\u001b[0mi\u001b[0m\u001b[1;33m]\u001b[0m\u001b[1;33m\u001b[0m\u001b[1;33m\u001b[0m\u001b[0m\n\u001b[0;32m      8\u001b[0m   \u001b[0mi\u001b[0m\u001b[1;33m=\u001b[0m\u001b[1;33m+\u001b[0m\u001b[1;36m1\u001b[0m\u001b[1;33m\u001b[0m\u001b[1;33m\u001b[0m\u001b[0m\n\u001b[1;32m----> 9\u001b[1;33m   \u001b[0mdraw_vector\u001b[0m\u001b[1;33m(\u001b[0m\u001b[0mpca\u001b[0m\u001b[1;33m.\u001b[0m\u001b[0mmean_\u001b[0m\u001b[1;33m,\u001b[0m \u001b[0mpca\u001b[0m\u001b[1;33m.\u001b[0m\u001b[0mmean_\u001b[0m \u001b[1;33m+\u001b[0m \u001b[0mv\u001b[0m\u001b[1;33m)\u001b[0m\u001b[1;33m\u001b[0m\u001b[1;33m\u001b[0m\u001b[0m\n\u001b[0m\u001b[0;32m     10\u001b[0m \u001b[0mplt\u001b[0m\u001b[1;33m.\u001b[0m\u001b[0maxis\u001b[0m\u001b[1;33m(\u001b[0m\u001b[1;34m'equal'\u001b[0m\u001b[1;33m)\u001b[0m\u001b[1;33m\u001b[0m\u001b[1;33m\u001b[0m\u001b[0m\n\u001b[0;32m     11\u001b[0m \u001b[0mplt\u001b[0m\u001b[1;33m.\u001b[0m\u001b[0mshow\u001b[0m\u001b[1;33m(\u001b[0m\u001b[1;33m)\u001b[0m\u001b[1;33m\u001b[0m\u001b[1;33m\u001b[0m\u001b[0m\n",
      "\u001b[1;32m<ipython-input-68-e90df8c7bee5>\u001b[0m in \u001b[0;36mdraw_vector\u001b[1;34m(v0, v1, ax)\u001b[0m\n\u001b[0;32m      4\u001b[0m                     \u001b[0mlinewidth\u001b[0m\u001b[1;33m=\u001b[0m\u001b[1;36m2\u001b[0m\u001b[1;33m,\u001b[0m\u001b[1;33m\u001b[0m\u001b[1;33m\u001b[0m\u001b[0m\n\u001b[0;32m      5\u001b[0m                     shrinkA=0, shrinkB=0)\n\u001b[1;32m----> 6\u001b[1;33m     \u001b[0max\u001b[0m\u001b[1;33m.\u001b[0m\u001b[0mannotate\u001b[0m\u001b[1;33m(\u001b[0m\u001b[1;34m''\u001b[0m\u001b[1;33m,\u001b[0m \u001b[0mv1\u001b[0m\u001b[1;33m,\u001b[0m \u001b[0mv0\u001b[0m\u001b[1;33m,\u001b[0m \u001b[0marrowprops\u001b[0m\u001b[1;33m=\u001b[0m\u001b[0marrowprops\u001b[0m\u001b[1;33m)\u001b[0m\u001b[1;33m\u001b[0m\u001b[1;33m\u001b[0m\u001b[0m\n\u001b[0m",
      "\u001b[1;32m~\\AppData\\Local\\Continuum\\anaconda3\\lib\\site-packages\\matplotlib\\axes\\_axes.py\u001b[0m in \u001b[0;36mannotate\u001b[1;34m(self, s, xy, *args, **kwargs)\u001b[0m\n\u001b[0;32m    789\u001b[0m     \u001b[1;33m@\u001b[0m\u001b[0mdocstring\u001b[0m\u001b[1;33m.\u001b[0m\u001b[0mdedent_interpd\u001b[0m\u001b[1;33m\u001b[0m\u001b[1;33m\u001b[0m\u001b[0m\n\u001b[0;32m    790\u001b[0m     \u001b[1;32mdef\u001b[0m \u001b[0mannotate\u001b[0m\u001b[1;33m(\u001b[0m\u001b[0mself\u001b[0m\u001b[1;33m,\u001b[0m \u001b[0ms\u001b[0m\u001b[1;33m,\u001b[0m \u001b[0mxy\u001b[0m\u001b[1;33m,\u001b[0m \u001b[1;33m*\u001b[0m\u001b[0margs\u001b[0m\u001b[1;33m,\u001b[0m \u001b[1;33m**\u001b[0m\u001b[0mkwargs\u001b[0m\u001b[1;33m)\u001b[0m\u001b[1;33m:\u001b[0m\u001b[1;33m\u001b[0m\u001b[1;33m\u001b[0m\u001b[0m\n\u001b[1;32m--> 791\u001b[1;33m         \u001b[0ma\u001b[0m \u001b[1;33m=\u001b[0m \u001b[0mmtext\u001b[0m\u001b[1;33m.\u001b[0m\u001b[0mAnnotation\u001b[0m\u001b[1;33m(\u001b[0m\u001b[0ms\u001b[0m\u001b[1;33m,\u001b[0m \u001b[0mxy\u001b[0m\u001b[1;33m,\u001b[0m \u001b[1;33m*\u001b[0m\u001b[0margs\u001b[0m\u001b[1;33m,\u001b[0m \u001b[1;33m**\u001b[0m\u001b[0mkwargs\u001b[0m\u001b[1;33m)\u001b[0m\u001b[1;33m\u001b[0m\u001b[1;33m\u001b[0m\u001b[0m\n\u001b[0m\u001b[0;32m    792\u001b[0m         \u001b[0ma\u001b[0m\u001b[1;33m.\u001b[0m\u001b[0mset_transform\u001b[0m\u001b[1;33m(\u001b[0m\u001b[0mmtransforms\u001b[0m\u001b[1;33m.\u001b[0m\u001b[0mIdentityTransform\u001b[0m\u001b[1;33m(\u001b[0m\u001b[1;33m)\u001b[0m\u001b[1;33m)\u001b[0m\u001b[1;33m\u001b[0m\u001b[1;33m\u001b[0m\u001b[0m\n\u001b[0;32m    793\u001b[0m         \u001b[1;32mif\u001b[0m \u001b[1;34m'clip_on'\u001b[0m \u001b[1;32min\u001b[0m \u001b[0mkwargs\u001b[0m\u001b[1;33m:\u001b[0m\u001b[1;33m\u001b[0m\u001b[1;33m\u001b[0m\u001b[0m\n",
      "\u001b[1;32m~\\AppData\\Local\\Continuum\\anaconda3\\lib\\site-packages\\matplotlib\\cbook\\deprecation.py\u001b[0m in \u001b[0;36mwrapper\u001b[1;34m(*args, **kwargs)\u001b[0m\n\u001b[0;32m    305\u001b[0m                 f\"for the old name will be dropped %(removal)s.\")\n\u001b[0;32m    306\u001b[0m             \u001b[0mkwargs\u001b[0m\u001b[1;33m[\u001b[0m\u001b[0mnew\u001b[0m\u001b[1;33m]\u001b[0m \u001b[1;33m=\u001b[0m \u001b[0mkwargs\u001b[0m\u001b[1;33m.\u001b[0m\u001b[0mpop\u001b[0m\u001b[1;33m(\u001b[0m\u001b[0mold\u001b[0m\u001b[1;33m)\u001b[0m\u001b[1;33m\u001b[0m\u001b[1;33m\u001b[0m\u001b[0m\n\u001b[1;32m--> 307\u001b[1;33m         \u001b[1;32mreturn\u001b[0m \u001b[0mfunc\u001b[0m\u001b[1;33m(\u001b[0m\u001b[1;33m*\u001b[0m\u001b[0margs\u001b[0m\u001b[1;33m,\u001b[0m \u001b[1;33m**\u001b[0m\u001b[0mkwargs\u001b[0m\u001b[1;33m)\u001b[0m\u001b[1;33m\u001b[0m\u001b[1;33m\u001b[0m\u001b[0m\n\u001b[0m\u001b[0;32m    308\u001b[0m \u001b[1;33m\u001b[0m\u001b[0m\n\u001b[0;32m    309\u001b[0m     \u001b[1;31m# wrapper() must keep the same documented signature as func(): if we\u001b[0m\u001b[1;33m\u001b[0m\u001b[1;33m\u001b[0m\u001b[1;33m\u001b[0m\u001b[0m\n",
      "\u001b[1;32m~\\AppData\\Local\\Continuum\\anaconda3\\lib\\site-packages\\matplotlib\\text.py\u001b[0m in \u001b[0;36m__init__\u001b[1;34m(self, text, xy, xytext, xycoords, textcoords, arrowprops, annotation_clip, **kwargs)\u001b[0m\n\u001b[0;32m   2164\u001b[0m         \u001b[1;32mif\u001b[0m \u001b[0mxytext\u001b[0m \u001b[1;32mis\u001b[0m \u001b[1;32mNone\u001b[0m\u001b[1;33m:\u001b[0m\u001b[1;33m\u001b[0m\u001b[1;33m\u001b[0m\u001b[0m\n\u001b[0;32m   2165\u001b[0m             \u001b[0mxytext\u001b[0m \u001b[1;33m=\u001b[0m \u001b[0mself\u001b[0m\u001b[1;33m.\u001b[0m\u001b[0mxy\u001b[0m\u001b[1;33m\u001b[0m\u001b[1;33m\u001b[0m\u001b[0m\n\u001b[1;32m-> 2166\u001b[1;33m         \u001b[0mx\u001b[0m\u001b[1;33m,\u001b[0m \u001b[0my\u001b[0m \u001b[1;33m=\u001b[0m \u001b[0mxytext\u001b[0m\u001b[1;33m\u001b[0m\u001b[1;33m\u001b[0m\u001b[0m\n\u001b[0m\u001b[0;32m   2167\u001b[0m \u001b[1;33m\u001b[0m\u001b[0m\n\u001b[0;32m   2168\u001b[0m         \u001b[0mText\u001b[0m\u001b[1;33m.\u001b[0m\u001b[0m__init__\u001b[0m\u001b[1;33m(\u001b[0m\u001b[0mself\u001b[0m\u001b[1;33m,\u001b[0m \u001b[0mx\u001b[0m\u001b[1;33m,\u001b[0m \u001b[0my\u001b[0m\u001b[1;33m,\u001b[0m \u001b[0mtext\u001b[0m\u001b[1;33m,\u001b[0m \u001b[1;33m**\u001b[0m\u001b[0mkwargs\u001b[0m\u001b[1;33m)\u001b[0m\u001b[1;33m\u001b[0m\u001b[1;33m\u001b[0m\u001b[0m\n",
      "\u001b[1;31mValueError\u001b[0m: too many values to unpack (expected 2)"
     ]
    },
    {
     "data": {
      "image/png": "[encoded data removed]",
      "text/plain": [
       "<Figure size 432x288 with 1 Axes>"
      ]
     },
     "metadata": {
      "needs_background": "light"
     },
     "output_type": "display_data"
    }
   ],
   "source": [
    "plt.scatter(DFT[:,0],DFT[:,1], alpha=0.5)\n",
    "L2=[2,0.3]\n",
    "i=0\n",
    "for length, vector in zip(pca.explained_variance_, pca.components_):\n",
    "  print(vector)\n",
    "  print(length)\n",
    "  v = vector*L2[i]\n",
    "  i=+1\n",
    "  draw_vector(pca.mean_, pca.mean_ + v)\n",
    "plt.axis('equal')\n",
    "plt.show()"
   ]
  }
 ],
 "metadata": {
  "kernelspec": {
   "display_name": "Python 3",
   "language": "python",
   "name": "python3"
  },
  "language_info": {
   "codemirror_mode": {
    "name": "ipython",
    "version": 3
   },
   "file_extension": ".py",
   "mimetype": "text/x-python",
   "name": "python",
   "nbconvert_exporter": "python",
   "pygments_lexer": "ipython3",
   "version": "3.7.4"
  }
 },
 "nbformat": 4,
 "nbformat_minor": 4
}
