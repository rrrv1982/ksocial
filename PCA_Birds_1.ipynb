{
 "cells": [
  {
   "cell_type": "code",
   "execution_count": 93,
   "metadata": {},
   "outputs": [],
   "source": [
    "import pandas as pd\n",
    "import numpy as np"
   ]
  },
  {
   "cell_type": "code",
   "execution_count": 94,
   "metadata": {},
   "outputs": [
    {
     "data": {
      "text/html": [
       "<div>\n",
       "<style scoped>\n",
       "    .dataframe tbody tr th:only-of-type {\n",
       "        vertical-align: middle;\n",
       "    }\n",
       "\n",
       "    .dataframe tbody tr th {\n",
       "        vertical-align: top;\n",
       "    }\n",
       "\n",
       "    .dataframe thead th {\n",
       "        text-align: right;\n",
       "    }\n",
       "</style>\n",
       "<table border=\"1\" class=\"dataframe\">\n",
       "  <thead>\n",
       "    <tr style=\"text-align: right;\">\n",
       "      <th></th>\n",
       "      <th>Bird</th>\n",
       "      <th>Longitud Total</th>\n",
       "      <th>Extension de las alas</th>\n",
       "      <th>Longitud pico y cabeza</th>\n",
       "      <th>Longitud del homero</th>\n",
       "      <th>Longitud de la quilla</th>\n",
       "    </tr>\n",
       "  </thead>\n",
       "  <tbody>\n",
       "    <tr>\n",
       "      <td>0</td>\n",
       "      <td>1</td>\n",
       "      <td>156</td>\n",
       "      <td>245</td>\n",
       "      <td>31.6</td>\n",
       "      <td>18.5</td>\n",
       "      <td>20.5</td>\n",
       "    </tr>\n",
       "    <tr>\n",
       "      <td>1</td>\n",
       "      <td>2</td>\n",
       "      <td>154</td>\n",
       "      <td>240</td>\n",
       "      <td>30.4</td>\n",
       "      <td>17.9</td>\n",
       "      <td>19.6</td>\n",
       "    </tr>\n",
       "    <tr>\n",
       "      <td>2</td>\n",
       "      <td>3</td>\n",
       "      <td>153</td>\n",
       "      <td>240</td>\n",
       "      <td>31.0</td>\n",
       "      <td>18.4</td>\n",
       "      <td>20.6</td>\n",
       "    </tr>\n",
       "    <tr>\n",
       "      <td>3</td>\n",
       "      <td>4</td>\n",
       "      <td>153</td>\n",
       "      <td>236</td>\n",
       "      <td>30.9</td>\n",
       "      <td>17.7</td>\n",
       "      <td>20.2</td>\n",
       "    </tr>\n",
       "    <tr>\n",
       "      <td>4</td>\n",
       "      <td>5</td>\n",
       "      <td>155</td>\n",
       "      <td>243</td>\n",
       "      <td>31.5</td>\n",
       "      <td>18.6</td>\n",
       "      <td>20.3</td>\n",
       "    </tr>\n",
       "  </tbody>\n",
       "</table>\n",
       "</div>"
      ],
      "text/plain": [
       "   Bird  Longitud Total  Extension de las alas  Longitud pico y cabeza  \\\n",
       "0     1             156                    245                    31.6   \n",
       "1     2             154                    240                    30.4   \n",
       "2     3             153                    240                    31.0   \n",
       "3     4             153                    236                    30.9   \n",
       "4     5             155                    243                    31.5   \n",
       "\n",
       "   Longitud del homero  Longitud de la quilla  \n",
       "0                 18.5                   20.5  \n",
       "1                 17.9                   19.6  \n",
       "2                 18.4                   20.6  \n",
       "3                 17.7                   20.2  \n",
       "4                 18.6                   20.3  "
      ]
     },
     "execution_count": 94,
     "metadata": {},
     "output_type": "execute_result"
    }
   ],
   "source": [
    "df = pd.read_csv('birds.csv',sep=',',low_memory=False)\n",
    "df.head()"
   ]
  },
  {
   "cell_type": "code",
   "execution_count": 95,
   "metadata": {},
   "outputs": [
    {
     "data": {
      "text/html": [
       "<div>\n",
       "<style scoped>\n",
       "    .dataframe tbody tr th:only-of-type {\n",
       "        vertical-align: middle;\n",
       "    }\n",
       "\n",
       "    .dataframe tbody tr th {\n",
       "        vertical-align: top;\n",
       "    }\n",
       "\n",
       "    .dataframe thead th {\n",
       "        text-align: right;\n",
       "    }\n",
       "</style>\n",
       "<table border=\"1\" class=\"dataframe\">\n",
       "  <thead>\n",
       "    <tr style=\"text-align: right;\">\n",
       "      <th></th>\n",
       "      <th>Bird</th>\n",
       "      <th>Longitud Total</th>\n",
       "      <th>Extension de las alas</th>\n",
       "      <th>Longitud pico y cabeza</th>\n",
       "      <th>Longitud del homero</th>\n",
       "      <th>Longitud de la quilla</th>\n",
       "    </tr>\n",
       "  </thead>\n",
       "  <tbody>\n",
       "    <tr>\n",
       "      <td>count</td>\n",
       "      <td>49.00000</td>\n",
       "      <td>49.000000</td>\n",
       "      <td>49.000000</td>\n",
       "      <td>49.000000</td>\n",
       "      <td>49.000000</td>\n",
       "      <td>49.000000</td>\n",
       "    </tr>\n",
       "    <tr>\n",
       "      <td>mean</td>\n",
       "      <td>25.00000</td>\n",
       "      <td>157.979592</td>\n",
       "      <td>241.326531</td>\n",
       "      <td>31.459184</td>\n",
       "      <td>18.469388</td>\n",
       "      <td>20.826531</td>\n",
       "    </tr>\n",
       "    <tr>\n",
       "      <td>std</td>\n",
       "      <td>14.28869</td>\n",
       "      <td>3.654277</td>\n",
       "      <td>5.067822</td>\n",
       "      <td>0.794753</td>\n",
       "      <td>0.564286</td>\n",
       "      <td>0.991374</td>\n",
       "    </tr>\n",
       "    <tr>\n",
       "      <td>min</td>\n",
       "      <td>1.00000</td>\n",
       "      <td>152.000000</td>\n",
       "      <td>230.000000</td>\n",
       "      <td>30.100000</td>\n",
       "      <td>17.200000</td>\n",
       "      <td>18.600000</td>\n",
       "    </tr>\n",
       "    <tr>\n",
       "      <td>25%</td>\n",
       "      <td>13.00000</td>\n",
       "      <td>155.000000</td>\n",
       "      <td>238.000000</td>\n",
       "      <td>30.900000</td>\n",
       "      <td>18.100000</td>\n",
       "      <td>20.200000</td>\n",
       "    </tr>\n",
       "    <tr>\n",
       "      <td>50%</td>\n",
       "      <td>25.00000</td>\n",
       "      <td>158.000000</td>\n",
       "      <td>242.000000</td>\n",
       "      <td>31.500000</td>\n",
       "      <td>18.500000</td>\n",
       "      <td>20.700000</td>\n",
       "    </tr>\n",
       "    <tr>\n",
       "      <td>75%</td>\n",
       "      <td>37.00000</td>\n",
       "      <td>161.000000</td>\n",
       "      <td>245.000000</td>\n",
       "      <td>32.000000</td>\n",
       "      <td>18.800000</td>\n",
       "      <td>21.500000</td>\n",
       "    </tr>\n",
       "    <tr>\n",
       "      <td>max</td>\n",
       "      <td>49.00000</td>\n",
       "      <td>165.000000</td>\n",
       "      <td>252.000000</td>\n",
       "      <td>33.400000</td>\n",
       "      <td>19.800000</td>\n",
       "      <td>23.100000</td>\n",
       "    </tr>\n",
       "  </tbody>\n",
       "</table>\n",
       "</div>"
      ],
      "text/plain": [
       "           Bird  Longitud Total  Extension de las alas  \\\n",
       "count  49.00000       49.000000              49.000000   \n",
       "mean   25.00000      157.979592             241.326531   \n",
       "std    14.28869        3.654277               5.067822   \n",
       "min     1.00000      152.000000             230.000000   \n",
       "25%    13.00000      155.000000             238.000000   \n",
       "50%    25.00000      158.000000             242.000000   \n",
       "75%    37.00000      161.000000             245.000000   \n",
       "max    49.00000      165.000000             252.000000   \n",
       "\n",
       "       Longitud pico y cabeza  Longitud del homero  Longitud de la quilla  \n",
       "count               49.000000            49.000000              49.000000  \n",
       "mean                31.459184            18.469388              20.826531  \n",
       "std                  0.794753             0.564286               0.991374  \n",
       "min                 30.100000            17.200000              18.600000  \n",
       "25%                 30.900000            18.100000              20.200000  \n",
       "50%                 31.500000            18.500000              20.700000  \n",
       "75%                 32.000000            18.800000              21.500000  \n",
       "max                 33.400000            19.800000              23.100000  "
      ]
     },
     "execution_count": 95,
     "metadata": {},
     "output_type": "execute_result"
    }
   ],
   "source": [
    "df.describe()"
   ]
  },
  {
   "cell_type": "code",
   "execution_count": 96,
   "metadata": {},
   "outputs": [
    {
     "name": "stdout",
     "output_type": "stream",
     "text": [
      "[[ 2.04166667e+02  1.31041667e+01  4.77083333e+00  7.22916667e-01\n",
      "  -1.45833333e-02 -2.29166667e-01]\n",
      " [ 1.31041667e+01  1.33537415e+01  1.36109694e+01  1.92206633e+00\n",
      "   1.33061224e+00  2.19221939e+00]\n",
      " [ 4.77083333e+00  1.36109694e+01  2.56828231e+01  2.71360544e+00\n",
      "   2.19770408e+00  2.65782313e+00]\n",
      " [ 7.22916667e-01  1.92206633e+00  2.71360544e+00  6.31632653e-01\n",
      "   3.42266156e-01  4.14647109e-01]\n",
      " [-1.45833333e-02  1.33061224e+00  2.19770408e+00  3.42266156e-01\n",
      "   3.18418367e-01  3.39370748e-01]\n",
      " [-2.29166667e-01  2.19221939e+00  2.65782313e+00  4.14647109e-01\n",
      "   3.39370748e-01  9.82823129e-01]]\n",
      "\n",
      "\n",
      "[[ 2.04166667e+02  1.31041667e+01  4.77083333e+00  7.22916667e-01\n",
      "  -1.45833333e-02 -2.29166667e-01]\n",
      " [ 1.31041667e+01  1.33537415e+01  1.36109694e+01  1.92206633e+00\n",
      "   1.33061224e+00  2.19221939e+00]\n",
      " [ 4.77083333e+00  1.36109694e+01  2.56828231e+01  2.71360544e+00\n",
      "   2.19770408e+00  2.65782313e+00]\n",
      " [ 7.22916667e-01  1.92206633e+00  2.71360544e+00  6.31632653e-01\n",
      "   3.42266156e-01  4.14647109e-01]\n",
      " [-1.45833333e-02  1.33061224e+00  2.19770408e+00  3.42266156e-01\n",
      "   3.18418367e-01  3.39370748e-01]\n",
      " [-2.29166667e-01  2.19221939e+00  2.65782313e+00  4.14647109e-01\n",
      "   3.39370748e-01  9.82823129e-01]]\n"
     ]
    }
   ],
   "source": [
    "#Tecnica de componentes principales \n",
    "#Matriz de covarianzas o la matriz de correlacion asociada a los datos. \n",
    "#descomposicion espectal de la matriz con la finalidad de obtener aquellos valores que maximicen la varianza\n",
    "\n",
    "#Calcular la matriz de covarianzas, asi:\n",
    "#1. importar libreria de numpy \n",
    "import numpy as np\n",
    "#2. Estimar la matriz de covarianzas de los datos, calcular la matriz S\n",
    "#3. obtener los valores propios de la matriz S, corresponden a la varianza de cada componente principal\n",
    "#4. Verificar que: VT = tr(S). Hallar la proporcion de variabilidad de cada uno de los componentes explica.\n",
    "#5. Los valores mas altos obtenidos en los valores propios de la matriz S, suministran un indicio del numero de componentes relevantes\n",
    "#Determinar cuantos componentes seria optimo retener.\n",
    "#6. calcular el grado de asociacion entre la variable (Xi) y la componente principal respectiva (Yk o Zk)\n",
    "#7. Interpretar los nuevos ejes: Estimar la matriz de covarianzas. Matriz de covarianzas muestral, asi: \n",
    "#Realizar los siguiente:\n",
    "#Cantidad de observaciones en este caso 49\n",
    "X = df\n",
    "df.shape[0]\n",
    "n = X.shape[0]\n",
    "#matriz transpuesta\n",
    "X.T\n",
    "# #La matriz identidad de tamaño n\n",
    "np.eye(n)\n",
    "# #Es una matriz de unos de tamaño nxn, se calcula asi:\n",
    "np.ones((n,n))\n",
    "\n",
    "#Obtener la matriz de covarianzas, asi: Calcula la matriz S\n",
    "S = X.T /(n-1) @ (np.eye(n) - np.ones((n,n)) / n) @ X\n",
    "# #imprimir la matriz S\n",
    "#print(S)\n",
    "print(np.cov(X.T))\n",
    "print('\\n')\n",
    "COV=np.cov(X.T)\n",
    "print(COV)"
   ]
  },
  {
   "cell_type": "code",
   "execution_count": 97,
   "metadata": {},
   "outputs": [
    {
     "name": "stdout",
     "output_type": "stream",
     "text": [
      "[2.05247945e+02 3.46181611e+01 4.27980835e+00 6.00244118e-01\n",
      " 7.72836959e-02 3.12663510e-01] \n",
      " \n",
      "Autovalores Asociados\n",
      "[[ 9.96997674e-01  6.40030394e-02 -4.15941494e-02  1.29269202e-02\n",
      "   1.16297663e-03 -8.47625047e-04]\n",
      " [ 7.03984433e-02 -5.20072885e-01  8.30661246e-01 -1.80347521e-01\n",
      "   1.49059371e-02  4.26934599e-02]\n",
      " [ 3.19048040e-02 -8.36551827e-01 -5.39264121e-01 -4.59252519e-02\n",
      "  -3.91202914e-02  6.86862900e-02]\n",
      " [ 4.60819421e-03 -9.68564009e-02  4.19773023e-02  2.32200125e-01\n",
      "  -3.55241597e-01 -8.99289730e-01]\n",
      " [ 7.36103335e-04 -7.57831457e-02 -5.65354177e-03  1.96594677e-01\n",
      "   9.27798287e-01 -3.07839702e-01]\n",
      " [ 6.27033671e-05 -1.02394328e-01  1.25187746e-01  9.34147832e-01\n",
      "  -1.06017969e-01  2.99952403e-01]]\n",
      "\n",
      "\n"
     ]
    }
   ],
   "source": [
    "#obtencion de los valores propios, con el modulo linalg y la funcion eigh que retorna los autovalores de una matriz simetrica(los autovalores se muestran en una lista ascendente)\n",
    "#calcula y guarda los valores de la descomposicion espectral \n",
    "autovalores, autovectores = np.linalg.eig(S)\n",
    "print(autovalores, '\\n \\nAutovalores Asociados') # Muesta los autovalores de la matriz S\n",
    "print(autovectores) #Muestra los autovectores asociados a la matriz S\n",
    "print('\\n')\n"
   ]
  },
  {
   "cell_type": "code",
   "execution_count": 98,
   "metadata": {},
   "outputs": [
    {
     "name": "stdout",
     "output_type": "stream",
     "text": [
      "245.13610544218488\n",
      "\n",
      "\n",
      "245.1361054421846\n"
     ]
    }
   ],
   "source": [
    "#Inicialmente verificamos que la trasa de la matriz S (funcion trace de numpy) es igual a la suma de los autovalres, que calculamos en el paso anterior\n",
    "print(sum(autovalores))\n",
    "print('\\n')\n",
    "print(np.trace(S))\n",
    "#la suma y la traza dela matriz deben ser iguales. "
   ]
  },
  {
   "cell_type": "code",
   "execution_count": 99,
   "metadata": {},
   "outputs": [
    {
     "name": "stdout",
     "output_type": "stream",
     "text": [
      "[8.37281576e-01 1.41220164e-01 1.74589065e-02 2.44861570e-03\n",
      " 3.15268515e-04 1.27546903e-03]\n",
      "\n",
      " Porcentaje\n"
     ]
    }
   ],
   "source": [
    "# La proporcio de variabilidad explicada por cada componente la podemos calcular con:\n",
    "prop = autovalores / np.trace(S)\n",
    "#porcentaje = (autovalores / np.trace(S))*100\n",
    "print(prop)\n",
    "# en porcentaje seria:\n",
    "print(\"\\n Porcentaje\")\n"
   ]
  },
  {
   "cell_type": "code",
   "execution_count": null,
   "metadata": {},
   "outputs": [],
   "source": []
  },
  {
   "cell_type": "code",
   "execution_count": 100,
   "metadata": {},
   "outputs": [
    {
     "name": "stdout",
     "output_type": "stream",
     "text": [
      "[8.37281576e+01 1.41220164e+01 1.74589065e+00 2.44861570e-01\n",
      " 3.15268515e-02 1.27546903e-01]\n"
     ]
    }
   ],
   "source": [
    "porcentaje = prop * 100\n",
    "print(porcentaje)"
   ]
  },
  {
   "cell_type": "code",
   "execution_count": 101,
   "metadata": {},
   "outputs": [
    {
     "name": "stdout",
     "output_type": "stream",
     "text": [
      "[83.72815759545045, 14.122016428336833, 1.745890651672805, 0.24486157049126894, 0.1275469025526169, 0.03152685149614073]\n"
     ]
    }
   ],
   "source": [
    "#Ordenar los autovectores que obtuvimos de mayor a menor\n",
    "y = sorted((prop*100), reverse = True)\n",
    "print(y)"
   ]
  },
  {
   "cell_type": "code",
   "execution_count": 102,
   "metadata": {},
   "outputs": [
    {
     "data": {
      "image/png": "[encoded data removed]",
      "text/plain": [
       "<Figure size 432x288 with 1 Axes>"
      ]
     },
     "metadata": {
      "needs_background": "light"
     },
     "output_type": "display_data"
    }
   ],
   "source": [
    "#Grafico de sedimentacion, permite representar el porcentaje de variacion explicado por cada componente o factor en las ordenadas\n",
    "#y los componentes en orden decreciente en la abscisas con la finalidad de escoger los factores que retengan mas variacion\n",
    "import matplotlib.pyplot as plt\n",
    "%matplotlib inline\n",
    "plt.plot([\"Z1\", \"Z2\", \"Z3\", \"Z4\",\"Z5\",\"Z6\"], y, color =\"green\", marker ='*', linewidth=1, markersize=4)\n",
    "plt.title(\"Grafico de sedimentacion\")\n",
    "plt.xlabel(\"Componentes principales\")\n",
    "plt.ylabel(\"Porcentaje de variación\")\n",
    "plt.show()"
   ]
  },
  {
   "cell_type": "code",
   "execution_count": 105,
   "metadata": {},
   "outputs": [
    {
     "data": {
      "text/plain": [
       "[-4.5315225494904345e-18, -1.291483926604774e-15, 1.0, 1.0]"
      ]
     },
     "execution_count": 105,
     "metadata": {},
     "output_type": "execute_result"
    }
   ],
   "source": [
    "from sklearn.preprocessing import StandardScaler\n",
    "scaler = StandardScaler()\n",
    "DFT = scaler.fit_transform(df)\n",
    "[DFT[:,0].mean(),DFT[:,1].mean(),DFT[:,0].std(),DFT[:,1].std()]"
   ]
  },
  {
   "cell_type": "code",
   "execution_count": 108,
   "metadata": {},
   "outputs": [
    {
     "name": "stdout",
     "output_type": "stream",
     "text": [
      "[[ 0.04379983 -1.71479154]\n",
      " [ 2.30092683 -1.38420129]\n",
      " [ 1.25722367 -1.69026656]\n",
      " [ 2.42524339 -1.36058717]\n",
      " [ 0.38908626 -1.48362797]\n",
      " [-1.85028136 -1.18931271]\n",
      " [ 1.13889469 -1.11139723]\n",
      " [-0.36227517 -1.4760292 ]\n",
      " [-2.64545784 -1.02820632]\n",
      " [-0.1176941  -1.23678257]\n",
      " [-0.3095486  -1.14367696]\n",
      " [-0.2140288  -0.7331121 ]\n",
      " [-2.323949   -1.06172988]\n",
      " [-0.66996999 -0.87676606]\n",
      " [ 1.44854285 -0.45426097]\n",
      " [ 1.61125164 -0.47225724]\n",
      " [-0.51581414 -0.67407396]\n",
      " [ 1.70646761 -0.63789223]\n",
      " [ 1.81948319 -0.38657028]\n",
      " [-2.17406614 -0.32186542]\n",
      " [ 0.47774843 -0.17522473]\n",
      " [ 0.98777482 -0.22825801]\n",
      " [ 0.67317734 -0.14339495]\n",
      " [-1.59201415 -0.23527873]\n",
      " [ 3.74762718  0.23690408]\n",
      " [-2.14365695 -0.2081493 ]\n",
      " [ 1.33229256  0.12541442]\n",
      " [-1.74603532 -0.26201049]\n",
      " [-4.0447554  -0.05605395]\n",
      " [ 3.72197745  0.62239138]\n",
      " [-0.17809874  0.48022224]\n",
      " [-1.23826512  0.53420236]\n",
      " [-1.07346556  0.42149485]\n",
      " [ 0.67563827  1.05039718]\n",
      " [ 0.27904625  0.44380189]\n",
      " [-2.86808994  0.53363128]\n",
      " [ 4.22017995  1.20977634]\n",
      " [ 0.48599944  1.08914264]\n",
      " [ 1.8576707   1.18033413]\n",
      " [-4.17012981  0.5964981 ]\n",
      " [-0.14080165  1.50785709]\n",
      " [ 0.87048305  1.18628726]\n",
      " [ 0.34396517  1.38462934]\n",
      " [-1.6856467   1.25040738]\n",
      " [ 2.4389045   1.62985612]\n",
      " [-1.72843692  1.50820344]\n",
      " [ 1.4778314   1.29282683]\n",
      " [-1.67545116  1.66214807]\n",
      " [-2.26330394  1.79935136]]\n"
     ]
    },
    {
     "data": {
      "text/html": [
       "<div>\n",
       "<style scoped>\n",
       "    .dataframe tbody tr th:only-of-type {\n",
       "        vertical-align: middle;\n",
       "    }\n",
       "\n",
       "    .dataframe tbody tr th {\n",
       "        vertical-align: top;\n",
       "    }\n",
       "\n",
       "    .dataframe thead th {\n",
       "        text-align: right;\n",
       "    }\n",
       "</style>\n",
       "<table border=\"1\" class=\"dataframe\">\n",
       "  <thead>\n",
       "    <tr style=\"text-align: right;\">\n",
       "      <th></th>\n",
       "      <th>principal component 1</th>\n",
       "      <th>principal component 2</th>\n",
       "    </tr>\n",
       "  </thead>\n",
       "  <tbody>\n",
       "    <tr>\n",
       "      <td>count</td>\n",
       "      <td>4.900000e+01</td>\n",
       "      <td>4.900000e+01</td>\n",
       "    </tr>\n",
       "    <tr>\n",
       "      <td>mean</td>\n",
       "      <td>-9.063045e-18</td>\n",
       "      <td>8.609893e-17</td>\n",
       "    </tr>\n",
       "    <tr>\n",
       "      <td>std</td>\n",
       "      <td>1.924051e+00</td>\n",
       "      <td>1.037237e+00</td>\n",
       "    </tr>\n",
       "    <tr>\n",
       "      <td>min</td>\n",
       "      <td>-4.170130e+00</td>\n",
       "      <td>-1.714792e+00</td>\n",
       "    </tr>\n",
       "    <tr>\n",
       "      <td>25%</td>\n",
       "      <td>-1.675451e+00</td>\n",
       "      <td>-8.767661e-01</td>\n",
       "    </tr>\n",
       "    <tr>\n",
       "      <td>50%</td>\n",
       "      <td>4.379983e-02</td>\n",
       "      <td>-1.752247e-01</td>\n",
       "    </tr>\n",
       "    <tr>\n",
       "      <td>75%</td>\n",
       "      <td>1.332293e+00</td>\n",
       "      <td>1.050397e+00</td>\n",
       "    </tr>\n",
       "    <tr>\n",
       "      <td>max</td>\n",
       "      <td>4.220180e+00</td>\n",
       "      <td>1.799351e+00</td>\n",
       "    </tr>\n",
       "  </tbody>\n",
       "</table>\n",
       "</div>"
      ],
      "text/plain": [
       "       principal component 1  principal component 2\n",
       "count           4.900000e+01           4.900000e+01\n",
       "mean           -9.063045e-18           8.609893e-17\n",
       "std             1.924051e+00           1.037237e+00\n",
       "min            -4.170130e+00          -1.714792e+00\n",
       "25%            -1.675451e+00          -8.767661e-01\n",
       "50%             4.379983e-02          -1.752247e-01\n",
       "75%             1.332293e+00           1.050397e+00\n",
       "max             4.220180e+00           1.799351e+00"
      ]
     },
     "execution_count": 108,
     "metadata": {},
     "output_type": "execute_result"
    }
   ],
   "source": [
    "from sklearn.decomposition import PCA\n",
    "pca = PCA(n_components=2)\n",
    "principalComponents = pca.fit_transform(DFT)\n",
    "print(principalComponents)\n",
    "principalDf = pd.DataFrame(data = principalComponents\n",
    "              , columns = ['principal component 1', 'principal component 2'])\n",
    "principalDf.describe()"
   ]
  },
  {
   "cell_type": "code",
   "execution_count": 109,
   "metadata": {},
   "outputs": [
    {
     "data": {
      "text/plain": [
       "array([60.4, 17.6])"
      ]
     },
     "execution_count": 109,
     "metadata": {},
     "output_type": "execute_result"
    }
   ],
   "source": [
    "\n",
    "per_var = np.round(pca.explained_variance_ratio_ * 100, decimals=1)\n",
    "per_var"
   ]
  },
  {
   "cell_type": "code",
   "execution_count": 110,
   "metadata": {},
   "outputs": [
    {
     "data": {
      "text/plain": [
       "array([[ 2.04166667e+02,  1.31041667e+01,  4.77083333e+00,\n",
       "         7.22916667e-01, -1.45833333e-02, -2.29166667e-01],\n",
       "       [ 1.31041667e+01,  1.33537415e+01,  1.36109694e+01,\n",
       "         1.92206633e+00,  1.33061224e+00,  2.19221939e+00],\n",
       "       [ 4.77083333e+00,  1.36109694e+01,  2.56828231e+01,\n",
       "         2.71360544e+00,  2.19770408e+00,  2.65782313e+00],\n",
       "       [ 7.22916667e-01,  1.92206633e+00,  2.71360544e+00,\n",
       "         6.31632653e-01,  3.42266156e-01,  4.14647109e-01],\n",
       "       [-1.45833333e-02,  1.33061224e+00,  2.19770408e+00,\n",
       "         3.42266156e-01,  3.18418367e-01,  3.39370748e-01],\n",
       "       [-2.29166667e-01,  2.19221939e+00,  2.65782313e+00,\n",
       "         4.14647109e-01,  3.39370748e-01,  9.82823129e-01]])"
      ]
     },
     "execution_count": 110,
     "metadata": {},
     "output_type": "execute_result"
    }
   ],
   "source": [
    "\n",
    "COV=np.cov(X.T)\n",
    "COV"
   ]
  },
  {
   "cell_type": "code",
   "execution_count": 111,
   "metadata": {},
   "outputs": [
    {
     "data": {
      "text/plain": [
       "(array([2.05247945e+02, 3.46181611e+01, 4.27980835e+00, 6.00244118e-01,\n",
       "        7.72836959e-02, 3.12663510e-01]),\n",
       " array([[ 9.96997674e-01,  6.40030394e-02, -4.15941494e-02,\n",
       "          1.29269202e-02,  1.16297663e-03, -8.47625047e-04],\n",
       "        [ 7.03984433e-02, -5.20072885e-01,  8.30661246e-01,\n",
       "         -1.80347521e-01,  1.49059371e-02,  4.26934599e-02],\n",
       "        [ 3.19048040e-02, -8.36551827e-01, -5.39264121e-01,\n",
       "         -4.59252519e-02, -3.91202914e-02,  6.86862900e-02],\n",
       "        [ 4.60819421e-03, -9.68564009e-02,  4.19773023e-02,\n",
       "          2.32200125e-01, -3.55241597e-01, -8.99289730e-01],\n",
       "        [ 7.36103335e-04, -7.57831457e-02, -5.65354177e-03,\n",
       "          1.96594677e-01,  9.27798287e-01, -3.07839702e-01],\n",
       "        [ 6.27033671e-05, -1.02394328e-01,  1.25187746e-01,\n",
       "          9.34147832e-01, -1.06017969e-01,  2.99952403e-01]]))"
      ]
     },
     "execution_count": 111,
     "metadata": {},
     "output_type": "execute_result"
    }
   ],
   "source": [
    "np.linalg.eig(COV)"
   ]
  },
  {
   "cell_type": "code",
   "execution_count": null,
   "metadata": {},
   "outputs": [],
   "source": []
  },
  {
   "cell_type": "code",
   "execution_count": 112,
   "metadata": {},
   "outputs": [],
   "source": [
    "def draw_vector(v0, v1, ax=None):\n",
    "    ax = ax or plt.gca()\n",
    "    arrowprops=dict(arrowstyle='->',\n",
    "                    linewidth=2,\n",
    "                    shrinkA=0, shrinkB=0)\n",
    "    ax.annotate('', v1, v0, arrowprops=arrowprops)"
   ]
  },
  {
   "cell_type": "code",
   "execution_count": 113,
   "metadata": {},
   "outputs": [
    {
     "ename": "TypeError",
     "evalue": "'(slice(None, None, None), 0)' is an invalid key",
     "output_type": "error",
     "traceback": [
      "\u001b[1;31m---------------------------------------------------------------------------\u001b[0m",
      "\u001b[1;31mTypeError\u001b[0m                                 Traceback (most recent call last)",
      "\u001b[1;32m<ipython-input-113-0c1f3ee075b7>\u001b[0m in \u001b[0;36m<module>\u001b[1;34m\u001b[0m\n\u001b[1;32m----> 1\u001b[1;33m \u001b[0mplt\u001b[0m\u001b[1;33m.\u001b[0m\u001b[0mscatter\u001b[0m\u001b[1;33m(\u001b[0m\u001b[0mdf\u001b[0m\u001b[1;33m[\u001b[0m\u001b[1;33m:\u001b[0m\u001b[1;33m,\u001b[0m\u001b[1;36m0\u001b[0m\u001b[1;33m]\u001b[0m\u001b[1;33m,\u001b[0m\u001b[0mdf\u001b[0m\u001b[1;33m[\u001b[0m\u001b[1;33m:\u001b[0m\u001b[1;33m,\u001b[0m\u001b[1;36m1\u001b[0m\u001b[1;33m]\u001b[0m\u001b[1;33m,\u001b[0m \u001b[0malpha\u001b[0m\u001b[1;33m=\u001b[0m\u001b[1;36m0.5\u001b[0m\u001b[1;33m)\u001b[0m\u001b[1;33m\u001b[0m\u001b[1;33m\u001b[0m\u001b[0m\n\u001b[0m\u001b[0;32m      2\u001b[0m \u001b[0mL2\u001b[0m\u001b[1;33m=\u001b[0m\u001b[1;33m[\u001b[0m\u001b[1;36m2\u001b[0m\u001b[1;33m,\u001b[0m\u001b[1;36m0.3\u001b[0m\u001b[1;33m]\u001b[0m\u001b[1;33m\u001b[0m\u001b[1;33m\u001b[0m\u001b[0m\n\u001b[0;32m      3\u001b[0m \u001b[0mi\u001b[0m\u001b[1;33m=\u001b[0m\u001b[1;36m0\u001b[0m\u001b[1;33m\u001b[0m\u001b[1;33m\u001b[0m\u001b[0m\n\u001b[0;32m      4\u001b[0m \u001b[1;32mfor\u001b[0m \u001b[0mlength\u001b[0m\u001b[1;33m,\u001b[0m \u001b[0mvector\u001b[0m \u001b[1;32min\u001b[0m \u001b[0mzip\u001b[0m\u001b[1;33m(\u001b[0m\u001b[0mpca\u001b[0m\u001b[1;33m.\u001b[0m\u001b[0mexplained_variance_\u001b[0m\u001b[1;33m,\u001b[0m \u001b[0mpca\u001b[0m\u001b[1;33m.\u001b[0m\u001b[0mcomponents_\u001b[0m\u001b[1;33m)\u001b[0m\u001b[1;33m:\u001b[0m\u001b[1;33m\u001b[0m\u001b[1;33m\u001b[0m\u001b[0m\n\u001b[0;32m      5\u001b[0m   \u001b[0mprint\u001b[0m\u001b[1;33m(\u001b[0m\u001b[0mvector\u001b[0m\u001b[1;33m)\u001b[0m\u001b[1;33m\u001b[0m\u001b[1;33m\u001b[0m\u001b[0m\n",
      "\u001b[1;32m~\\AppData\\Local\\Continuum\\anaconda3\\lib\\site-packages\\pandas\\core\\frame.py\u001b[0m in \u001b[0;36m__getitem__\u001b[1;34m(self, key)\u001b[0m\n\u001b[0;32m   2978\u001b[0m             \u001b[1;32mif\u001b[0m \u001b[0mself\u001b[0m\u001b[1;33m.\u001b[0m\u001b[0mcolumns\u001b[0m\u001b[1;33m.\u001b[0m\u001b[0mnlevels\u001b[0m \u001b[1;33m>\u001b[0m \u001b[1;36m1\u001b[0m\u001b[1;33m:\u001b[0m\u001b[1;33m\u001b[0m\u001b[1;33m\u001b[0m\u001b[0m\n\u001b[0;32m   2979\u001b[0m                 \u001b[1;32mreturn\u001b[0m \u001b[0mself\u001b[0m\u001b[1;33m.\u001b[0m\u001b[0m_getitem_multilevel\u001b[0m\u001b[1;33m(\u001b[0m\u001b[0mkey\u001b[0m\u001b[1;33m)\u001b[0m\u001b[1;33m\u001b[0m\u001b[1;33m\u001b[0m\u001b[0m\n\u001b[1;32m-> 2980\u001b[1;33m             \u001b[0mindexer\u001b[0m \u001b[1;33m=\u001b[0m \u001b[0mself\u001b[0m\u001b[1;33m.\u001b[0m\u001b[0mcolumns\u001b[0m\u001b[1;33m.\u001b[0m\u001b[0mget_loc\u001b[0m\u001b[1;33m(\u001b[0m\u001b[0mkey\u001b[0m\u001b[1;33m)\u001b[0m\u001b[1;33m\u001b[0m\u001b[1;33m\u001b[0m\u001b[0m\n\u001b[0m\u001b[0;32m   2981\u001b[0m             \u001b[1;32mif\u001b[0m \u001b[0mis_integer\u001b[0m\u001b[1;33m(\u001b[0m\u001b[0mindexer\u001b[0m\u001b[1;33m)\u001b[0m\u001b[1;33m:\u001b[0m\u001b[1;33m\u001b[0m\u001b[1;33m\u001b[0m\u001b[0m\n\u001b[0;32m   2982\u001b[0m                 \u001b[0mindexer\u001b[0m \u001b[1;33m=\u001b[0m \u001b[1;33m[\u001b[0m\u001b[0mindexer\u001b[0m\u001b[1;33m]\u001b[0m\u001b[1;33m\u001b[0m\u001b[1;33m\u001b[0m\u001b[0m\n",
      "\u001b[1;32m~\\AppData\\Local\\Continuum\\anaconda3\\lib\\site-packages\\pandas\\core\\indexes\\base.py\u001b[0m in \u001b[0;36mget_loc\u001b[1;34m(self, key, method, tolerance)\u001b[0m\n\u001b[0;32m   2895\u001b[0m                 )\n\u001b[0;32m   2896\u001b[0m             \u001b[1;32mtry\u001b[0m\u001b[1;33m:\u001b[0m\u001b[1;33m\u001b[0m\u001b[1;33m\u001b[0m\u001b[0m\n\u001b[1;32m-> 2897\u001b[1;33m                 \u001b[1;32mreturn\u001b[0m \u001b[0mself\u001b[0m\u001b[1;33m.\u001b[0m\u001b[0m_engine\u001b[0m\u001b[1;33m.\u001b[0m\u001b[0mget_loc\u001b[0m\u001b[1;33m(\u001b[0m\u001b[0mkey\u001b[0m\u001b[1;33m)\u001b[0m\u001b[1;33m\u001b[0m\u001b[1;33m\u001b[0m\u001b[0m\n\u001b[0m\u001b[0;32m   2898\u001b[0m             \u001b[1;32mexcept\u001b[0m \u001b[0mKeyError\u001b[0m\u001b[1;33m:\u001b[0m\u001b[1;33m\u001b[0m\u001b[1;33m\u001b[0m\u001b[0m\n\u001b[0;32m   2899\u001b[0m                 \u001b[1;32mreturn\u001b[0m \u001b[0mself\u001b[0m\u001b[1;33m.\u001b[0m\u001b[0m_engine\u001b[0m\u001b[1;33m.\u001b[0m\u001b[0mget_loc\u001b[0m\u001b[1;33m(\u001b[0m\u001b[0mself\u001b[0m\u001b[1;33m.\u001b[0m\u001b[0m_maybe_cast_indexer\u001b[0m\u001b[1;33m(\u001b[0m\u001b[0mkey\u001b[0m\u001b[1;33m)\u001b[0m\u001b[1;33m)\u001b[0m\u001b[1;33m\u001b[0m\u001b[1;33m\u001b[0m\u001b[0m\n",
      "\u001b[1;32mpandas\\_libs\\index.pyx\u001b[0m in \u001b[0;36mpandas._libs.index.IndexEngine.get_loc\u001b[1;34m()\u001b[0m\n",
      "\u001b[1;32mpandas\\_libs\\index.pyx\u001b[0m in \u001b[0;36mpandas._libs.index.IndexEngine.get_loc\u001b[1;34m()\u001b[0m\n",
      "\u001b[1;31mTypeError\u001b[0m: '(slice(None, None, None), 0)' is an invalid key"
     ]
    }
   ],
   "source": [
    "plt.scatter(df[:,0],df[:,1], alpha=0.5)\n",
    "L2=[2,0.3]\n",
    "i=0\n",
    "for length, vector in zip(pca.explained_variance_, pca.components_):\n",
    "  print(vector)\n",
    "  print(length)\n",
    "  v = vector*L2[i]\n",
    "  i=+1\n",
    "  draw_vector(pca.mean_, pca.mean_ + v)\n",
    "plt.axis('equal')\n",
    "plt.show()"
   ]
  },
  {
   "cell_type": "code",
   "execution_count": null,
   "metadata": {},
   "outputs": [],
   "source": []
  },
  {
   "cell_type": "code",
   "execution_count": null,
   "metadata": {},
   "outputs": [],
   "source": [
    "#tener en cuenta"
   ]
  },
  {
   "cell_type": "code",
   "execution_count": 114,
   "metadata": {},
   "outputs": [
    {
     "data": {
      "image/png": "[encoded data removed]",
      "text/plain": [
       "<Figure size 432x288 with 2 Axes>"
      ]
     },
     "metadata": {
      "needs_background": "light"
     },
     "output_type": "display_data"
    }
   ],
   "source": [
    "import seaborn as sns\n",
    "fig, ax = plt.subplots()\n",
    "s=sns.heatmap(df.iloc[:,0:4].corr(),cmap='coolwarm') \n",
    "s.set_yticklabels(s.get_yticklabels(),rotation=30,fontsize=7)\n",
    "s.set_xticklabels(s.get_xticklabels(),rotation=30,fontsize=7)\n",
    "ax.set_xlim(0,4)\n",
    "ax.set_ylim(0,4)\n",
    "plt.show()\n"
   ]
  },
  {
   "cell_type": "code",
   "execution_count": 54,
   "metadata": {},
   "outputs": [
    {
     "data": {
      "text/html": [
       "<div>\n",
       "<style scoped>\n",
       "    .dataframe tbody tr th:only-of-type {\n",
       "        vertical-align: middle;\n",
       "    }\n",
       "\n",
       "    .dataframe tbody tr th {\n",
       "        vertical-align: top;\n",
       "    }\n",
       "\n",
       "    .dataframe thead th {\n",
       "        text-align: right;\n",
       "    }\n",
       "</style>\n",
       "<table border=\"1\" class=\"dataframe\">\n",
       "  <thead>\n",
       "    <tr style=\"text-align: right;\">\n",
       "      <th></th>\n",
       "      <th>Bird</th>\n",
       "      <th>Longitud Total</th>\n",
       "      <th>Extension de las alas</th>\n",
       "      <th>Longitud pico y cabeza</th>\n",
       "    </tr>\n",
       "  </thead>\n",
       "  <tbody>\n",
       "    <tr>\n",
       "      <td>Bird</td>\n",
       "      <td>204.166667</td>\n",
       "      <td>13.104167</td>\n",
       "      <td>4.770833</td>\n",
       "      <td>0.722917</td>\n",
       "    </tr>\n",
       "    <tr>\n",
       "      <td>Longitud Total</td>\n",
       "      <td>13.104167</td>\n",
       "      <td>13.353741</td>\n",
       "      <td>13.610969</td>\n",
       "      <td>1.922066</td>\n",
       "    </tr>\n",
       "    <tr>\n",
       "      <td>Extension de las alas</td>\n",
       "      <td>4.770833</td>\n",
       "      <td>13.610969</td>\n",
       "      <td>25.682823</td>\n",
       "      <td>2.713605</td>\n",
       "    </tr>\n",
       "    <tr>\n",
       "      <td>Longitud pico y cabeza</td>\n",
       "      <td>0.722917</td>\n",
       "      <td>1.922066</td>\n",
       "      <td>2.713605</td>\n",
       "      <td>0.631633</td>\n",
       "    </tr>\n",
       "  </tbody>\n",
       "</table>\n",
       "</div>"
      ],
      "text/plain": [
       "                              Bird  Longitud Total  Extension de las alas  \\\n",
       "Bird                    204.166667       13.104167               4.770833   \n",
       "Longitud Total           13.104167       13.353741              13.610969   \n",
       "Extension de las alas     4.770833       13.610969              25.682823   \n",
       "Longitud pico y cabeza    0.722917        1.922066               2.713605   \n",
       "\n",
       "                        Longitud pico y cabeza  \n",
       "Bird                                  0.722917  \n",
       "Longitud Total                        1.922066  \n",
       "Extension de las alas                 2.713605  \n",
       "Longitud pico y cabeza                0.631633  "
      ]
     },
     "execution_count": 54,
     "metadata": {},
     "output_type": "execute_result"
    }
   ],
   "source": [
    "\n",
    "df.iloc[:,0:4].cov()"
   ]
  },
  {
   "cell_type": "code",
   "execution_count": 58,
   "metadata": {},
   "outputs": [
    {
     "data": {
      "image/png": "[encoded data removed]",
      "text/plain": [
       "<Figure size 432x288 with 2 Axes>"
      ]
     },
     "metadata": {
      "needs_background": "light"
     },
     "output_type": "display_data"
    }
   ],
   "source": [
    "import matplotlib.pyplot as plt \n",
    "import seaborn as sns\n",
    "fig, ax = plt.subplots()\n",
    "s=sns.heatmap(df.iloc[:,0:4].cov(),cmap='coolwarm', center=0,\n",
    "             linewidths=.5, cbar_kws={\"shrink\": .5},annot=True) \n",
    "s.set_yticklabels(s.get_yticklabels(),rotation=30,fontsize=7)\n",
    "s.set_xticklabels(s.get_xticklabels(),rotation=30,fontsize=7)\n",
    "ax.set_xlim(0,4)\n",
    "ax.set_ylim(0,4)\n",
    "plt.show()"
   ]
  },
  {
   "cell_type": "code",
   "execution_count": 60,
   "metadata": {},
   "outputs": [
    {
     "data": {
      "text/plain": [
       "(array([2.05247945e+02, 3.46181611e+01, 4.27980835e+00, 6.00244118e-01,\n",
       "        7.72836959e-02, 3.12663510e-01]),\n",
       " array([[ 9.96997674e-01,  6.40030394e-02, -4.15941494e-02,\n",
       "          1.29269202e-02,  1.16297663e-03, -8.47625047e-04],\n",
       "        [ 7.03984433e-02, -5.20072885e-01,  8.30661246e-01,\n",
       "         -1.80347521e-01,  1.49059371e-02,  4.26934599e-02],\n",
       "        [ 3.19048040e-02, -8.36551827e-01, -5.39264121e-01,\n",
       "         -4.59252519e-02, -3.91202914e-02,  6.86862900e-02],\n",
       "        [ 4.60819421e-03, -9.68564009e-02,  4.19773023e-02,\n",
       "          2.32200125e-01, -3.55241597e-01, -8.99289730e-01],\n",
       "        [ 7.36103335e-04, -7.57831457e-02, -5.65354177e-03,\n",
       "          1.96594677e-01,  9.27798287e-01, -3.07839702e-01],\n",
       "        [ 6.27033671e-05, -1.02394328e-01,  1.25187746e-01,\n",
       "          9.34147832e-01, -1.06017969e-01,  2.99952403e-01]]))"
      ]
     },
     "execution_count": 60,
     "metadata": {},
     "output_type": "execute_result"
    }
   ],
   "source": [
    "np.linalg.eig(np.cov(X.T))"
   ]
  },
  {
   "cell_type": "code",
   "execution_count": 66,
   "metadata": {},
   "outputs": [
    {
     "data": {
      "text/html": [
       "<div>\n",
       "<style scoped>\n",
       "    .dataframe tbody tr th:only-of-type {\n",
       "        vertical-align: middle;\n",
       "    }\n",
       "\n",
       "    .dataframe tbody tr th {\n",
       "        vertical-align: top;\n",
       "    }\n",
       "\n",
       "    .dataframe thead th {\n",
       "        text-align: right;\n",
       "    }\n",
       "</style>\n",
       "<table border=\"1\" class=\"dataframe\">\n",
       "  <thead>\n",
       "    <tr style=\"text-align: right;\">\n",
       "      <th></th>\n",
       "      <th>principal component 1</th>\n",
       "      <th>principal component 2</th>\n",
       "      <th>principal component 3</th>\n",
       "      <th>principal component 4</th>\n",
       "      <th>principal component 5</th>\n",
       "      <th>principal component 6</th>\n",
       "    </tr>\n",
       "  </thead>\n",
       "  <tbody>\n",
       "    <tr>\n",
       "      <td>count</td>\n",
       "      <td>4.900000e+01</td>\n",
       "      <td>4.900000e+01</td>\n",
       "      <td>4.900000e+01</td>\n",
       "      <td>4.900000e+01</td>\n",
       "      <td>4.900000e+01</td>\n",
       "      <td>4.900000e+01</td>\n",
       "    </tr>\n",
       "    <tr>\n",
       "      <td>mean</td>\n",
       "      <td>-3.190192e-15</td>\n",
       "      <td>1.151007e-14</td>\n",
       "      <td>2.132081e-15</td>\n",
       "      <td>-1.515794e-15</td>\n",
       "      <td>-2.259530e-15</td>\n",
       "      <td>3.789486e-16</td>\n",
       "    </tr>\n",
       "    <tr>\n",
       "      <td>std</td>\n",
       "      <td>1.432648e+01</td>\n",
       "      <td>5.883720e+00</td>\n",
       "      <td>2.068770e+00</td>\n",
       "      <td>7.747542e-01</td>\n",
       "      <td>5.591632e-01</td>\n",
       "      <td>2.779995e-01</td>\n",
       "    </tr>\n",
       "    <tr>\n",
       "      <td>min</td>\n",
       "      <td>-2.394945e+01</td>\n",
       "      <td>-1.054690e+01</td>\n",
       "      <td>-3.757788e+00</td>\n",
       "      <td>-1.432862e+00</td>\n",
       "      <td>-1.406567e+00</td>\n",
       "      <td>-4.761750e-01</td>\n",
       "    </tr>\n",
       "    <tr>\n",
       "      <td>25%</td>\n",
       "      <td>-1.159769e+01</td>\n",
       "      <td>-3.823014e+00</td>\n",
       "      <td>-1.650569e+00</td>\n",
       "      <td>-6.517876e-01</td>\n",
       "      <td>-3.987946e-01</td>\n",
       "      <td>-1.723616e-01</td>\n",
       "    </tr>\n",
       "    <tr>\n",
       "      <td>50%</td>\n",
       "      <td>-7.248556e-01</td>\n",
       "      <td>8.841846e-02</td>\n",
       "      <td>-1.075438e-01</td>\n",
       "      <td>6.748921e-02</td>\n",
       "      <td>-9.105127e-03</td>\n",
       "      <td>-6.195631e-02</td>\n",
       "    </tr>\n",
       "    <tr>\n",
       "      <td>75%</td>\n",
       "      <td>1.159312e+01</td>\n",
       "      <td>4.216518e+00</td>\n",
       "      <td>1.512058e+00</td>\n",
       "      <td>6.320018e-01</td>\n",
       "      <td>3.765531e-01</td>\n",
       "      <td>1.938074e-01</td>\n",
       "    </tr>\n",
       "    <tr>\n",
       "      <td>max</td>\n",
       "      <td>2.456881e+01</td>\n",
       "      <td>1.377228e+01</td>\n",
       "      <td>4.583252e+00</td>\n",
       "      <td>2.236953e+00</td>\n",
       "      <td>1.875629e+00</td>\n",
       "      <td>6.742015e-01</td>\n",
       "    </tr>\n",
       "  </tbody>\n",
       "</table>\n",
       "</div>"
      ],
      "text/plain": [
       "       principal component 1  principal component 2  principal component 3  \\\n",
       "count           4.900000e+01           4.900000e+01           4.900000e+01   \n",
       "mean           -3.190192e-15           1.151007e-14           2.132081e-15   \n",
       "std             1.432648e+01           5.883720e+00           2.068770e+00   \n",
       "min            -2.394945e+01          -1.054690e+01          -3.757788e+00   \n",
       "25%            -1.159769e+01          -3.823014e+00          -1.650569e+00   \n",
       "50%            -7.248556e-01           8.841846e-02          -1.075438e-01   \n",
       "75%             1.159312e+01           4.216518e+00           1.512058e+00   \n",
       "max             2.456881e+01           1.377228e+01           4.583252e+00   \n",
       "\n",
       "       principal component 4  principal component 5  principal component 6  \n",
       "count           4.900000e+01           4.900000e+01           4.900000e+01  \n",
       "mean           -1.515794e-15          -2.259530e-15           3.789486e-16  \n",
       "std             7.747542e-01           5.591632e-01           2.779995e-01  \n",
       "min            -1.432862e+00          -1.406567e+00          -4.761750e-01  \n",
       "25%            -6.517876e-01          -3.987946e-01          -1.723616e-01  \n",
       "50%             6.748921e-02          -9.105127e-03          -6.195631e-02  \n",
       "75%             6.320018e-01           3.765531e-01           1.938074e-01  \n",
       "max             2.236953e+00           1.875629e+00           6.742015e-01  "
      ]
     },
     "execution_count": 66,
     "metadata": {},
     "output_type": "execute_result"
    }
   ],
   "source": [
    "\n",
    "from sklearn.decomposition import PCA\n",
    "pca = PCA(n_components=6)\n",
    "principalComponents = pca.fit_transform(df)\n",
    "principalDf = pd.DataFrame(data = principalComponents\n",
    "             , columns = ['principal component 1', 'principal component 2', 'principal component 3', 'principal component 4','principal component 5', 'principal component 6'])\n",
    "principalDf.describe()"
   ]
  },
  {
   "cell_type": "code",
   "execution_count": 67,
   "metadata": {},
   "outputs": [
    {
     "ename": "KeyError",
     "evalue": "\"None of [Index(['target'], dtype='object')] are in the [columns]\"",
     "output_type": "error",
     "traceback": [
      "\u001b[1;31m---------------------------------------------------------------------------\u001b[0m",
      "\u001b[1;31mKeyError\u001b[0m                                  Traceback (most recent call last)",
      "\u001b[1;32m<ipython-input-67-66bcecbf9cfe>\u001b[0m in \u001b[0;36m<module>\u001b[1;34m\u001b[0m\n\u001b[1;32m----> 1\u001b[1;33m \u001b[0mfinalDf\u001b[0m \u001b[1;33m=\u001b[0m \u001b[0mpd\u001b[0m\u001b[1;33m.\u001b[0m\u001b[0mconcat\u001b[0m\u001b[1;33m(\u001b[0m\u001b[1;33m[\u001b[0m\u001b[0mprincipalDf\u001b[0m\u001b[1;33m,\u001b[0m \u001b[0mdf\u001b[0m\u001b[1;33m[\u001b[0m\u001b[1;33m[\u001b[0m\u001b[1;34m'target'\u001b[0m\u001b[1;33m]\u001b[0m\u001b[1;33m]\u001b[0m\u001b[1;33m]\u001b[0m\u001b[1;33m,\u001b[0m \u001b[0maxis\u001b[0m \u001b[1;33m=\u001b[0m \u001b[1;36m1\u001b[0m\u001b[1;33m)\u001b[0m\u001b[1;33m\u001b[0m\u001b[1;33m\u001b[0m\u001b[0m\n\u001b[0m",
      "\u001b[1;32m~\\AppData\\Local\\Continuum\\anaconda3\\lib\\site-packages\\pandas\\core\\frame.py\u001b[0m in \u001b[0;36m__getitem__\u001b[1;34m(self, key)\u001b[0m\n\u001b[0;32m   2984\u001b[0m             \u001b[1;32mif\u001b[0m \u001b[0mis_iterator\u001b[0m\u001b[1;33m(\u001b[0m\u001b[0mkey\u001b[0m\u001b[1;33m)\u001b[0m\u001b[1;33m:\u001b[0m\u001b[1;33m\u001b[0m\u001b[1;33m\u001b[0m\u001b[0m\n\u001b[0;32m   2985\u001b[0m                 \u001b[0mkey\u001b[0m \u001b[1;33m=\u001b[0m \u001b[0mlist\u001b[0m\u001b[1;33m(\u001b[0m\u001b[0mkey\u001b[0m\u001b[1;33m)\u001b[0m\u001b[1;33m\u001b[0m\u001b[1;33m\u001b[0m\u001b[0m\n\u001b[1;32m-> 2986\u001b[1;33m             \u001b[0mindexer\u001b[0m \u001b[1;33m=\u001b[0m \u001b[0mself\u001b[0m\u001b[1;33m.\u001b[0m\u001b[0mloc\u001b[0m\u001b[1;33m.\u001b[0m\u001b[0m_convert_to_indexer\u001b[0m\u001b[1;33m(\u001b[0m\u001b[0mkey\u001b[0m\u001b[1;33m,\u001b[0m \u001b[0maxis\u001b[0m\u001b[1;33m=\u001b[0m\u001b[1;36m1\u001b[0m\u001b[1;33m,\u001b[0m \u001b[0mraise_missing\u001b[0m\u001b[1;33m=\u001b[0m\u001b[1;32mTrue\u001b[0m\u001b[1;33m)\u001b[0m\u001b[1;33m\u001b[0m\u001b[1;33m\u001b[0m\u001b[0m\n\u001b[0m\u001b[0;32m   2987\u001b[0m \u001b[1;33m\u001b[0m\u001b[0m\n\u001b[0;32m   2988\u001b[0m         \u001b[1;31m# take() does not accept boolean indexers\u001b[0m\u001b[1;33m\u001b[0m\u001b[1;33m\u001b[0m\u001b[1;33m\u001b[0m\u001b[0m\n",
      "\u001b[1;32m~\\AppData\\Local\\Continuum\\anaconda3\\lib\\site-packages\\pandas\\core\\indexing.py\u001b[0m in \u001b[0;36m_convert_to_indexer\u001b[1;34m(self, obj, axis, is_setter, raise_missing)\u001b[0m\n\u001b[0;32m   1283\u001b[0m                 \u001b[1;31m# When setting, missing keys are not allowed, even with .loc:\u001b[0m\u001b[1;33m\u001b[0m\u001b[1;33m\u001b[0m\u001b[1;33m\u001b[0m\u001b[0m\n\u001b[0;32m   1284\u001b[0m                 \u001b[0mkwargs\u001b[0m \u001b[1;33m=\u001b[0m \u001b[1;33m{\u001b[0m\u001b[1;34m\"raise_missing\"\u001b[0m\u001b[1;33m:\u001b[0m \u001b[1;32mTrue\u001b[0m \u001b[1;32mif\u001b[0m \u001b[0mis_setter\u001b[0m \u001b[1;32melse\u001b[0m \u001b[0mraise_missing\u001b[0m\u001b[1;33m}\u001b[0m\u001b[1;33m\u001b[0m\u001b[1;33m\u001b[0m\u001b[0m\n\u001b[1;32m-> 1285\u001b[1;33m                 \u001b[1;32mreturn\u001b[0m \u001b[0mself\u001b[0m\u001b[1;33m.\u001b[0m\u001b[0m_get_listlike_indexer\u001b[0m\u001b[1;33m(\u001b[0m\u001b[0mobj\u001b[0m\u001b[1;33m,\u001b[0m \u001b[0maxis\u001b[0m\u001b[1;33m,\u001b[0m \u001b[1;33m**\u001b[0m\u001b[0mkwargs\u001b[0m\u001b[1;33m)\u001b[0m\u001b[1;33m[\u001b[0m\u001b[1;36m1\u001b[0m\u001b[1;33m]\u001b[0m\u001b[1;33m\u001b[0m\u001b[1;33m\u001b[0m\u001b[0m\n\u001b[0m\u001b[0;32m   1286\u001b[0m         \u001b[1;32melse\u001b[0m\u001b[1;33m:\u001b[0m\u001b[1;33m\u001b[0m\u001b[1;33m\u001b[0m\u001b[0m\n\u001b[0;32m   1287\u001b[0m             \u001b[1;32mtry\u001b[0m\u001b[1;33m:\u001b[0m\u001b[1;33m\u001b[0m\u001b[1;33m\u001b[0m\u001b[0m\n",
      "\u001b[1;32m~\\AppData\\Local\\Continuum\\anaconda3\\lib\\site-packages\\pandas\\core\\indexing.py\u001b[0m in \u001b[0;36m_get_listlike_indexer\u001b[1;34m(self, key, axis, raise_missing)\u001b[0m\n\u001b[0;32m   1090\u001b[0m \u001b[1;33m\u001b[0m\u001b[0m\n\u001b[0;32m   1091\u001b[0m         self._validate_read_indexer(\n\u001b[1;32m-> 1092\u001b[1;33m             \u001b[0mkeyarr\u001b[0m\u001b[1;33m,\u001b[0m \u001b[0mindexer\u001b[0m\u001b[1;33m,\u001b[0m \u001b[0mo\u001b[0m\u001b[1;33m.\u001b[0m\u001b[0m_get_axis_number\u001b[0m\u001b[1;33m(\u001b[0m\u001b[0maxis\u001b[0m\u001b[1;33m)\u001b[0m\u001b[1;33m,\u001b[0m \u001b[0mraise_missing\u001b[0m\u001b[1;33m=\u001b[0m\u001b[0mraise_missing\u001b[0m\u001b[1;33m\u001b[0m\u001b[1;33m\u001b[0m\u001b[0m\n\u001b[0m\u001b[0;32m   1093\u001b[0m         )\n\u001b[0;32m   1094\u001b[0m         \u001b[1;32mreturn\u001b[0m \u001b[0mkeyarr\u001b[0m\u001b[1;33m,\u001b[0m \u001b[0mindexer\u001b[0m\u001b[1;33m\u001b[0m\u001b[1;33m\u001b[0m\u001b[0m\n",
      "\u001b[1;32m~\\AppData\\Local\\Continuum\\anaconda3\\lib\\site-packages\\pandas\\core\\indexing.py\u001b[0m in \u001b[0;36m_validate_read_indexer\u001b[1;34m(self, key, indexer, axis, raise_missing)\u001b[0m\n\u001b[0;32m   1175\u001b[0m                 raise KeyError(\n\u001b[0;32m   1176\u001b[0m                     \"None of [{key}] are in the [{axis}]\".format(\n\u001b[1;32m-> 1177\u001b[1;33m                         \u001b[0mkey\u001b[0m\u001b[1;33m=\u001b[0m\u001b[0mkey\u001b[0m\u001b[1;33m,\u001b[0m \u001b[0maxis\u001b[0m\u001b[1;33m=\u001b[0m\u001b[0mself\u001b[0m\u001b[1;33m.\u001b[0m\u001b[0mobj\u001b[0m\u001b[1;33m.\u001b[0m\u001b[0m_get_axis_name\u001b[0m\u001b[1;33m(\u001b[0m\u001b[0maxis\u001b[0m\u001b[1;33m)\u001b[0m\u001b[1;33m\u001b[0m\u001b[1;33m\u001b[0m\u001b[0m\n\u001b[0m\u001b[0;32m   1178\u001b[0m                     )\n\u001b[0;32m   1179\u001b[0m                 )\n",
      "\u001b[1;31mKeyError\u001b[0m: \"None of [Index(['target'], dtype='object')] are in the [columns]\""
     ]
    }
   ],
   "source": [
    "finalDf = pd.concat([principalDf, df[['target']]], axis = 1)"
   ]
  },
  {
   "cell_type": "code",
   "execution_count": 18,
   "metadata": {},
   "outputs": [],
   "source": [
    "from sklearn.preprocessing import StandardScaler"
   ]
  },
  {
   "cell_type": "code",
   "execution_count": 19,
   "metadata": {},
   "outputs": [
    {
     "data": {
      "text/plain": [
       "array([[245. ,  31.6,  18.5,  20.5],\n",
       "       [240. ,  30.4,  17.9,  19.6],\n",
       "       [240. ,  31. ,  18.4,  20.6],\n",
       "       [236. ,  30.9,  17.7,  20.2],\n",
       "       [243. ,  31.5,  18.6,  20.3],\n",
       "       [247. ,  32. ,  19. ,  20.9],\n",
       "       [238. ,  30.9,  18.4,  20.2],\n",
       "       [239. ,  32.8,  18.6,  21.2],\n",
       "       [248. ,  32.7,  19.1,  21.1],\n",
       "       [238. ,  31. ,  18.8,  22. ],\n",
       "       [240. ,  31.3,  18.6,  22. ],\n",
       "       [244. ,  31.1,  18.6,  20.5],\n",
       "       [246. ,  32.3,  19.3,  21.8],\n",
       "       [245. ,  32. ,  19.1,  20. ],\n",
       "       [235. ,  31.5,  18.1,  19.8],\n",
       "       [237. ,  30.9,  18. ,  20.3],\n",
       "       [244. ,  31.4,  18.5,  21.6],\n",
       "       [238. ,  30.5,  18.2,  20.9],\n",
       "       [236. ,  30.3,  18.5,  20.1],\n",
       "       [246. ,  32.5,  18.6,  21.9],\n",
       "       [236. ,  31.5,  18. ,  21.5],\n",
       "       [240. ,  31.4,  18. ,  20.7],\n",
       "       [240. ,  31.5,  18.2,  20.6],\n",
       "       [242. ,  32.6,  18.8,  21.7],\n",
       "       [232. ,  30.3,  17.2,  19.8],\n",
       "       [250. ,  31.7,  18.8,  22.5],\n",
       "       [237. ,  31. ,  18.5,  20. ],\n",
       "       [245. ,  32.2,  19.5,  21.4],\n",
       "       [245. ,  33.1,  19.8,  22.7],\n",
       "       [231. ,  30.1,  17.3,  19.8],\n",
       "       [239. ,  30.3,  18. ,  23.1],\n",
       "       [243. ,  31.6,  18.8,  21.3],\n",
       "       [245. ,  31.8,  18.5,  21.7],\n",
       "       [247. ,  30.9,  18.1,  19. ],\n",
       "       [243. ,  30.9,  18.5,  21.3],\n",
       "       [252. ,  31.9,  19.1,  22.2],\n",
       "       [230. ,  30.4,  17.3,  18.6],\n",
       "       [242. ,  30.8,  18.2,  20.5],\n",
       "       [238. ,  31.2,  17.9,  19.3],\n",
       "       [249. ,  33.4,  19.5,  22.8],\n",
       "       [242. ,  31. ,  18.1,  20.7],\n",
       "       [237. ,  31.7,  18.2,  20.3],\n",
       "       [238. ,  31.5,  18.4,  20.3],\n",
       "       [245. ,  32.1,  19.1,  20.8],\n",
       "       [235. ,  30.7,  17.7,  19.6],\n",
       "       [247. ,  31.9,  19.1,  20.4],\n",
       "       [237. ,  30.6,  18.6,  20.4],\n",
       "       [245. ,  32.5,  18.5,  21.1],\n",
       "       [248. ,  32.3,  18.8,  20.9]])"
      ]
     },
     "execution_count": 19,
     "metadata": {},
     "output_type": "execute_result"
    }
   ],
   "source": [
    "features = ['Extension de las alas', 'Longitud pico y cabeza', 'Longitud del homero', 'Longitud de la quilla']\n",
    "x = df.loc[:, features].values\n",
    "x"
   ]
  },
  {
   "cell_type": "code",
   "execution_count": 20,
   "metadata": {},
   "outputs": [
    {
     "data": {
      "text/plain": [
       "array([[245],\n",
       "       [240],\n",
       "       [240],\n",
       "       [236],\n",
       "       [243],\n",
       "       [247],\n",
       "       [238],\n",
       "       [239],\n",
       "       [248],\n",
       "       [238],\n",
       "       [240],\n",
       "       [244],\n",
       "       [246],\n",
       "       [245],\n",
       "       [235],\n",
       "       [237],\n",
       "       [244],\n",
       "       [238],\n",
       "       [236],\n",
       "       [246],\n",
       "       [236],\n",
       "       [240],\n",
       "       [240],\n",
       "       [242],\n",
       "       [232],\n",
       "       [250],\n",
       "       [237],\n",
       "       [245],\n",
       "       [245],\n",
       "       [231],\n",
       "       [239],\n",
       "       [243],\n",
       "       [245],\n",
       "       [247],\n",
       "       [243],\n",
       "       [252],\n",
       "       [230],\n",
       "       [242],\n",
       "       [238],\n",
       "       [249],\n",
       "       [242],\n",
       "       [237],\n",
       "       [238],\n",
       "       [245],\n",
       "       [235],\n",
       "       [247],\n",
       "       [237],\n",
       "       [245],\n",
       "       [248]], dtype=int64)"
      ]
     },
     "execution_count": 20,
     "metadata": {},
     "output_type": "execute_result"
    }
   ],
   "source": [
    "y = df.loc[:,['Extension de las alas']].values\n",
    "y"
   ]
  },
  {
   "cell_type": "code",
   "execution_count": 23,
   "metadata": {},
   "outputs": [
    {
     "data": {
      "text/plain": [
       "array([[  3.67346939,   0.14081633,   0.03061224,  -0.32653061],\n",
       "       [ -1.32653061,  -1.05918367,  -0.56938776,  -1.22653061],\n",
       "       [ -1.32653061,  -0.45918367,  -0.06938776,  -0.22653061],\n",
       "       [ -5.32653061,  -0.55918367,  -0.76938776,  -0.62653061],\n",
       "       [  1.67346939,   0.04081633,   0.13061224,  -0.52653061],\n",
       "       [  5.67346939,   0.54081633,   0.53061224,   0.07346939],\n",
       "       [ -3.32653061,  -0.55918367,  -0.06938776,  -0.62653061],\n",
       "       [ -2.32653061,   1.34081633,   0.13061224,   0.37346939],\n",
       "       [  6.67346939,   1.24081633,   0.63061224,   0.27346939],\n",
       "       [ -3.32653061,  -0.45918367,   0.33061224,   1.17346939],\n",
       "       [ -1.32653061,  -0.15918367,   0.13061224,   1.17346939],\n",
       "       [  2.67346939,  -0.35918367,   0.13061224,  -0.32653061],\n",
       "       [  4.67346939,   0.84081633,   0.83061224,   0.97346939],\n",
       "       [  3.67346939,   0.54081633,   0.63061224,  -0.82653061],\n",
       "       [ -6.32653061,   0.04081633,  -0.36938776,  -1.02653061],\n",
       "       [ -4.32653061,  -0.55918367,  -0.46938776,  -0.52653061],\n",
       "       [  2.67346939,  -0.05918367,   0.03061224,   0.77346939],\n",
       "       [ -3.32653061,  -0.95918367,  -0.26938776,   0.07346939],\n",
       "       [ -5.32653061,  -1.15918367,   0.03061224,  -0.72653061],\n",
       "       [  4.67346939,   1.04081633,   0.13061224,   1.07346939],\n",
       "       [ -5.32653061,   0.04081633,  -0.46938776,   0.67346939],\n",
       "       [ -1.32653061,  -0.05918367,  -0.46938776,  -0.12653061],\n",
       "       [ -1.32653061,   0.04081633,  -0.26938776,  -0.22653061],\n",
       "       [  0.67346939,   1.14081633,   0.33061224,   0.87346939],\n",
       "       [ -9.32653061,  -1.15918367,  -1.26938776,  -1.02653061],\n",
       "       [  8.67346939,   0.24081633,   0.33061224,   1.67346939],\n",
       "       [ -4.32653061,  -0.45918367,   0.03061224,  -0.82653061],\n",
       "       [  3.67346939,   0.74081633,   1.03061224,   0.57346939],\n",
       "       [  3.67346939,   1.64081633,   1.33061224,   1.87346939],\n",
       "       [-10.32653061,  -1.35918367,  -1.16938776,  -1.02653061],\n",
       "       [ -2.32653061,  -1.15918367,  -0.46938776,   2.27346939],\n",
       "       [  1.67346939,   0.14081633,   0.33061224,   0.47346939],\n",
       "       [  3.67346939,   0.34081633,   0.03061224,   0.87346939],\n",
       "       [  5.67346939,  -0.55918367,  -0.36938776,  -1.82653061],\n",
       "       [  1.67346939,  -0.55918367,   0.03061224,   0.47346939],\n",
       "       [ 10.67346939,   0.44081633,   0.63061224,   1.37346939],\n",
       "       [-11.32653061,  -1.05918367,  -1.16938776,  -2.22653061],\n",
       "       [  0.67346939,  -0.65918367,  -0.26938776,  -0.32653061],\n",
       "       [ -3.32653061,  -0.25918367,  -0.56938776,  -1.52653061],\n",
       "       [  7.67346939,   1.94081633,   1.03061224,   1.97346939],\n",
       "       [  0.67346939,  -0.45918367,  -0.36938776,  -0.12653061],\n",
       "       [ -4.32653061,   0.24081633,  -0.26938776,  -0.52653061],\n",
       "       [ -3.32653061,   0.04081633,  -0.06938776,  -0.52653061],\n",
       "       [  3.67346939,   0.64081633,   0.63061224,  -0.02653061],\n",
       "       [ -6.32653061,  -0.75918367,  -0.76938776,  -1.22653061],\n",
       "       [  5.67346939,   0.44081633,   0.63061224,  -0.42653061],\n",
       "       [ -4.32653061,  -0.85918367,   0.13061224,  -0.42653061],\n",
       "       [  3.67346939,   1.04081633,   0.03061224,   0.27346939],\n",
       "       [  6.67346939,   0.84081633,   0.33061224,   0.07346939]])"
      ]
     },
     "execution_count": 23,
     "metadata": {},
     "output_type": "execute_result"
    }
   ],
   "source": [
    "x2 = StandardScaler(with_std=False).fit_transform(x)\n",
    "#x2 = StandardScaler().fit_transform(x)\n",
    "x2"
   ]
  },
  {
   "cell_type": "code",
   "execution_count": 24,
   "metadata": {},
   "outputs": [],
   "source": [
    "standardbase=pd.DataFrame(x2, columns=['Extension de las alas', 'Longitud pico y cabeza', 'Longitud del homero', 'Longitud de la quilla'])"
   ]
  },
  {
   "cell_type": "code",
   "execution_count": 25,
   "metadata": {},
   "outputs": [
    {
     "data": {
      "text/html": [
       "<div>\n",
       "<style scoped>\n",
       "    .dataframe tbody tr th:only-of-type {\n",
       "        vertical-align: middle;\n",
       "    }\n",
       "\n",
       "    .dataframe tbody tr th {\n",
       "        vertical-align: top;\n",
       "    }\n",
       "\n",
       "    .dataframe thead th {\n",
       "        text-align: right;\n",
       "    }\n",
       "</style>\n",
       "<table border=\"1\" class=\"dataframe\">\n",
       "  <thead>\n",
       "    <tr style=\"text-align: right;\">\n",
       "      <th></th>\n",
       "      <th>Extension de las alas</th>\n",
       "      <th>Longitud pico y cabeza</th>\n",
       "      <th>Longitud del homero</th>\n",
       "      <th>Longitud de la quilla</th>\n",
       "    </tr>\n",
       "  </thead>\n",
       "  <tbody>\n",
       "    <tr>\n",
       "      <td>0</td>\n",
       "      <td>3.673469</td>\n",
       "      <td>0.140816</td>\n",
       "      <td>0.030612</td>\n",
       "      <td>-0.326531</td>\n",
       "    </tr>\n",
       "    <tr>\n",
       "      <td>1</td>\n",
       "      <td>-1.326531</td>\n",
       "      <td>-1.059184</td>\n",
       "      <td>-0.569388</td>\n",
       "      <td>-1.226531</td>\n",
       "    </tr>\n",
       "    <tr>\n",
       "      <td>2</td>\n",
       "      <td>-1.326531</td>\n",
       "      <td>-0.459184</td>\n",
       "      <td>-0.069388</td>\n",
       "      <td>-0.226531</td>\n",
       "    </tr>\n",
       "    <tr>\n",
       "      <td>3</td>\n",
       "      <td>-5.326531</td>\n",
       "      <td>-0.559184</td>\n",
       "      <td>-0.769388</td>\n",
       "      <td>-0.626531</td>\n",
       "    </tr>\n",
       "    <tr>\n",
       "      <td>4</td>\n",
       "      <td>1.673469</td>\n",
       "      <td>0.040816</td>\n",
       "      <td>0.130612</td>\n",
       "      <td>-0.526531</td>\n",
       "    </tr>\n",
       "  </tbody>\n",
       "</table>\n",
       "</div>"
      ],
      "text/plain": [
       "   Extension de las alas  Longitud pico y cabeza  Longitud del homero  \\\n",
       "0               3.673469                0.140816             0.030612   \n",
       "1              -1.326531               -1.059184            -0.569388   \n",
       "2              -1.326531               -0.459184            -0.069388   \n",
       "3              -5.326531               -0.559184            -0.769388   \n",
       "4               1.673469                0.040816             0.130612   \n",
       "\n",
       "   Longitud de la quilla  \n",
       "0              -0.326531  \n",
       "1              -1.226531  \n",
       "2              -0.226531  \n",
       "3              -0.626531  \n",
       "4              -0.526531  "
      ]
     },
     "execution_count": 25,
     "metadata": {},
     "output_type": "execute_result"
    }
   ],
   "source": [
    "standardbase.head()"
   ]
  },
  {
   "cell_type": "code",
   "execution_count": 26,
   "metadata": {},
   "outputs": [
    {
     "name": "stdout",
     "output_type": "stream",
     "text": [
      "241.3265306122449\n",
      "5.015843287196676\n"
     ]
    }
   ],
   "source": [
    "PromC1=df[\"Extension de las alas\"].mean()\n",
    "DevestC1=np.std(df[\"Extension de las alas\"])\n",
    "print(PromC1)\n",
    "print(DevestC1)"
   ]
  },
  {
   "cell_type": "code",
   "execution_count": 31,
   "metadata": {},
   "outputs": [],
   "source": [
    "estandarización=lambda x:(x-PromC1)\n"
   ]
  },
  {
   "cell_type": "code",
   "execution_count": 33,
   "metadata": {},
   "outputs": [
    {
     "data": {
      "text/plain": [
       "0      3.673469\n",
       "1     -1.326531\n",
       "2     -1.326531\n",
       "3     -5.326531\n",
       "4      1.673469\n",
       "5      5.673469\n",
       "6     -3.326531\n",
       "7     -2.326531\n",
       "8      6.673469\n",
       "9     -3.326531\n",
       "10    -1.326531\n",
       "11     2.673469\n",
       "12     4.673469\n",
       "13     3.673469\n",
       "14    -6.326531\n",
       "15    -4.326531\n",
       "16     2.673469\n",
       "17    -3.326531\n",
       "18    -5.326531\n",
       "19     4.673469\n",
       "20    -5.326531\n",
       "21    -1.326531\n",
       "22    -1.326531\n",
       "23     0.673469\n",
       "24    -9.326531\n",
       "25     8.673469\n",
       "26    -4.326531\n",
       "27     3.673469\n",
       "28     3.673469\n",
       "29   -10.326531\n",
       "30    -2.326531\n",
       "31     1.673469\n",
       "32     3.673469\n",
       "33     5.673469\n",
       "34     1.673469\n",
       "35    10.673469\n",
       "36   -11.326531\n",
       "37     0.673469\n",
       "38    -3.326531\n",
       "39     7.673469\n",
       "40     0.673469\n",
       "41    -4.326531\n",
       "42    -3.326531\n",
       "43     3.673469\n",
       "44    -6.326531\n",
       "45     5.673469\n",
       "46    -4.326531\n",
       "47     3.673469\n",
       "48     6.673469\n",
       "Name: Extension de las alas, dtype: float64"
      ]
     },
     "execution_count": 33,
     "metadata": {},
     "output_type": "execute_result"
    }
   ],
   "source": [
    "df[\"Extension de las alas\"].apply(estandarización)"
   ]
  },
  {
   "cell_type": "code",
   "execution_count": 34,
   "metadata": {},
   "outputs": [
    {
     "data": {
      "text/plain": [
       "array([[  3.67346939,   0.14081633,   0.03061224,  -0.32653061],\n",
       "       [ -1.32653061,  -1.05918367,  -0.56938776,  -1.22653061],\n",
       "       [ -1.32653061,  -0.45918367,  -0.06938776,  -0.22653061],\n",
       "       [ -5.32653061,  -0.55918367,  -0.76938776,  -0.62653061],\n",
       "       [  1.67346939,   0.04081633,   0.13061224,  -0.52653061],\n",
       "       [  5.67346939,   0.54081633,   0.53061224,   0.07346939],\n",
       "       [ -3.32653061,  -0.55918367,  -0.06938776,  -0.62653061],\n",
       "       [ -2.32653061,   1.34081633,   0.13061224,   0.37346939],\n",
       "       [  6.67346939,   1.24081633,   0.63061224,   0.27346939],\n",
       "       [ -3.32653061,  -0.45918367,   0.33061224,   1.17346939],\n",
       "       [ -1.32653061,  -0.15918367,   0.13061224,   1.17346939],\n",
       "       [  2.67346939,  -0.35918367,   0.13061224,  -0.32653061],\n",
       "       [  4.67346939,   0.84081633,   0.83061224,   0.97346939],\n",
       "       [  3.67346939,   0.54081633,   0.63061224,  -0.82653061],\n",
       "       [ -6.32653061,   0.04081633,  -0.36938776,  -1.02653061],\n",
       "       [ -4.32653061,  -0.55918367,  -0.46938776,  -0.52653061],\n",
       "       [  2.67346939,  -0.05918367,   0.03061224,   0.77346939],\n",
       "       [ -3.32653061,  -0.95918367,  -0.26938776,   0.07346939],\n",
       "       [ -5.32653061,  -1.15918367,   0.03061224,  -0.72653061],\n",
       "       [  4.67346939,   1.04081633,   0.13061224,   1.07346939],\n",
       "       [ -5.32653061,   0.04081633,  -0.46938776,   0.67346939],\n",
       "       [ -1.32653061,  -0.05918367,  -0.46938776,  -0.12653061],\n",
       "       [ -1.32653061,   0.04081633,  -0.26938776,  -0.22653061],\n",
       "       [  0.67346939,   1.14081633,   0.33061224,   0.87346939],\n",
       "       [ -9.32653061,  -1.15918367,  -1.26938776,  -1.02653061],\n",
       "       [  8.67346939,   0.24081633,   0.33061224,   1.67346939],\n",
       "       [ -4.32653061,  -0.45918367,   0.03061224,  -0.82653061],\n",
       "       [  3.67346939,   0.74081633,   1.03061224,   0.57346939],\n",
       "       [  3.67346939,   1.64081633,   1.33061224,   1.87346939],\n",
       "       [-10.32653061,  -1.35918367,  -1.16938776,  -1.02653061],\n",
       "       [ -2.32653061,  -1.15918367,  -0.46938776,   2.27346939],\n",
       "       [  1.67346939,   0.14081633,   0.33061224,   0.47346939],\n",
       "       [  3.67346939,   0.34081633,   0.03061224,   0.87346939],\n",
       "       [  5.67346939,  -0.55918367,  -0.36938776,  -1.82653061],\n",
       "       [  1.67346939,  -0.55918367,   0.03061224,   0.47346939],\n",
       "       [ 10.67346939,   0.44081633,   0.63061224,   1.37346939],\n",
       "       [-11.32653061,  -1.05918367,  -1.16938776,  -2.22653061],\n",
       "       [  0.67346939,  -0.65918367,  -0.26938776,  -0.32653061],\n",
       "       [ -3.32653061,  -0.25918367,  -0.56938776,  -1.52653061],\n",
       "       [  7.67346939,   1.94081633,   1.03061224,   1.97346939],\n",
       "       [  0.67346939,  -0.45918367,  -0.36938776,  -0.12653061],\n",
       "       [ -4.32653061,   0.24081633,  -0.26938776,  -0.52653061],\n",
       "       [ -3.32653061,   0.04081633,  -0.06938776,  -0.52653061],\n",
       "       [  3.67346939,   0.64081633,   0.63061224,  -0.02653061],\n",
       "       [ -6.32653061,  -0.75918367,  -0.76938776,  -1.22653061],\n",
       "       [  5.67346939,   0.44081633,   0.63061224,  -0.42653061],\n",
       "       [ -4.32653061,  -0.85918367,   0.13061224,  -0.42653061],\n",
       "       [  3.67346939,   1.04081633,   0.03061224,   0.27346939],\n",
       "       [  6.67346939,   0.84081633,   0.33061224,   0.07346939]])"
      ]
     },
     "execution_count": 34,
     "metadata": {},
     "output_type": "execute_result"
    }
   ],
   "source": [
    "x2"
   ]
  },
  {
   "cell_type": "code",
   "execution_count": 35,
   "metadata": {},
   "outputs": [
    {
     "data": {
      "text/plain": [
       "array([[25.15868388,  2.65822574,  2.15285298,  2.60358184],\n",
       "       [ 2.65822574,  0.61874219,  0.33528113,  0.40618492],\n",
       "       [ 2.15285298,  0.33528113,  0.31192003,  0.33244481],\n",
       "       [ 2.60358184,  0.40618492,  0.33244481,  0.96276551]])"
      ]
     },
     "execution_count": 35,
     "metadata": {},
     "output_type": "execute_result"
    }
   ],
   "source": [
    "np.dot(np.transpose(x2),(x2))*(1/49)"
   ]
  },
  {
   "cell_type": "code",
   "execution_count": 36,
   "metadata": {},
   "outputs": [
    {
     "data": {
      "text/plain": [
       "array([[25.68282313,  2.71360544,  2.19770408,  2.65782313],\n",
       "       [ 2.71360544,  0.63163265,  0.34226616,  0.41464711],\n",
       "       [ 2.19770408,  0.34226616,  0.31841837,  0.33937075],\n",
       "       [ 2.65782313,  0.41464711,  0.33937075,  0.98282313]])"
      ]
     },
     "execution_count": 36,
     "metadata": {},
     "output_type": "execute_result"
    }
   ],
   "source": [
    "np.cov(np.transpose(x))"
   ]
  },
  {
   "cell_type": "code",
   "execution_count": 39,
   "metadata": {},
   "outputs": [
    {
     "data": {
      "text/plain": [
       "array([[25.68282313,  2.71360544,  2.19770408,  2.65782313],\n",
       "       [ 2.71360544,  0.63163265,  0.34226616,  0.41464711],\n",
       "       [ 2.19770408,  0.34226616,  0.31841837,  0.33937075],\n",
       "       [ 2.65782313,  0.41464711,  0.33937075,  0.98282313]])"
      ]
     },
     "execution_count": 39,
     "metadata": {},
     "output_type": "execute_result"
    }
   ],
   "source": [
    "COV=np.cov(np.transpose(x))\n"
   ]
  },
  {
   "cell_type": "code",
   "execution_count": 48,
   "metadata": {},
   "outputs": [
    {
     "data": {
      "image/png": "[encoded data removed]",
      "text/plain": [
       "<Figure size 432x288 with 2 Axes>"
      ]
     },
     "metadata": {
      "needs_background": "light"
     },
     "output_type": "display_data"
    }
   ],
   "source": [
    "import matplotlib.pyplot as plt \n",
    "import seaborn as sns\n",
    "fig, ax = plt.subplots()\n",
    "s=sns.heatmap(df.iloc[:,1:5].corr(),cmap='coolwarm') \n",
    "s.set_yticklabels(s.get_yticklabels(),rotation=30,fontsize=7)\n",
    "s.set_xticklabels(s.get_xticklabels(),rotation=30,fontsize=7)\n",
    "ax.set_xlim(0,4)\n",
    "ax.set_ylim(0,4)\n",
    "plt.show()"
   ]
  },
  {
   "cell_type": "code",
   "execution_count": 46,
   "metadata": {},
   "outputs": [
    {
     "data": {
      "text/html": [
       "<div>\n",
       "<style scoped>\n",
       "    .dataframe tbody tr th:only-of-type {\n",
       "        vertical-align: middle;\n",
       "    }\n",
       "\n",
       "    .dataframe tbody tr th {\n",
       "        vertical-align: top;\n",
       "    }\n",
       "\n",
       "    .dataframe thead th {\n",
       "        text-align: right;\n",
       "    }\n",
       "</style>\n",
       "<table border=\"1\" class=\"dataframe\">\n",
       "  <thead>\n",
       "    <tr style=\"text-align: right;\">\n",
       "      <th></th>\n",
       "      <th>Bird</th>\n",
       "      <th>Longitud Total</th>\n",
       "      <th>Extension de las alas</th>\n",
       "      <th>Longitud pico y cabeza</th>\n",
       "      <th>Longitud del homero</th>\n",
       "    </tr>\n",
       "  </thead>\n",
       "  <tbody>\n",
       "    <tr>\n",
       "      <td>Bird</td>\n",
       "      <td>204.166667</td>\n",
       "      <td>13.104167</td>\n",
       "      <td>4.770833</td>\n",
       "      <td>0.722917</td>\n",
       "      <td>-0.014583</td>\n",
       "    </tr>\n",
       "    <tr>\n",
       "      <td>Longitud Total</td>\n",
       "      <td>13.104167</td>\n",
       "      <td>13.353741</td>\n",
       "      <td>13.610969</td>\n",
       "      <td>1.922066</td>\n",
       "      <td>1.330612</td>\n",
       "    </tr>\n",
       "    <tr>\n",
       "      <td>Extension de las alas</td>\n",
       "      <td>4.770833</td>\n",
       "      <td>13.610969</td>\n",
       "      <td>25.682823</td>\n",
       "      <td>2.713605</td>\n",
       "      <td>2.197704</td>\n",
       "    </tr>\n",
       "    <tr>\n",
       "      <td>Longitud pico y cabeza</td>\n",
       "      <td>0.722917</td>\n",
       "      <td>1.922066</td>\n",
       "      <td>2.713605</td>\n",
       "      <td>0.631633</td>\n",
       "      <td>0.342266</td>\n",
       "    </tr>\n",
       "    <tr>\n",
       "      <td>Longitud del homero</td>\n",
       "      <td>-0.014583</td>\n",
       "      <td>1.330612</td>\n",
       "      <td>2.197704</td>\n",
       "      <td>0.342266</td>\n",
       "      <td>0.318418</td>\n",
       "    </tr>\n",
       "  </tbody>\n",
       "</table>\n",
       "</div>"
      ],
      "text/plain": [
       "                              Bird  Longitud Total  Extension de las alas  \\\n",
       "Bird                    204.166667       13.104167               4.770833   \n",
       "Longitud Total           13.104167       13.353741              13.610969   \n",
       "Extension de las alas     4.770833       13.610969              25.682823   \n",
       "Longitud pico y cabeza    0.722917        1.922066               2.713605   \n",
       "Longitud del homero      -0.014583        1.330612               2.197704   \n",
       "\n",
       "                        Longitud pico y cabeza  Longitud del homero  \n",
       "Bird                                  0.722917            -0.014583  \n",
       "Longitud Total                        1.922066             1.330612  \n",
       "Extension de las alas                 2.713605             2.197704  \n",
       "Longitud pico y cabeza                0.631633             0.342266  \n",
       "Longitud del homero                   0.342266             0.318418  "
      ]
     },
     "execution_count": 46,
     "metadata": {},
     "output_type": "execute_result"
    }
   ],
   "source": [
    "df.iloc[:,0:5].cov()"
   ]
  },
  {
   "cell_type": "code",
   "execution_count": 49,
   "metadata": {},
   "outputs": [
    {
     "data": {
      "image/png": "[encoded data removed]",
      "text/plain": [
       "<Figure size 432x288 with 2 Axes>"
      ]
     },
     "metadata": {
      "needs_background": "light"
     },
     "output_type": "display_data"
    }
   ],
   "source": [
    "import matplotlib.pyplot as plt \n",
    "import seaborn as sns\n",
    "fig, ax = plt.subplots()\n",
    "s=sns.heatmap(df.iloc[:,0:5].cov(),cmap='coolwarm', center=0,\n",
    "             linewidths=.5, cbar_kws={\"shrink\": .5},annot=True) \n",
    "s.set_yticklabels(s.get_yticklabels(),rotation=30,fontsize=7)\n",
    "s.set_xticklabels(s.get_xticklabels(),rotation=30,fontsize=7)\n",
    "ax.set_xlim(0,4)\n",
    "ax.set_ylim(0,4)\n",
    "plt.show()"
   ]
  },
  {
   "cell_type": "code",
   "execution_count": 50,
   "metadata": {},
   "outputs": [
    {
     "data": {
      "text/plain": [
       "(array([26.45190479,  0.76540486,  0.31938542,  0.07900221]),\n",
       " array([[-0.98498667, -0.14965121, -0.07877973, -0.03463431],\n",
       "        [-0.10634954,  0.31507474,  0.88012669, -0.33881366],\n",
       "        [-0.08559773,  0.20054217,  0.27799797,  0.93550681],\n",
       "        [-0.10566016,  0.91548635, -0.37668009, -0.09398285]]))"
      ]
     },
     "execution_count": 50,
     "metadata": {},
     "output_type": "execute_result"
    }
   ],
   "source": [
    "np.linalg.eig(COV)"
   ]
  },
  {
   "cell_type": "code",
   "execution_count": 51,
   "metadata": {},
   "outputs": [],
   "source": [
    "from sklearn.decomposition import PCA\n",
    "pca = PCA(n_components=4)\n",
    "principalComponents = pca.fit_transform(x)\n",
    "principalDf = pd.DataFrame(data = principalComponents\n",
    "             , columns = ['principal component 1', 'principal component 2', 'principal component 3', 'principal component 4'])"
   ]
  },
  {
   "cell_type": "code",
   "execution_count": 52,
   "metadata": {},
   "outputs": [
    {
     "data": {
      "text/html": [
       "<div>\n",
       "<style scoped>\n",
       "    .dataframe tbody tr th:only-of-type {\n",
       "        vertical-align: middle;\n",
       "    }\n",
       "\n",
       "    .dataframe tbody tr th {\n",
       "        vertical-align: top;\n",
       "    }\n",
       "\n",
       "    .dataframe thead th {\n",
       "        text-align: right;\n",
       "    }\n",
       "</style>\n",
       "<table border=\"1\" class=\"dataframe\">\n",
       "  <thead>\n",
       "    <tr style=\"text-align: right;\">\n",
       "      <th></th>\n",
       "      <th>principal component 1</th>\n",
       "      <th>principal component 2</th>\n",
       "      <th>principal component 3</th>\n",
       "      <th>principal component 4</th>\n",
       "    </tr>\n",
       "  </thead>\n",
       "  <tbody>\n",
       "    <tr>\n",
       "      <td>count</td>\n",
       "      <td>4.900000e+01</td>\n",
       "      <td>4.900000e+01</td>\n",
       "      <td>4.900000e+01</td>\n",
       "      <td>4.900000e+01</td>\n",
       "    </tr>\n",
       "    <tr>\n",
       "      <td>mean</td>\n",
       "      <td>1.056751e-14</td>\n",
       "      <td>-1.907771e-15</td>\n",
       "      <td>-2.166068e-15</td>\n",
       "      <td>4.061377e-16</td>\n",
       "    </tr>\n",
       "    <tr>\n",
       "      <td>std</td>\n",
       "      <td>5.143142e+00</td>\n",
       "      <td>8.748742e-01</td>\n",
       "      <td>5.651420e-01</td>\n",
       "      <td>2.810733e-01</td>\n",
       "    </tr>\n",
       "    <tr>\n",
       "      <td>min</td>\n",
       "      <td>-1.075921e+01</td>\n",
       "      <td>-1.970137e+00</td>\n",
       "      <td>-1.259003e+00</td>\n",
       "      <td>-4.932043e-01</td>\n",
       "    </tr>\n",
       "    <tr>\n",
       "      <td>25%</td>\n",
       "      <td>-3.760524e+00</td>\n",
       "      <td>-3.634318e-01</td>\n",
       "      <td>-4.506738e-01</td>\n",
       "      <td>-1.861714e-01</td>\n",
       "    </tr>\n",
       "    <tr>\n",
       "      <td>50%</td>\n",
       "      <td>-5.356942e-01</td>\n",
       "      <td>5.715301e-02</td>\n",
       "      <td>1.337734e-02</td>\n",
       "      <td>-5.816339e-02</td>\n",
       "    </tr>\n",
       "    <tr>\n",
       "      <td>75%</td>\n",
       "      <td>3.514184e+00</td>\n",
       "      <td>5.049736e-01</td>\n",
       "      <td>3.537782e-01</td>\n",
       "      <td>1.812777e-01</td>\n",
       "    </tr>\n",
       "    <tr>\n",
       "      <td>max</td>\n",
       "      <td>1.160448e+01</td>\n",
       "      <td>2.771468e+00</td>\n",
       "      <td>1.823805e+00</td>\n",
       "      <td>6.741474e-01</td>\n",
       "    </tr>\n",
       "  </tbody>\n",
       "</table>\n",
       "</div>"
      ],
      "text/plain": [
       "       principal component 1  principal component 2  principal component 3  \\\n",
       "count           4.900000e+01           4.900000e+01           4.900000e+01   \n",
       "mean            1.056751e-14          -1.907771e-15          -2.166068e-15   \n",
       "std             5.143142e+00           8.748742e-01           5.651420e-01   \n",
       "min            -1.075921e+01          -1.970137e+00          -1.259003e+00   \n",
       "25%            -3.760524e+00          -3.634318e-01          -4.506738e-01   \n",
       "50%            -5.356942e-01           5.715301e-02           1.337734e-02   \n",
       "75%             3.514184e+00           5.049736e-01           3.537782e-01   \n",
       "max             1.160448e+01           2.771468e+00           1.823805e+00   \n",
       "\n",
       "       principal component 4  \n",
       "count           4.900000e+01  \n",
       "mean            4.061377e-16  \n",
       "std             2.810733e-01  \n",
       "min            -4.932043e-01  \n",
       "25%            -1.861714e-01  \n",
       "50%            -5.816339e-02  \n",
       "75%             1.812777e-01  \n",
       "max             6.741474e-01  "
      ]
     },
     "execution_count": 52,
     "metadata": {},
     "output_type": "execute_result"
    }
   ],
   "source": [
    "principalDf.describe()"
   ]
  },
  {
   "cell_type": "code",
   "execution_count": 54,
   "metadata": {},
   "outputs": [],
   "source": [
    "\n",
    "finalDf = pd.concat([principalDf, df[['Extension de las alas']]], axis = 1)"
   ]
  },
  {
   "cell_type": "code",
   "execution_count": 56,
   "metadata": {},
   "outputs": [
    {
     "data": {
      "image/png": "[encoded data removed]",
      "text/plain": [
       "<Figure size 576x576 with 1 Axes>"
      ]
     },
     "metadata": {
      "needs_background": "light"
     },
     "output_type": "display_data"
    }
   ],
   "source": [
    "from mpl_toolkits.mplot3d import Axes3D\n",
    "fig = plt.figure(figsize = (8,8))\n",
    "ax = fig.add_subplot(111, projection='3d')\n",
    "ax.set_xlabel('Principal Component 2', fontsize = 15)\n",
    "ax.set_ylabel('Principal Component 3', fontsize = 15)\n",
    "ax.set_zlabel('Principal Component 4', fontsize = 15)\n",
    "ax.set_title('3 component PCA', fontsize = 20)\n",
    "targets = ['Longitud pico y cabeza', 'Longitud del homero', 'Longitud de la quilla']\n",
    "colors = ['r', 'g', 'b']\n",
    "for target, color in zip(targets,colors):\n",
    "    indicesToKeep = finalDf['Extension de las alas'] == target\n",
    "    ax.scatter(finalDf.loc[indicesToKeep, 'principal component 2']\n",
    "               , finalDf.loc[indicesToKeep, 'principal component 3']\n",
    "               , finalDf.loc[indicesToKeep, 'principal component 4']\n",
    "               , c = color\n",
    "               , s = 50)\n",
    "ax.legend(targets)\n",
    "ax.grid()"
   ]
  },
  {
   "cell_type": "code",
   "execution_count": 57,
   "metadata": {},
   "outputs": [
    {
     "data": {
      "text/plain": [
       "array([0.95785757, 0.0277163 , 0.01156536, 0.00286077])"
      ]
     },
     "execution_count": 57,
     "metadata": {},
     "output_type": "execute_result"
    }
   ],
   "source": [
    "\n",
    "pca.explained_variance_ratio_"
   ]
  },
  {
   "cell_type": "code",
   "execution_count": 72,
   "metadata": {},
   "outputs": [
    {
     "name": "stdout",
     "output_type": "stream",
     "text": [
      "Getting SVD outputs:-\n",
      "\n",
      "U:\n",
      " [[-1.44932204e-01  1.22814642e-01  3.29849050e-02 ... -9.98649537e-02\n",
      "  -1.86665654e-01 -1.74764276e-01]\n",
      " [-1.41899181e-01  2.27902738e-01  1.27098763e-01 ... -4.22475443e-02\n",
      "   9.79045987e-02 -3.23458893e-02]\n",
      " [-1.42015669e-01  3.01106059e-02  5.14009915e-02 ... -2.63775470e-01\n",
      "   1.69774821e-01  5.70341256e-02]\n",
      " ...\n",
      " [-1.40261293e-01  7.20550789e-03  3.24616436e-02 ...  9.22443934e-01\n",
      "   2.94088525e-02 -5.72474028e-03]\n",
      " [-1.45029341e-01 -1.20810617e-02 -1.14785594e-01 ...  3.60066094e-02\n",
      "   9.28302671e-01 -3.42595071e-02]\n",
      " [-1.46740942e-01  8.40041150e-02 -2.77914513e-02 ...  5.77787264e-04\n",
      "  -3.59166732e-02  9.69237517e-01]] \n",
      "\n",
      "S:\n",
      " [1715.05604694    6.08213042    4.01036963    2.01506633] \n",
      "\n",
      "VT:\n",
      " [[-0.98518664 -0.12841889 -0.07540345 -0.08503052]\n",
      " [ 0.13387806 -0.2958918  -0.20375612 -0.92358441]\n",
      " [ 0.10473882 -0.89585092 -0.24430266  0.35608584]\n",
      " [-0.02266557 -0.30562685  0.94504707 -0.11386189]] \n",
      "\n"
     ]
    }
   ],
   "source": [
    "m = np.array(x)\n",
    "U, S, VT = np.linalg.svd(m)\n",
    "print('Getting SVD outputs:-\\n')\n",
    "print('U:\\n', U, '\\n')\n",
    "print('S:\\n', S, '\\n')\n",
    "print('VT:\\n', VT, '\\n')"
   ]
  },
  {
   "cell_type": "code",
   "execution_count": 17,
   "metadata": {},
   "outputs": [
    {
     "data": {
      "text/plain": [
       "array([[  3.67346939,   0.14081633,   0.03061224,  -0.32653061],\n",
       "       [ -1.32653061,  -1.05918367,  -0.56938776,  -1.22653061],\n",
       "       [ -1.32653061,  -0.45918367,  -0.06938776,  -0.22653061],\n",
       "       [ -5.32653061,  -0.55918367,  -0.76938776,  -0.62653061],\n",
       "       [  1.67346939,   0.04081633,   0.13061224,  -0.52653061],\n",
       "       [  5.67346939,   0.54081633,   0.53061224,   0.07346939],\n",
       "       [ -3.32653061,  -0.55918367,  -0.06938776,  -0.62653061],\n",
       "       [ -2.32653061,   1.34081633,   0.13061224,   0.37346939],\n",
       "       [  6.67346939,   1.24081633,   0.63061224,   0.27346939],\n",
       "       [ -3.32653061,  -0.45918367,   0.33061224,   1.17346939],\n",
       "       [ -1.32653061,  -0.15918367,   0.13061224,   1.17346939],\n",
       "       [  2.67346939,  -0.35918367,   0.13061224,  -0.32653061],\n",
       "       [  4.67346939,   0.84081633,   0.83061224,   0.97346939],\n",
       "       [  3.67346939,   0.54081633,   0.63061224,  -0.82653061],\n",
       "       [ -6.32653061,   0.04081633,  -0.36938776,  -1.02653061],\n",
       "       [ -4.32653061,  -0.55918367,  -0.46938776,  -0.52653061],\n",
       "       [  2.67346939,  -0.05918367,   0.03061224,   0.77346939],\n",
       "       [ -3.32653061,  -0.95918367,  -0.26938776,   0.07346939],\n",
       "       [ -5.32653061,  -1.15918367,   0.03061224,  -0.72653061],\n",
       "       [  4.67346939,   1.04081633,   0.13061224,   1.07346939],\n",
       "       [ -5.32653061,   0.04081633,  -0.46938776,   0.67346939],\n",
       "       [ -1.32653061,  -0.05918367,  -0.46938776,  -0.12653061],\n",
       "       [ -1.32653061,   0.04081633,  -0.26938776,  -0.22653061],\n",
       "       [  0.67346939,   1.14081633,   0.33061224,   0.87346939],\n",
       "       [ -9.32653061,  -1.15918367,  -1.26938776,  -1.02653061],\n",
       "       [  8.67346939,   0.24081633,   0.33061224,   1.67346939],\n",
       "       [ -4.32653061,  -0.45918367,   0.03061224,  -0.82653061],\n",
       "       [  3.67346939,   0.74081633,   1.03061224,   0.57346939],\n",
       "       [  3.67346939,   1.64081633,   1.33061224,   1.87346939],\n",
       "       [-10.32653061,  -1.35918367,  -1.16938776,  -1.02653061],\n",
       "       [ -2.32653061,  -1.15918367,  -0.46938776,   2.27346939],\n",
       "       [  1.67346939,   0.14081633,   0.33061224,   0.47346939],\n",
       "       [  3.67346939,   0.34081633,   0.03061224,   0.87346939],\n",
       "       [  5.67346939,  -0.55918367,  -0.36938776,  -1.82653061],\n",
       "       [  1.67346939,  -0.55918367,   0.03061224,   0.47346939],\n",
       "       [ 10.67346939,   0.44081633,   0.63061224,   1.37346939],\n",
       "       [-11.32653061,  -1.05918367,  -1.16938776,  -2.22653061],\n",
       "       [  0.67346939,  -0.65918367,  -0.26938776,  -0.32653061],\n",
       "       [ -3.32653061,  -0.25918367,  -0.56938776,  -1.52653061],\n",
       "       [  7.67346939,   1.94081633,   1.03061224,   1.97346939],\n",
       "       [  0.67346939,  -0.45918367,  -0.36938776,  -0.12653061],\n",
       "       [ -4.32653061,   0.24081633,  -0.26938776,  -0.52653061],\n",
       "       [ -3.32653061,   0.04081633,  -0.06938776,  -0.52653061],\n",
       "       [  3.67346939,   0.64081633,   0.63061224,  -0.02653061],\n",
       "       [ -6.32653061,  -0.75918367,  -0.76938776,  -1.22653061],\n",
       "       [  5.67346939,   0.44081633,   0.63061224,  -0.42653061],\n",
       "       [ -4.32653061,  -0.85918367,   0.13061224,  -0.42653061],\n",
       "       [  3.67346939,   1.04081633,   0.03061224,   0.27346939],\n",
       "       [  6.67346939,   0.84081633,   0.33061224,   0.07346939]])"
      ]
     },
     "execution_count": 17,
     "metadata": {},
     "output_type": "execute_result"
    }
   ],
   "source": [
    "x2 = StandardScaler(with_std=False).fit_transform(x)\n",
    "#x2 = StandardScaler().fit_transform(x)\n",
    "x2"
   ]
  },
  {
   "cell_type": "code",
   "execution_count": 19,
   "metadata": {},
   "outputs": [
    {
     "data": {
      "text/html": [
       "<div>\n",
       "<style scoped>\n",
       "    .dataframe tbody tr th:only-of-type {\n",
       "        vertical-align: middle;\n",
       "    }\n",
       "\n",
       "    .dataframe tbody tr th {\n",
       "        vertical-align: top;\n",
       "    }\n",
       "\n",
       "    .dataframe thead th {\n",
       "        text-align: right;\n",
       "    }\n",
       "</style>\n",
       "<table border=\"1\" class=\"dataframe\">\n",
       "  <thead>\n",
       "    <tr style=\"text-align: right;\">\n",
       "      <th></th>\n",
       "      <th>Extension de las alas</th>\n",
       "      <th>Longitud pico y cabeza</th>\n",
       "      <th>Longitud del homero</th>\n",
       "      <th>Longitud de la quilla</th>\n",
       "    </tr>\n",
       "  </thead>\n",
       "  <tbody>\n",
       "    <tr>\n",
       "      <td>0</td>\n",
       "      <td>3.673469</td>\n",
       "      <td>0.140816</td>\n",
       "      <td>0.030612</td>\n",
       "      <td>-0.326531</td>\n",
       "    </tr>\n",
       "    <tr>\n",
       "      <td>1</td>\n",
       "      <td>-1.326531</td>\n",
       "      <td>-1.059184</td>\n",
       "      <td>-0.569388</td>\n",
       "      <td>-1.226531</td>\n",
       "    </tr>\n",
       "    <tr>\n",
       "      <td>2</td>\n",
       "      <td>-1.326531</td>\n",
       "      <td>-0.459184</td>\n",
       "      <td>-0.069388</td>\n",
       "      <td>-0.226531</td>\n",
       "    </tr>\n",
       "    <tr>\n",
       "      <td>3</td>\n",
       "      <td>-5.326531</td>\n",
       "      <td>-0.559184</td>\n",
       "      <td>-0.769388</td>\n",
       "      <td>-0.626531</td>\n",
       "    </tr>\n",
       "    <tr>\n",
       "      <td>4</td>\n",
       "      <td>1.673469</td>\n",
       "      <td>0.040816</td>\n",
       "      <td>0.130612</td>\n",
       "      <td>-0.526531</td>\n",
       "    </tr>\n",
       "  </tbody>\n",
       "</table>\n",
       "</div>"
      ],
      "text/plain": [
       "   Extension de las alas  Longitud pico y cabeza  Longitud del homero  \\\n",
       "0               3.673469                0.140816             0.030612   \n",
       "1              -1.326531               -1.059184            -0.569388   \n",
       "2              -1.326531               -0.459184            -0.069388   \n",
       "3              -5.326531               -0.559184            -0.769388   \n",
       "4               1.673469                0.040816             0.130612   \n",
       "\n",
       "   Longitud de la quilla  \n",
       "0              -0.326531  \n",
       "1              -1.226531  \n",
       "2              -0.226531  \n",
       "3              -0.626531  \n",
       "4              -0.526531  "
      ]
     },
     "execution_count": 19,
     "metadata": {},
     "output_type": "execute_result"
    }
   ],
   "source": [
    "standardbase=pd.DataFrame(x2, columns=['Extension de las alas', 'Longitud pico y cabeza', 'Longitud del homero', 'Longitud de la quilla'])\n",
    "standardbase.head()"
   ]
  },
  {
   "cell_type": "code",
   "execution_count": 21,
   "metadata": {},
   "outputs": [
    {
     "name": "stdout",
     "output_type": "stream",
     "text": [
      "241.3265306122449\n",
      "0.7866016722292501\n"
     ]
    }
   ],
   "source": [
    "PromC1 = df[\"Extension de las alas\"].mean()\n",
    "DevestC1=np.std(df[\"Longitud pico y cabeza\"])\n",
    "print(PromC1)\n",
    "print(DevestC1)"
   ]
  },
  {
   "cell_type": "code",
   "execution_count": 22,
   "metadata": {},
   "outputs": [],
   "source": [
    "estandarizacion=lambda x:(x-PromC1)"
   ]
  },
  {
   "cell_type": "code",
   "execution_count": 23,
   "metadata": {},
   "outputs": [
    {
     "data": {
      "text/plain": [
       "0      3.673469\n",
       "1     -1.326531\n",
       "2     -1.326531\n",
       "3     -5.326531\n",
       "4      1.673469\n",
       "5      5.673469\n",
       "6     -3.326531\n",
       "7     -2.326531\n",
       "8      6.673469\n",
       "9     -3.326531\n",
       "10    -1.326531\n",
       "11     2.673469\n",
       "12     4.673469\n",
       "13     3.673469\n",
       "14    -6.326531\n",
       "15    -4.326531\n",
       "16     2.673469\n",
       "17    -3.326531\n",
       "18    -5.326531\n",
       "19     4.673469\n",
       "20    -5.326531\n",
       "21    -1.326531\n",
       "22    -1.326531\n",
       "23     0.673469\n",
       "24    -9.326531\n",
       "25     8.673469\n",
       "26    -4.326531\n",
       "27     3.673469\n",
       "28     3.673469\n",
       "29   -10.326531\n",
       "30    -2.326531\n",
       "31     1.673469\n",
       "32     3.673469\n",
       "33     5.673469\n",
       "34     1.673469\n",
       "35    10.673469\n",
       "36   -11.326531\n",
       "37     0.673469\n",
       "38    -3.326531\n",
       "39     7.673469\n",
       "40     0.673469\n",
       "41    -4.326531\n",
       "42    -3.326531\n",
       "43     3.673469\n",
       "44    -6.326531\n",
       "45     5.673469\n",
       "46    -4.326531\n",
       "47     3.673469\n",
       "48     6.673469\n",
       "Name: Extension de las alas, dtype: float64"
      ]
     },
     "execution_count": 23,
     "metadata": {},
     "output_type": "execute_result"
    }
   ],
   "source": [
    "df[\"Extension de las alas\"].apply(estandarizacion)"
   ]
  },
  {
   "cell_type": "code",
   "execution_count": 24,
   "metadata": {},
   "outputs": [
    {
     "data": {
      "text/plain": [
       "array([[  3.67346939,   0.14081633,   0.03061224,  -0.32653061],\n",
       "       [ -1.32653061,  -1.05918367,  -0.56938776,  -1.22653061],\n",
       "       [ -1.32653061,  -0.45918367,  -0.06938776,  -0.22653061],\n",
       "       [ -5.32653061,  -0.55918367,  -0.76938776,  -0.62653061],\n",
       "       [  1.67346939,   0.04081633,   0.13061224,  -0.52653061],\n",
       "       [  5.67346939,   0.54081633,   0.53061224,   0.07346939],\n",
       "       [ -3.32653061,  -0.55918367,  -0.06938776,  -0.62653061],\n",
       "       [ -2.32653061,   1.34081633,   0.13061224,   0.37346939],\n",
       "       [  6.67346939,   1.24081633,   0.63061224,   0.27346939],\n",
       "       [ -3.32653061,  -0.45918367,   0.33061224,   1.17346939],\n",
       "       [ -1.32653061,  -0.15918367,   0.13061224,   1.17346939],\n",
       "       [  2.67346939,  -0.35918367,   0.13061224,  -0.32653061],\n",
       "       [  4.67346939,   0.84081633,   0.83061224,   0.97346939],\n",
       "       [  3.67346939,   0.54081633,   0.63061224,  -0.82653061],\n",
       "       [ -6.32653061,   0.04081633,  -0.36938776,  -1.02653061],\n",
       "       [ -4.32653061,  -0.55918367,  -0.46938776,  -0.52653061],\n",
       "       [  2.67346939,  -0.05918367,   0.03061224,   0.77346939],\n",
       "       [ -3.32653061,  -0.95918367,  -0.26938776,   0.07346939],\n",
       "       [ -5.32653061,  -1.15918367,   0.03061224,  -0.72653061],\n",
       "       [  4.67346939,   1.04081633,   0.13061224,   1.07346939],\n",
       "       [ -5.32653061,   0.04081633,  -0.46938776,   0.67346939],\n",
       "       [ -1.32653061,  -0.05918367,  -0.46938776,  -0.12653061],\n",
       "       [ -1.32653061,   0.04081633,  -0.26938776,  -0.22653061],\n",
       "       [  0.67346939,   1.14081633,   0.33061224,   0.87346939],\n",
       "       [ -9.32653061,  -1.15918367,  -1.26938776,  -1.02653061],\n",
       "       [  8.67346939,   0.24081633,   0.33061224,   1.67346939],\n",
       "       [ -4.32653061,  -0.45918367,   0.03061224,  -0.82653061],\n",
       "       [  3.67346939,   0.74081633,   1.03061224,   0.57346939],\n",
       "       [  3.67346939,   1.64081633,   1.33061224,   1.87346939],\n",
       "       [-10.32653061,  -1.35918367,  -1.16938776,  -1.02653061],\n",
       "       [ -2.32653061,  -1.15918367,  -0.46938776,   2.27346939],\n",
       "       [  1.67346939,   0.14081633,   0.33061224,   0.47346939],\n",
       "       [  3.67346939,   0.34081633,   0.03061224,   0.87346939],\n",
       "       [  5.67346939,  -0.55918367,  -0.36938776,  -1.82653061],\n",
       "       [  1.67346939,  -0.55918367,   0.03061224,   0.47346939],\n",
       "       [ 10.67346939,   0.44081633,   0.63061224,   1.37346939],\n",
       "       [-11.32653061,  -1.05918367,  -1.16938776,  -2.22653061],\n",
       "       [  0.67346939,  -0.65918367,  -0.26938776,  -0.32653061],\n",
       "       [ -3.32653061,  -0.25918367,  -0.56938776,  -1.52653061],\n",
       "       [  7.67346939,   1.94081633,   1.03061224,   1.97346939],\n",
       "       [  0.67346939,  -0.45918367,  -0.36938776,  -0.12653061],\n",
       "       [ -4.32653061,   0.24081633,  -0.26938776,  -0.52653061],\n",
       "       [ -3.32653061,   0.04081633,  -0.06938776,  -0.52653061],\n",
       "       [  3.67346939,   0.64081633,   0.63061224,  -0.02653061],\n",
       "       [ -6.32653061,  -0.75918367,  -0.76938776,  -1.22653061],\n",
       "       [  5.67346939,   0.44081633,   0.63061224,  -0.42653061],\n",
       "       [ -4.32653061,  -0.85918367,   0.13061224,  -0.42653061],\n",
       "       [  3.67346939,   1.04081633,   0.03061224,   0.27346939],\n",
       "       [  6.67346939,   0.84081633,   0.33061224,   0.07346939]])"
      ]
     },
     "execution_count": 24,
     "metadata": {},
     "output_type": "execute_result"
    }
   ],
   "source": [
    "x2"
   ]
  },
  {
   "cell_type": "code",
   "execution_count": 26,
   "metadata": {},
   "outputs": [
    {
     "data": {
      "text/plain": [
       "array([[25.15868388,  2.65822574,  2.15285298,  2.60358184],\n",
       "       [ 2.65822574,  0.61874219,  0.33528113,  0.40618492],\n",
       "       [ 2.15285298,  0.33528113,  0.31192003,  0.33244481],\n",
       "       [ 2.60358184,  0.40618492,  0.33244481,  0.96276551]])"
      ]
     },
     "execution_count": 26,
     "metadata": {},
     "output_type": "execute_result"
    }
   ],
   "source": [
    "np.dot(np.transpose(x2),(x2))*(1/49)"
   ]
  },
  {
   "cell_type": "code",
   "execution_count": 27,
   "metadata": {},
   "outputs": [
    {
     "data": {
      "text/plain": [
       "array([[25.68282313,  2.71360544,  2.19770408,  2.65782313],\n",
       "       [ 2.71360544,  0.63163265,  0.34226616,  0.41464711],\n",
       "       [ 2.19770408,  0.34226616,  0.31841837,  0.33937075],\n",
       "       [ 2.65782313,  0.41464711,  0.33937075,  0.98282313]])"
      ]
     },
     "execution_count": 27,
     "metadata": {},
     "output_type": "execute_result"
    }
   ],
   "source": [
    "np.cov(np.transpose(x))"
   ]
  },
  {
   "cell_type": "code",
   "execution_count": 29,
   "metadata": {},
   "outputs": [
    {
     "data": {
      "text/plain": [
       "array([[25.68282313,  2.71360544,  2.19770408,  2.65782313],\n",
       "       [ 2.71360544,  0.63163265,  0.34226616,  0.41464711],\n",
       "       [ 2.19770408,  0.34226616,  0.31841837,  0.33937075],\n",
       "       [ 2.65782313,  0.41464711,  0.33937075,  0.98282313]])"
      ]
     },
     "execution_count": 29,
     "metadata": {},
     "output_type": "execute_result"
    }
   ],
   "source": [
    "COV=np.cov(np.transpose(x))\n",
    "COV"
   ]
  },
  {
   "cell_type": "code",
   "execution_count": 30,
   "metadata": {},
   "outputs": [],
   "source": [
    "import matplotlib.pyplot as plt \n",
    "import seaborn as sns"
   ]
  },
  {
   "cell_type": "code",
   "execution_count": 31,
   "metadata": {},
   "outputs": [
    {
     "data": {
      "image/png": "[encoded data removed]",
      "text/plain": [
       "<Figure size 432x288 with 2 Axes>"
      ]
     },
     "metadata": {
      "needs_background": "light"
     },
     "output_type": "display_data"
    }
   ],
   "source": [
    "fig, ax = plt.subplots()\n",
    "s=sns.heatmap(df.iloc[:,0:4].corr(),cmap='coolwarm') \n",
    "s.set_yticklabels(s.get_yticklabels(),rotation=30,fontsize=7)\n",
    "s.set_xticklabels(s.get_xticklabels(),rotation=30,fontsize=7)\n",
    "ax.set_xlim(0,4)\n",
    "ax.set_ylim(0,4)\n",
    "plt.show()"
   ]
  },
  {
   "cell_type": "code",
   "execution_count": 35,
   "metadata": {},
   "outputs": [
    {
     "data": {
      "text/html": [
       "<div>\n",
       "<style scoped>\n",
       "    .dataframe tbody tr th:only-of-type {\n",
       "        vertical-align: middle;\n",
       "    }\n",
       "\n",
       "    .dataframe tbody tr th {\n",
       "        vertical-align: top;\n",
       "    }\n",
       "\n",
       "    .dataframe thead th {\n",
       "        text-align: right;\n",
       "    }\n",
       "</style>\n",
       "<table border=\"1\" class=\"dataframe\">\n",
       "  <thead>\n",
       "    <tr style=\"text-align: right;\">\n",
       "      <th></th>\n",
       "      <th>Longitud Total</th>\n",
       "      <th>Extension de las alas</th>\n",
       "      <th>Longitud pico y cabeza</th>\n",
       "      <th>Longitud del homero</th>\n",
       "    </tr>\n",
       "  </thead>\n",
       "  <tbody>\n",
       "    <tr>\n",
       "      <td>Longitud Total</td>\n",
       "      <td>13.353741</td>\n",
       "      <td>13.610969</td>\n",
       "      <td>1.922066</td>\n",
       "      <td>1.330612</td>\n",
       "    </tr>\n",
       "    <tr>\n",
       "      <td>Extension de las alas</td>\n",
       "      <td>13.610969</td>\n",
       "      <td>25.682823</td>\n",
       "      <td>2.713605</td>\n",
       "      <td>2.197704</td>\n",
       "    </tr>\n",
       "    <tr>\n",
       "      <td>Longitud pico y cabeza</td>\n",
       "      <td>1.922066</td>\n",
       "      <td>2.713605</td>\n",
       "      <td>0.631633</td>\n",
       "      <td>0.342266</td>\n",
       "    </tr>\n",
       "    <tr>\n",
       "      <td>Longitud del homero</td>\n",
       "      <td>1.330612</td>\n",
       "      <td>2.197704</td>\n",
       "      <td>0.342266</td>\n",
       "      <td>0.318418</td>\n",
       "    </tr>\n",
       "  </tbody>\n",
       "</table>\n",
       "</div>"
      ],
      "text/plain": [
       "                        Longitud Total  Extension de las alas  \\\n",
       "Longitud Total               13.353741              13.610969   \n",
       "Extension de las alas        13.610969              25.682823   \n",
       "Longitud pico y cabeza        1.922066               2.713605   \n",
       "Longitud del homero           1.330612               2.197704   \n",
       "\n",
       "                        Longitud pico y cabeza  Longitud del homero  \n",
       "Longitud Total                        1.922066             1.330612  \n",
       "Extension de las alas                 2.713605             2.197704  \n",
       "Longitud pico y cabeza                0.631633             0.342266  \n",
       "Longitud del homero                   0.342266             0.318418  "
      ]
     },
     "execution_count": 35,
     "metadata": {},
     "output_type": "execute_result"
    }
   ],
   "source": [
    "df.iloc[:,1:5].cov()"
   ]
  },
  {
   "cell_type": "code",
   "execution_count": 36,
   "metadata": {},
   "outputs": [],
   "source": [
    "import matplotlib.pyplot as plt \n",
    "import seaborn as sns"
   ]
  },
  {
   "cell_type": "code",
   "execution_count": 39,
   "metadata": {},
   "outputs": [
    {
     "data": {
      "image/png": "[encoded data removed]",
      "text/plain": [
       "<Figure size 432x288 with 2 Axes>"
      ]
     },
     "metadata": {
      "needs_background": "light"
     },
     "output_type": "display_data"
    }
   ],
   "source": [
    "fig, ax = plt.subplots()\n",
    "s=sns.heatmap(df.iloc[:,1:5].cov(),cmap='coolwarm', center=0,\n",
    "             linewidths=.5, cbar_kws={\"shrink\": .5},annot=True) \n",
    "s.set_yticklabels(s.get_yticklabels(),rotation=30,fontsize=7)\n",
    "s.set_xticklabels(s.get_xticklabels(),rotation=30,fontsize=7)\n",
    "ax.set_xlim(0,4)\n",
    "ax.set_ylim(0,4)\n",
    "plt.show()\n"
   ]
  },
  {
   "cell_type": "code",
   "execution_count": 40,
   "metadata": {},
   "outputs": [
    {
     "data": {
      "text/plain": [
       "(array([26.45190479,  0.76540486,  0.31938542,  0.07900221]),\n",
       " array([[-0.98498667, -0.14965121, -0.07877973, -0.03463431],\n",
       "        [-0.10634954,  0.31507474,  0.88012669, -0.33881366],\n",
       "        [-0.08559773,  0.20054217,  0.27799797,  0.93550681],\n",
       "        [-0.10566016,  0.91548635, -0.37668009, -0.09398285]]))"
      ]
     },
     "execution_count": 40,
     "metadata": {},
     "output_type": "execute_result"
    }
   ],
   "source": [
    "#Calculo de componentes\n",
    "np.linalg.eig(COV)"
   ]
  },
  {
   "cell_type": "code",
   "execution_count": 42,
   "metadata": {},
   "outputs": [],
   "source": [
    "from sklearn.decomposition import PCA"
   ]
  },
  {
   "cell_type": "code",
   "execution_count": 43,
   "metadata": {},
   "outputs": [],
   "source": [
    "pca = PCA(n_components=5)\n",
    "principalComponents = pca.fit_transform(x)\n",
    "principalDf = pd.DataFrame(data = principalComponents\n",
    "             , columns = ['principal component 1', 'principal component 2', 'principal component 3', 'principal component 4'])"
   ]
  },
  {
   "cell_type": "code",
   "execution_count": 44,
   "metadata": {},
   "outputs": [
    {
     "data": {
      "text/html": [
       "<div>\n",
       "<style scoped>\n",
       "    .dataframe tbody tr th:only-of-type {\n",
       "        vertical-align: middle;\n",
       "    }\n",
       "\n",
       "    .dataframe tbody tr th {\n",
       "        vertical-align: top;\n",
       "    }\n",
       "\n",
       "    .dataframe thead th {\n",
       "        text-align: right;\n",
       "    }\n",
       "</style>\n",
       "<table border=\"1\" class=\"dataframe\">\n",
       "  <thead>\n",
       "    <tr style=\"text-align: right;\">\n",
       "      <th></th>\n",
       "      <th>principal component 1</th>\n",
       "      <th>principal component 2</th>\n",
       "      <th>principal component 3</th>\n",
       "      <th>principal component 4</th>\n",
       "    </tr>\n",
       "  </thead>\n",
       "  <tbody>\n",
       "    <tr>\n",
       "      <td>count</td>\n",
       "      <td>4.900000e+01</td>\n",
       "      <td>4.900000e+01</td>\n",
       "      <td>4.900000e+01</td>\n",
       "      <td>4.900000e+01</td>\n",
       "    </tr>\n",
       "    <tr>\n",
       "      <td>mean</td>\n",
       "      <td>1.056751e-14</td>\n",
       "      <td>-1.907771e-15</td>\n",
       "      <td>-2.166068e-15</td>\n",
       "      <td>4.061377e-16</td>\n",
       "    </tr>\n",
       "    <tr>\n",
       "      <td>std</td>\n",
       "      <td>5.143142e+00</td>\n",
       "      <td>8.748742e-01</td>\n",
       "      <td>5.651420e-01</td>\n",
       "      <td>2.810733e-01</td>\n",
       "    </tr>\n",
       "    <tr>\n",
       "      <td>min</td>\n",
       "      <td>-1.075921e+01</td>\n",
       "      <td>-1.970137e+00</td>\n",
       "      <td>-1.259003e+00</td>\n",
       "      <td>-4.932043e-01</td>\n",
       "    </tr>\n",
       "    <tr>\n",
       "      <td>25%</td>\n",
       "      <td>-3.760524e+00</td>\n",
       "      <td>-3.634318e-01</td>\n",
       "      <td>-4.506738e-01</td>\n",
       "      <td>-1.861714e-01</td>\n",
       "    </tr>\n",
       "    <tr>\n",
       "      <td>50%</td>\n",
       "      <td>-5.356942e-01</td>\n",
       "      <td>5.715301e-02</td>\n",
       "      <td>1.337734e-02</td>\n",
       "      <td>-5.816339e-02</td>\n",
       "    </tr>\n",
       "    <tr>\n",
       "      <td>75%</td>\n",
       "      <td>3.514184e+00</td>\n",
       "      <td>5.049736e-01</td>\n",
       "      <td>3.537782e-01</td>\n",
       "      <td>1.812777e-01</td>\n",
       "    </tr>\n",
       "    <tr>\n",
       "      <td>max</td>\n",
       "      <td>1.160448e+01</td>\n",
       "      <td>2.771468e+00</td>\n",
       "      <td>1.823805e+00</td>\n",
       "      <td>6.741474e-01</td>\n",
       "    </tr>\n",
       "  </tbody>\n",
       "</table>\n",
       "</div>"
      ],
      "text/plain": [
       "       principal component 1  principal component 2  principal component 3  \\\n",
       "count           4.900000e+01           4.900000e+01           4.900000e+01   \n",
       "mean            1.056751e-14          -1.907771e-15          -2.166068e-15   \n",
       "std             5.143142e+00           8.748742e-01           5.651420e-01   \n",
       "min            -1.075921e+01          -1.970137e+00          -1.259003e+00   \n",
       "25%            -3.760524e+00          -3.634318e-01          -4.506738e-01   \n",
       "50%            -5.356942e-01           5.715301e-02           1.337734e-02   \n",
       "75%             3.514184e+00           5.049736e-01           3.537782e-01   \n",
       "max             1.160448e+01           2.771468e+00           1.823805e+00   \n",
       "\n",
       "       principal component 4  \n",
       "count           4.900000e+01  \n",
       "mean            4.061377e-16  \n",
       "std             2.810733e-01  \n",
       "min            -4.932043e-01  \n",
       "25%            -1.861714e-01  \n",
       "50%            -5.816339e-02  \n",
       "75%             1.812777e-01  \n",
       "max             6.741474e-01  "
      ]
     },
     "execution_count": 44,
     "metadata": {},
     "output_type": "execute_result"
    }
   ],
   "source": [
    "principalDf.describe()"
   ]
  },
  {
   "cell_type": "code",
   "execution_count": null,
   "metadata": {},
   "outputs": [],
   "source": []
  },
  {
   "cell_type": "code",
   "execution_count": 6,
   "metadata": {},
   "outputs": [],
   "source": [
    "import sklearn\n"
   ]
  },
  {
   "cell_type": "code",
   "execution_count": 7,
   "metadata": {},
   "outputs": [],
   "source": [
    "import mglearn as mg\n",
    "from sklearn.datasets import load_breast_cancer\n"
   ]
  },
  {
   "cell_type": "code",
   "execution_count": 8,
   "metadata": {},
   "outputs": [],
   "source": [
    "import matplotlib.pyplot as plt\n"
   ]
  },
  {
   "cell_type": "code",
   "execution_count": 9,
   "metadata": {},
   "outputs": [],
   "source": [
    "from sklearn.decomposition import PCA\n",
    "%matplotlib inline"
   ]
  },
  {
   "cell_type": "code",
   "execution_count": 10,
   "metadata": {},
   "outputs": [],
   "source": [
    "import mglearn as mg"
   ]
  },
  {
   "cell_type": "code",
   "execution_count": 4,
   "metadata": {},
   "outputs": [
    {
     "name": "stdout",
     "output_type": "stream",
     "text": [
      "Collecting mglearn\n",
      "  Downloading https://files.pythonhosted.org/packages/fb/01/8d3630ecc767c9de96a9c46e055f2a3a5f9e14a47d3d0348a36a5005fe67/mglearn-0.1.7.tar.gz (540kB)\n",
      "Requirement already satisfied: numpy in c:\\users\\rrruiz\\appdata\\local\\continuum\\anaconda3\\lib\\site-packages (from mglearn) (1.16.5)\n",
      "Requirement already satisfied: matplotlib in c:\\users\\rrruiz\\appdata\\local\\continuum\\anaconda3\\lib\\site-packages (from mglearn) (3.1.1)\n",
      "Requirement already satisfied: scikit-learn in c:\\users\\rrruiz\\appdata\\local\\continuum\\anaconda3\\lib\\site-packages (from mglearn) (0.21.3)\n",
      "Requirement already satisfied: pandas in c:\\users\\rrruiz\\appdata\\local\\continuum\\anaconda3\\lib\\site-packages (from mglearn) (0.25.1)\n",
      "Requirement already satisfied: pillow in c:\\users\\rrruiz\\appdata\\local\\continuum\\anaconda3\\lib\\site-packages (from mglearn) (6.2.0)\n",
      "Requirement already satisfied: cycler in c:\\users\\rrruiz\\appdata\\local\\continuum\\anaconda3\\lib\\site-packages (from mglearn) (0.10.0)\n",
      "Requirement already satisfied: imageio in c:\\users\\rrruiz\\appdata\\local\\continuum\\anaconda3\\lib\\site-packages (from mglearn) (2.6.0)\n",
      "Requirement already satisfied: kiwisolver>=1.0.1 in c:\\users\\rrruiz\\appdata\\local\\continuum\\anaconda3\\lib\\site-packages (from matplotlib->mglearn) (1.1.0)\n",
      "Requirement already satisfied: pyparsing!=2.0.4,!=2.1.2,!=2.1.6,>=2.0.1 in c:\\users\\rrruiz\\appdata\\local\\continuum\\anaconda3\\lib\\site-packages (from matplotlib->mglearn) (2.4.2)\n",
      "Requirement already satisfied: python-dateutil>=2.1 in c:\\users\\rrruiz\\appdata\\local\\continuum\\anaconda3\\lib\\site-packages (from matplotlib->mglearn) (2.8.0)\n",
      "Requirement already satisfied: scipy>=0.17.0 in c:\\users\\rrruiz\\appdata\\local\\continuum\\anaconda3\\lib\\site-packages (from scikit-learn->mglearn) (1.3.1)\n",
      "Requirement already satisfied: joblib>=0.11 in c:\\users\\rrruiz\\appdata\\local\\continuum\\anaconda3\\lib\\site-packages (from scikit-learn->mglearn) (0.13.2)\n",
      "Requirement already satisfied: pytz>=2017.2 in c:\\users\\rrruiz\\appdata\\local\\continuum\\anaconda3\\lib\\site-packages (from pandas->mglearn) (2019.3)\n",
      "Requirement already satisfied: six in c:\\users\\rrruiz\\appdata\\local\\continuum\\anaconda3\\lib\\site-packages (from cycler->mglearn) (1.12.0)\n",
      "Requirement already satisfied: setuptools in c:\\users\\rrruiz\\appdata\\local\\continuum\\anaconda3\\lib\\site-packages (from kiwisolver>=1.0.1->matplotlib->mglearn) (41.4.0)\n",
      "Building wheels for collected packages: mglearn\n",
      "  Building wheel for mglearn (setup.py): started\n",
      "  Building wheel for mglearn (setup.py): finished with status 'done'\n",
      "  Created wheel for mglearn: filename=mglearn-0.1.7-py2.py3-none-any.whl size=582711 sha256=35443b5a43e1a85f56b1d817fd5e6fea91e57e21b5f825f4026be8a095dc2277\n",
      "  Stored in directory: C:\\Users\\rrruiz\\AppData\\Local\\pip\\Cache\\wheels\\74\\cf\\8d\\04f4932d15854a36726c6210763c7127e62de28f5c8ddfcf3b\n",
      "Successfully built mglearn\n",
      "Installing collected packages: mglearn\n",
      "Successfully installed mglearn-0.1.7\n"
     ]
    }
   ],
   "source": [
    "!pip install mglearn"
   ]
  },
  {
   "cell_type": "code",
   "execution_count": 55,
   "metadata": {},
   "outputs": [
    {
     "data": {
      "text/plain": [
       "PCA(copy=True, iterated_power='auto', n_components=2, random_state=None,\n",
       "    svd_solver='auto', tol=0.0, whiten=False)"
      ]
     },
     "execution_count": 55,
     "metadata": {},
     "output_type": "execute_result"
    }
   ],
   "source": [
    "pca = PCA(n_components=2)\n",
    "pca.fit(df)"
   ]
  },
  {
   "cell_type": "code",
   "execution_count": 56,
   "metadata": {},
   "outputs": [],
   "source": [
    "transformacion = pca.transform(df)"
   ]
  },
  {
   "cell_type": "code",
   "execution_count": 57,
   "metadata": {},
   "outputs": [
    {
     "name": "stdout",
     "output_type": "stream",
     "text": [
      "(49, 6)\n"
     ]
    }
   ],
   "source": [
    "print(df.shape)"
   ]
  },
  {
   "cell_type": "code",
   "execution_count": 58,
   "metadata": {},
   "outputs": [
    {
     "name": "stdout",
     "output_type": "stream",
     "text": [
      "(49, 2)\n"
     ]
    }
   ],
   "source": [
    "print(transformacion.shape)"
   ]
  },
  {
   "cell_type": "code",
   "execution_count": 62,
   "metadata": {},
   "outputs": [
    {
     "data": {
      "text/html": [
       "<div>\n",
       "<style scoped>\n",
       "    .dataframe tbody tr th:only-of-type {\n",
       "        vertical-align: middle;\n",
       "    }\n",
       "\n",
       "    .dataframe tbody tr th {\n",
       "        vertical-align: top;\n",
       "    }\n",
       "\n",
       "    .dataframe thead th {\n",
       "        text-align: right;\n",
       "    }\n",
       "</style>\n",
       "<table border=\"1\" class=\"dataframe\">\n",
       "  <thead>\n",
       "    <tr style=\"text-align: right;\">\n",
       "      <th></th>\n",
       "      <th>Bird</th>\n",
       "      <th>Longitud Total</th>\n",
       "      <th>Extension de las alas</th>\n",
       "      <th>Longitud pico y cabeza</th>\n",
       "      <th>Longitud del homero</th>\n",
       "      <th>Longitud de la quilla</th>\n",
       "    </tr>\n",
       "  </thead>\n",
       "  <tbody>\n",
       "    <tr>\n",
       "      <td>count</td>\n",
       "      <td>49.00000</td>\n",
       "      <td>49.000000</td>\n",
       "      <td>49.000000</td>\n",
       "      <td>49.000000</td>\n",
       "      <td>49.000000</td>\n",
       "      <td>49.000000</td>\n",
       "    </tr>\n",
       "    <tr>\n",
       "      <td>mean</td>\n",
       "      <td>25.00000</td>\n",
       "      <td>157.979592</td>\n",
       "      <td>241.326531</td>\n",
       "      <td>31.459184</td>\n",
       "      <td>18.469388</td>\n",
       "      <td>20.826531</td>\n",
       "    </tr>\n",
       "    <tr>\n",
       "      <td>std</td>\n",
       "      <td>14.28869</td>\n",
       "      <td>3.654277</td>\n",
       "      <td>5.067822</td>\n",
       "      <td>0.794753</td>\n",
       "      <td>0.564286</td>\n",
       "      <td>0.991374</td>\n",
       "    </tr>\n",
       "    <tr>\n",
       "      <td>min</td>\n",
       "      <td>1.00000</td>\n",
       "      <td>152.000000</td>\n",
       "      <td>230.000000</td>\n",
       "      <td>30.100000</td>\n",
       "      <td>17.200000</td>\n",
       "      <td>18.600000</td>\n",
       "    </tr>\n",
       "    <tr>\n",
       "      <td>25%</td>\n",
       "      <td>13.00000</td>\n",
       "      <td>155.000000</td>\n",
       "      <td>238.000000</td>\n",
       "      <td>30.900000</td>\n",
       "      <td>18.100000</td>\n",
       "      <td>20.200000</td>\n",
       "    </tr>\n",
       "    <tr>\n",
       "      <td>50%</td>\n",
       "      <td>25.00000</td>\n",
       "      <td>158.000000</td>\n",
       "      <td>242.000000</td>\n",
       "      <td>31.500000</td>\n",
       "      <td>18.500000</td>\n",
       "      <td>20.700000</td>\n",
       "    </tr>\n",
       "    <tr>\n",
       "      <td>75%</td>\n",
       "      <td>37.00000</td>\n",
       "      <td>161.000000</td>\n",
       "      <td>245.000000</td>\n",
       "      <td>32.000000</td>\n",
       "      <td>18.800000</td>\n",
       "      <td>21.500000</td>\n",
       "    </tr>\n",
       "    <tr>\n",
       "      <td>max</td>\n",
       "      <td>49.00000</td>\n",
       "      <td>165.000000</td>\n",
       "      <td>252.000000</td>\n",
       "      <td>33.400000</td>\n",
       "      <td>19.800000</td>\n",
       "      <td>23.100000</td>\n",
       "    </tr>\n",
       "  </tbody>\n",
       "</table>\n",
       "</div>"
      ],
      "text/plain": [
       "           Bird  Longitud Total  Extension de las alas  \\\n",
       "count  49.00000       49.000000              49.000000   \n",
       "mean   25.00000      157.979592             241.326531   \n",
       "std    14.28869        3.654277               5.067822   \n",
       "min     1.00000      152.000000             230.000000   \n",
       "25%    13.00000      155.000000             238.000000   \n",
       "50%    25.00000      158.000000             242.000000   \n",
       "75%    37.00000      161.000000             245.000000   \n",
       "max    49.00000      165.000000             252.000000   \n",
       "\n",
       "       Longitud pico y cabeza  Longitud del homero  Longitud de la quilla  \n",
       "count               49.000000            49.000000              49.000000  \n",
       "mean                31.459184            18.469388              20.826531  \n",
       "std                  0.794753             0.564286               0.991374  \n",
       "min                 30.100000            17.200000              18.600000  \n",
       "25%                 30.900000            18.100000              20.200000  \n",
       "50%                 31.500000            18.500000              20.700000  \n",
       "75%                 32.000000            18.800000              21.500000  \n",
       "max                 33.400000            19.800000              23.100000  "
      ]
     },
     "execution_count": 62,
     "metadata": {},
     "output_type": "execute_result"
    }
   ],
   "source": [
    "df.describe()"
   ]
  },
  {
   "cell_type": "code",
   "execution_count": 64,
   "metadata": {},
   "outputs": [
    {
     "data": {
      "text/html": [
       "<div>\n",
       "<style scoped>\n",
       "    .dataframe tbody tr th:only-of-type {\n",
       "        vertical-align: middle;\n",
       "    }\n",
       "\n",
       "    .dataframe tbody tr th {\n",
       "        vertical-align: top;\n",
       "    }\n",
       "\n",
       "    .dataframe thead th {\n",
       "        text-align: right;\n",
       "    }\n",
       "</style>\n",
       "<table border=\"1\" class=\"dataframe\">\n",
       "  <thead>\n",
       "    <tr style=\"text-align: right;\">\n",
       "      <th></th>\n",
       "      <th>Bird</th>\n",
       "      <th>Longitud Total</th>\n",
       "      <th>Extension de las alas</th>\n",
       "      <th>Longitud pico y cabeza</th>\n",
       "      <th>Longitud del homero</th>\n",
       "      <th>Longitud de la quilla</th>\n",
       "    </tr>\n",
       "  </thead>\n",
       "  <tbody>\n",
       "    <tr>\n",
       "      <td>0</td>\n",
       "      <td>1</td>\n",
       "      <td>156</td>\n",
       "      <td>245</td>\n",
       "      <td>31.6</td>\n",
       "      <td>18.5</td>\n",
       "      <td>20.5</td>\n",
       "    </tr>\n",
       "    <tr>\n",
       "      <td>1</td>\n",
       "      <td>2</td>\n",
       "      <td>154</td>\n",
       "      <td>240</td>\n",
       "      <td>30.4</td>\n",
       "      <td>17.9</td>\n",
       "      <td>19.6</td>\n",
       "    </tr>\n",
       "    <tr>\n",
       "      <td>2</td>\n",
       "      <td>3</td>\n",
       "      <td>153</td>\n",
       "      <td>240</td>\n",
       "      <td>31.0</td>\n",
       "      <td>18.4</td>\n",
       "      <td>20.6</td>\n",
       "    </tr>\n",
       "    <tr>\n",
       "      <td>3</td>\n",
       "      <td>4</td>\n",
       "      <td>153</td>\n",
       "      <td>236</td>\n",
       "      <td>30.9</td>\n",
       "      <td>17.7</td>\n",
       "      <td>20.2</td>\n",
       "    </tr>\n",
       "    <tr>\n",
       "      <td>4</td>\n",
       "      <td>5</td>\n",
       "      <td>155</td>\n",
       "      <td>243</td>\n",
       "      <td>31.5</td>\n",
       "      <td>18.6</td>\n",
       "      <td>20.3</td>\n",
       "    </tr>\n",
       "    <tr>\n",
       "      <td>5</td>\n",
       "      <td>6</td>\n",
       "      <td>163</td>\n",
       "      <td>247</td>\n",
       "      <td>32.0</td>\n",
       "      <td>19.0</td>\n",
       "      <td>20.9</td>\n",
       "    </tr>\n",
       "    <tr>\n",
       "      <td>6</td>\n",
       "      <td>7</td>\n",
       "      <td>157</td>\n",
       "      <td>238</td>\n",
       "      <td>30.9</td>\n",
       "      <td>18.4</td>\n",
       "      <td>20.2</td>\n",
       "    </tr>\n",
       "    <tr>\n",
       "      <td>7</td>\n",
       "      <td>8</td>\n",
       "      <td>155</td>\n",
       "      <td>239</td>\n",
       "      <td>32.8</td>\n",
       "      <td>18.6</td>\n",
       "      <td>21.2</td>\n",
       "    </tr>\n",
       "    <tr>\n",
       "      <td>8</td>\n",
       "      <td>9</td>\n",
       "      <td>164</td>\n",
       "      <td>248</td>\n",
       "      <td>32.7</td>\n",
       "      <td>19.1</td>\n",
       "      <td>21.1</td>\n",
       "    </tr>\n",
       "  </tbody>\n",
       "</table>\n",
       "</div>"
      ],
      "text/plain": [
       "   Bird  Longitud Total  Extension de las alas  Longitud pico y cabeza  \\\n",
       "0     1             156                    245                    31.6   \n",
       "1     2             154                    240                    30.4   \n",
       "2     3             153                    240                    31.0   \n",
       "3     4             153                    236                    30.9   \n",
       "4     5             155                    243                    31.5   \n",
       "5     6             163                    247                    32.0   \n",
       "6     7             157                    238                    30.9   \n",
       "7     8             155                    239                    32.8   \n",
       "8     9             164                    248                    32.7   \n",
       "\n",
       "   Longitud del homero  Longitud de la quilla  \n",
       "0                 18.5                   20.5  \n",
       "1                 17.9                   19.6  \n",
       "2                 18.4                   20.6  \n",
       "3                 17.7                   20.2  \n",
       "4                 18.6                   20.3  \n",
       "5                 19.0                   20.9  \n",
       "6                 18.4                   20.2  \n",
       "7                 18.6                   21.2  \n",
       "8                 19.1                   21.1  "
      ]
     },
     "execution_count": 64,
     "metadata": {},
     "output_type": "execute_result"
    }
   ],
   "source": [
    "df = df.dropna()\n",
    "df.head(9)"
   ]
  },
  {
   "cell_type": "code",
   "execution_count": 11,
   "metadata": {},
   "outputs": [
    {
     "ename": "NameError",
     "evalue": "name 'df' is not defined",
     "output_type": "error",
     "traceback": [
      "\u001b[1;31m---------------------------------------------------------------------------\u001b[0m",
      "\u001b[1;31mNameError\u001b[0m                                 Traceback (most recent call last)",
      "\u001b[1;32m<ipython-input-11-46a9a5753b1a>\u001b[0m in \u001b[0;36m<module>\u001b[1;34m\u001b[0m\n\u001b[1;32m----> 1\u001b[1;33m \u001b[0mtarget_df\u001b[0m \u001b[1;33m=\u001b[0m\u001b[0mdf\u001b[0m\u001b[1;33m[\u001b[0m\u001b[1;34m'Longitud Total'\u001b[0m\u001b[1;33m]\u001b[0m\u001b[1;33m\u001b[0m\u001b[1;33m\u001b[0m\u001b[0m\n\u001b[0m",
      "\u001b[1;31mNameError\u001b[0m: name 'df' is not defined"
     ]
    }
   ],
   "source": [
    "target_df =df['Longitud Total']"
   ]
  },
  {
   "cell_type": "code",
   "execution_count": 68,
   "metadata": {},
   "outputs": [
    {
     "ename": "AttributeError",
     "evalue": "'DataFrame' object has no attribute 'Longitud_total'",
     "output_type": "error",
     "traceback": [
      "\u001b[1;31m---------------------------------------------------------------------------\u001b[0m",
      "\u001b[1;31mAttributeError\u001b[0m                            Traceback (most recent call last)",
      "\u001b[1;32m<ipython-input-68-6a56682c2c2a>\u001b[0m in \u001b[0;36m<module>\u001b[1;34m\u001b[0m\n\u001b[1;32m----> 1\u001b[1;33m \u001b[0mdf\u001b[0m\u001b[1;33m.\u001b[0m\u001b[0mLongitud_total\u001b[0m\u001b[1;33m\u001b[0m\u001b[1;33m\u001b[0m\u001b[0m\n\u001b[0m",
      "\u001b[1;32m~\\AppData\\Local\\Continuum\\anaconda3\\lib\\site-packages\\pandas\\core\\generic.py\u001b[0m in \u001b[0;36m__getattr__\u001b[1;34m(self, name)\u001b[0m\n\u001b[0;32m   5177\u001b[0m             \u001b[1;32mif\u001b[0m \u001b[0mself\u001b[0m\u001b[1;33m.\u001b[0m\u001b[0m_info_axis\u001b[0m\u001b[1;33m.\u001b[0m\u001b[0m_can_hold_identifiers_and_holds_name\u001b[0m\u001b[1;33m(\u001b[0m\u001b[0mname\u001b[0m\u001b[1;33m)\u001b[0m\u001b[1;33m:\u001b[0m\u001b[1;33m\u001b[0m\u001b[1;33m\u001b[0m\u001b[0m\n\u001b[0;32m   5178\u001b[0m                 \u001b[1;32mreturn\u001b[0m \u001b[0mself\u001b[0m\u001b[1;33m[\u001b[0m\u001b[0mname\u001b[0m\u001b[1;33m]\u001b[0m\u001b[1;33m\u001b[0m\u001b[1;33m\u001b[0m\u001b[0m\n\u001b[1;32m-> 5179\u001b[1;33m             \u001b[1;32mreturn\u001b[0m \u001b[0mobject\u001b[0m\u001b[1;33m.\u001b[0m\u001b[0m__getattribute__\u001b[0m\u001b[1;33m(\u001b[0m\u001b[0mself\u001b[0m\u001b[1;33m,\u001b[0m \u001b[0mname\u001b[0m\u001b[1;33m)\u001b[0m\u001b[1;33m\u001b[0m\u001b[1;33m\u001b[0m\u001b[0m\n\u001b[0m\u001b[0;32m   5180\u001b[0m \u001b[1;33m\u001b[0m\u001b[0m\n\u001b[0;32m   5181\u001b[0m     \u001b[1;32mdef\u001b[0m \u001b[0m__setattr__\u001b[0m\u001b[1;33m(\u001b[0m\u001b[0mself\u001b[0m\u001b[1;33m,\u001b[0m \u001b[0mname\u001b[0m\u001b[1;33m,\u001b[0m \u001b[0mvalue\u001b[0m\u001b[1;33m)\u001b[0m\u001b[1;33m:\u001b[0m\u001b[1;33m\u001b[0m\u001b[1;33m\u001b[0m\u001b[0m\n",
      "\u001b[1;31mAttributeError\u001b[0m: 'DataFrame' object has no attribute 'Longitud_total'"
     ]
    }
   ],
   "source": [
    "df.Longitud_total\n"
   ]
  }
 ],
 "metadata": {
  "kernelspec": {
   "display_name": "Python 3",
   "language": "python",
   "name": "python3"
  },
  "language_info": {
   "codemirror_mode": {
    "name": "ipython",
    "version": 3
   },
   "file_extension": ".py",
   "mimetype": "text/x-python",
   "name": "python",
   "nbconvert_exporter": "python",
   "pygments_lexer": "ipython3",
   "version": "3.7.4"
  }
 },
 "nbformat": 4,
 "nbformat_minor": 4
}
